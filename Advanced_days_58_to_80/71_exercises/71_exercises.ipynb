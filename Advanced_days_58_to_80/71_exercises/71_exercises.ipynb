{
 "metadata": {
  "language_info": {
   "codemirror_mode": {
    "name": "ipython",
    "version": 3
   },
   "file_extension": ".py",
   "mimetype": "text/x-python",
   "name": "python",
   "nbconvert_exporter": "python",
   "pygments_lexer": "ipython3",
   "version": "3.8.5-final"
  },
  "orig_nbformat": 2,
  "kernelspec": {
   "name": "python38564bitvenvvenvc4ee417f99864e7cb4495779d6a42800",
   "display_name": "Python 3.8.5 64-bit ('venv': venv)",
   "language": "python"
  }
 },
 "nbformat": 4,
 "nbformat_minor": 2,
 "cells": [
  {
   "cell_type": "code",
   "execution_count": 10,
   "metadata": {},
   "outputs": [
    {
     "output_type": "stream",
     "name": "stdout",
     "text": [
      "Shape:\n(51, 6)\n******************************************\n\nDescribe:\n       Starting Median Salary  Mid-Career Median Salary  \\\ncount               50.000000                  50.00000   \nmean             44310.000000               74786.00000   \nstd               9360.866217               16088.40386   \nmin              34000.000000               52000.00000   \n25%              37050.000000               60825.00000   \n50%              40850.000000               72000.00000   \n75%              49875.000000               88750.00000   \nmax              74300.000000              107000.00000   \n\n       Mid-Career 10th Percentile Salary  Mid-Career 90th Percentile Salary  \ncount                          50.000000                          50.000000  \nmean                        43408.000000                      142766.000000  \nstd                         12000.779567                       27851.249267  \nmin                         26700.000000                       96400.000000  \n25%                         34825.000000                      124250.000000  \n50%                         39400.000000                      145500.000000  \n75%                         49850.000000                      161750.000000  \nmax                         71900.000000                      210000.000000  \n******************************************\n\nInfo: \n<class 'pandas.core.frame.DataFrame'>\nRangeIndex: 51 entries, 0 to 50\nData columns (total 6 columns):\n #   Column                             Non-Null Count  Dtype  \n---  ------                             --------------  -----  \n 0   Undergraduate Major                51 non-null     object \n 1   Starting Median Salary             50 non-null     float64\n 2   Mid-Career Median Salary           50 non-null     float64\n 3   Mid-Career 10th Percentile Salary  50 non-null     float64\n 4   Mid-Career 90th Percentile Salary  50 non-null     float64\n 5   Group                              50 non-null     object \ndtypes: float64(4), object(2)\nmemory usage: 2.5+ KB\nNone\n******************************************\n\nColumns: \nIndex(['Undergraduate Major', 'Starting Median Salary',\n       'Mid-Career Median Salary', 'Mid-Career 10th Percentile Salary',\n       'Mid-Career 90th Percentile Salary', 'Group'],\n      dtype='object')\n"
     ]
    }
   ],
   "source": [
    "import pandas as pd\n",
    "\n",
    "\n",
    "df = pd.read_csv('salaries_by_college_major.csv')\n",
    "\n",
    "print(\"Shape:\")\n",
    "print(df.shape)\n",
    "print(\"******************************************\")\n",
    "print(\"\")\n",
    "print(\"Describe:\")\n",
    "print(df.describe())\n",
    "print(\"******************************************\")\n",
    "print(\"\")\n",
    "print(\"Info: \")\n",
    "print(df.info())\n",
    "print(\"******************************************\")\n",
    "print(\"\")\n",
    "print(\"Columns: \")\n",
    "print(df.columns)"
   ]
  },
  {
   "cell_type": "code",
   "execution_count": 5,
   "metadata": {},
   "outputs": [
    {
     "output_type": "execute_result",
     "data": {
      "text/plain": [
       "Index(['Undergraduate Major', 'Starting Median Salary',\n",
       "       'Mid-Career Median Salary', 'Mid-Career 10th Percentile Salary',\n",
       "       'Mid-Career 90th Percentile Salary', 'Group'],\n",
       "      dtype='object')"
      ]
     },
     "metadata": {},
     "execution_count": 5
    }
   ],
   "source": [
    "print(\"isna: \")\n",
    "print(df.isna())\n",
    "print(\"******************************************\")\n",
    "print(\"\")"
   ]
  },
  {
   "cell_type": "code",
   "execution_count": null,
   "metadata": {},
   "outputs": [],
   "source": []
  }
 ]
}