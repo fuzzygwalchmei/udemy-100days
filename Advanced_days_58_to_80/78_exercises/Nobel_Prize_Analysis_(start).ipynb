{
  "nbformat": 4,
  "nbformat_minor": 0,
  "metadata": {
    "kernelspec": {
      "display_name": "Python 3.8.5 64-bit ('venv': venv)",
      "language": "python",
      "name": "python38564bitvenvvenvc4ee417f99864e7cb4495779d6a42800"
    },
    "language_info": {
      "codemirror_mode": {
        "name": "ipython",
        "version": 3
      },
      "file_extension": ".py",
      "mimetype": "text/x-python",
      "name": "python",
      "nbconvert_exporter": "python",
      "pygments_lexer": "ipython3",
      "version": "3.8.5-final"
    },
    "colab": {
      "name": "Nobel Prize Analysis (start).ipynb",
      "provenance": []
    }
  },
  "cells": [
    {
      "cell_type": "markdown",
      "metadata": {
        "id": "FuDxBL8UamHp"
      },
      "source": [
        "# Setup and Context"
      ]
    },
    {
      "cell_type": "markdown",
      "metadata": {
        "id": "9vYVhf9vo7LK"
      },
      "source": [
        "### Introduction\n",
        "\n",
        "On November 27, 1895, Alfred Nobel signed his last will in Paris. When it was opened after his death, the will caused a lot of controversy, as Nobel had left much of his wealth for the establishment of a prize.\n",
        "\n",
        "Alfred Nobel dictates that his entire remaining estate should be used to endow “prizes to those who, during the preceding year, have conferred the greatest benefit to humankind”.\n",
        "\n",
        "Every year the Nobel Prize is given to scientists and scholars in the categories chemistry, literature, physics, physiology or medicine, economics, and peace. \n",
        "\n",
        "<img src=https://i.imgur.com/36pCx5Q.jpg>\n",
        "\n",
        "Let's see what patterns we can find in the data of the past Nobel laureates. What can we learn about the Nobel prize and our world more generally?"
      ]
    },
    {
      "cell_type": "markdown",
      "metadata": {
        "id": "RaHW4kg0sZKP"
      },
      "source": [
        "### Upgrade plotly (only Google Colab Notebook)\n",
        "\n",
        "Google Colab may not be running the latest version of plotly. If you're working in Google Colab, uncomment the line below, run the cell, and restart your notebook server. "
      ]
    },
    {
      "cell_type": "code",
      "metadata": {
        "id": "od8BRWbAsGxS"
      },
      "source": [
        "# %pip install --upgrade plotly"
      ],
      "execution_count": null,
      "outputs": []
    },
    {
      "cell_type": "markdown",
      "metadata": {
        "id": "QPnGYVYyo7LK"
      },
      "source": [
        "### Import Statements"
      ]
    },
    {
      "cell_type": "code",
      "metadata": {
        "id": "dCIwm0dLo7LL"
      },
      "source": [
        "import pandas as pd\n",
        "import numpy as np\n",
        "import plotly.express as px\n",
        "import seaborn as sns\n",
        "import matplotlib.pyplot as plt"
      ],
      "execution_count": 1,
      "outputs": []
    },
    {
      "cell_type": "markdown",
      "metadata": {
        "id": "FcJY6qfNo7LN"
      },
      "source": [
        "### Notebook Presentation"
      ]
    },
    {
      "cell_type": "code",
      "metadata": {
        "id": "RjzC6BoMo7LO"
      },
      "source": [
        "pd.options.display.float_format = '{:,.2f}'.format"
      ],
      "execution_count": 2,
      "outputs": []
    },
    {
      "cell_type": "markdown",
      "metadata": {
        "id": "eoQ5Af4wo7LQ"
      },
      "source": [
        "### Read the Data"
      ]
    },
    {
      "cell_type": "code",
      "metadata": {
        "id": "EbVGyi7Eo7LQ"
      },
      "source": [
        "df_data = pd.read_csv('nobel_prize_data.csv')"
      ],
      "execution_count": 30,
      "outputs": []
    },
    {
      "cell_type": "markdown",
      "metadata": {
        "id": "XZzHD-1dKKbr"
      },
      "source": [
        "Caveats: The exact birth dates for Michael Houghton, Venkatraman Ramakrishnan, and Nadia Murad are unknown. I've substituted them with mid-year estimate of July 2nd. \n"
      ]
    },
    {
      "cell_type": "markdown",
      "metadata": {
        "id": "rYlGEluAo7LS"
      },
      "source": [
        "# Data Exploration & Cleaning\n",
        "\n",
        "**Challenge**: Preliminary data exploration. \n",
        "* What is the shape of `df_data`? How many rows and columns?\n",
        "* What are the column names?\n",
        "* In which year was the Nobel prize first awarded?\n",
        "* Which year is the latest year included in the dataset?"
      ]
    },
    {
      "cell_type": "code",
      "metadata": {
        "id": "4U-OQVRbFOu6"
      },
      "source": [
        "print(f'shape: {df_data.shape}')\n",
        "print(f'Column Names: {df_data.columns}')\n",
        "print(f'First Awarded: {df_data.year.min()}')\n",
        "print(f'Last Year in dataste: {df_data.year.max()}')"
      ],
      "execution_count": 10,
      "outputs": [
        {
          "output_type": "stream",
          "name": "stdout",
          "text": [
            "shape: (962, 16)\nColumn Names: Index(['year', 'category', 'prize', 'motivation', 'prize_share',\n       'laureate_type', 'full_name', 'birth_date', 'birth_city',\n       'birth_country', 'birth_country_current', 'sex', 'organization_name',\n       'organization_city', 'organization_country', 'ISO'],\n      dtype='object')\nFirst Awarded: 1901\nLast Year in dataste: 2020\n"
          ]
        }
      ]
    },
    {
      "cell_type": "code",
      "metadata": {
        "id": "Iy6cDcXAFOsV"
      },
      "source": [],
      "execution_count": null,
      "outputs": []
    },
    {
      "cell_type": "markdown",
      "metadata": {
        "id": "SjA1sZPPMH_Y"
      },
      "source": [
        "**Challange**: \n",
        "* Are there any duplicate values in the dataset?\n",
        "* Are there NaN values in the dataset?\n",
        "* Which columns tend to have NaN values?\n",
        "* How many NaN values are there per column? \n",
        "* Why do these columns have NaN values?  "
      ]
    },
    {
      "cell_type": "markdown",
      "metadata": {
        "id": "q1EuEZV7o7Lb"
      },
      "source": [
        "### Check for Duplicates"
      ]
    },
    {
      "cell_type": "code",
      "metadata": {
        "id": "v976ftCaFRFN"
      },
      "source": [
        "print(f'Duplicated?: {df_data.duplicated().any()}')\n",
        "\n",
        "\n"
      ],
      "execution_count": 20,
      "outputs": [
        {
          "output_type": "stream",
          "name": "stdout",
          "text": [
            "Duplicated?: False\n"
          ]
        }
      ]
    },
    {
      "cell_type": "code",
      "metadata": {
        "id": "gvpa0A0OFQ4z"
      },
      "source": [],
      "execution_count": null,
      "outputs": []
    },
    {
      "cell_type": "markdown",
      "metadata": {
        "id": "w69xDtpzo7Ld"
      },
      "source": [
        "### Check for NaN Values"
      ]
    },
    {
      "cell_type": "code",
      "metadata": {
        "id": "HgbI5sQNFStg"
      },
      "source": [
        "print(f'NAN?: {df_data.isna().values.any()}')"
      ],
      "execution_count": 22,
      "outputs": [
        {
          "output_type": "stream",
          "name": "stdout",
          "text": [
            "NAN?: True\n"
          ]
        }
      ]
    },
    {
      "cell_type": "code",
      "metadata": {
        "id": "O2zgruevFSyV"
      },
      "source": [
        "print(f'NAN count: {df_data.isna().sum()}')"
      ],
      "execution_count": 21,
      "outputs": [
        {
          "output_type": "stream",
          "name": "stdout",
          "text": [
            "NAN count: year                       0\ncategory                   0\nprize                      0\nmotivation                88\nprize_share                0\nlaureate_type              0\nfull_name                  0\nbirth_date                28\nbirth_city                31\nbirth_country             28\nbirth_country_current     28\nsex                       28\norganization_name        255\norganization_city        255\norganization_country     254\nISO                       28\ndtype: int64\n"
          ]
        }
      ]
    },
    {
      "cell_type": "code",
      "metadata": {
        "id": "aTU9T9xnFTQY"
      },
      "source": [],
      "execution_count": null,
      "outputs": []
    },
    {
      "cell_type": "code",
      "metadata": {
        "id": "0vxjq5N1FSwG"
      },
      "source": [],
      "execution_count": null,
      "outputs": []
    },
    {
      "cell_type": "code",
      "metadata": {
        "id": "ydO2iCjBFSq7"
      },
      "source": [],
      "execution_count": null,
      "outputs": []
    },
    {
      "cell_type": "markdown",
      "metadata": {
        "id": "ZyG18tKXo7Lj"
      },
      "source": [
        "### Type Conversions\n",
        "\n",
        "**Challenge**: \n",
        "* Convert the `birth_date` column to Pandas `Datetime` objects\n",
        "* Add a Column called `share_pct` which has the laureates' share as a percentage in the form of a floating-point number."
      ]
    },
    {
      "cell_type": "markdown",
      "metadata": {
        "id": "tTTFo-CXo7Lk"
      },
      "source": [
        "#### Convert Year and Birth Date to Datetime"
      ]
    },
    {
      "cell_type": "code",
      "metadata": {
        "id": "Jas4fWv4Fa4_"
      },
      "source": [
        "df_data.birth_date = pd.to_datetime(df_data.birth_date)"
      ],
      "execution_count": 32,
      "outputs": []
    },
    {
      "cell_type": "markdown",
      "metadata": {
        "id": "i456Gr0io7Lm"
      },
      "source": [
        "#### Add a Column with the Prize Share as a Percentage"
      ]
    },
    {
      "cell_type": "code",
      "metadata": {
        "id": "4BNug19-FdHP"
      },
      "source": [
        "sperated_values = df_data.prize_share.str.split('/', expand=True)\n",
        "df_data['shared_pct'] = pd.to_numeric(sperated_values[0])/pd.to_numeric(sperated_values[1])"
      ],
      "execution_count": 37,
      "outputs": []
    },
    {
      "cell_type": "code",
      "metadata": {
        "id": "RKZXiaO1Fc9v"
      },
      "source": [
        "df_data.head()"
      ],
      "execution_count": 38,
      "outputs": [
        {
          "output_type": "execute_result",
          "data": {
            "text/plain": [
              "   year    category                                           prize  \\\n",
              "0  1901   Chemistry               The Nobel Prize in Chemistry 1901   \n",
              "1  1901  Literature              The Nobel Prize in Literature 1901   \n",
              "2  1901    Medicine  The Nobel Prize in Physiology or Medicine 1901   \n",
              "3  1901       Peace                      The Nobel Peace Prize 1901   \n",
              "4  1901       Peace                      The Nobel Peace Prize 1901   \n",
              "\n",
              "                                          motivation prize_share  \\\n",
              "0  \"in recognition of the extraordinary services ...         1/1   \n",
              "1  \"in special recognition of his poetic composit...         1/1   \n",
              "2  \"for his work on serum therapy, especially its...         1/1   \n",
              "3                                                NaN         1/2   \n",
              "4                                                NaN         1/2   \n",
              "\n",
              "  laureate_type                     full_name birth_date         birth_city  \\\n",
              "0    Individual  Jacobus Henricus van 't Hoff 1852-08-30          Rotterdam   \n",
              "1    Individual               Sully Prudhomme 1839-03-16              Paris   \n",
              "2    Individual        Emil Adolf von Behring 1854-03-15  Hansdorf (Lawice)   \n",
              "3    Individual                Frédéric Passy 1822-05-20              Paris   \n",
              "4    Individual             Jean Henry Dunant 1828-05-08             Geneva   \n",
              "\n",
              "      birth_country birth_country_current   sex   organization_name  \\\n",
              "0       Netherlands           Netherlands  Male   Berlin University   \n",
              "1            France                France  Male                 NaN   \n",
              "2  Prussia (Poland)                Poland  Male  Marburg University   \n",
              "3            France                France  Male                 NaN   \n",
              "4       Switzerland           Switzerland  Male                 NaN   \n",
              "\n",
              "  organization_city organization_country  ISO  shared_pct  \n",
              "0            Berlin              Germany  NLD        1.00  \n",
              "1               NaN                  NaN  FRA        1.00  \n",
              "2           Marburg              Germany  POL        1.00  \n",
              "3               NaN                  NaN  FRA        0.50  \n",
              "4               NaN                  NaN  CHE        0.50  "
            ],
            "text/html": "<div>\n<style scoped>\n    .dataframe tbody tr th:only-of-type {\n        vertical-align: middle;\n    }\n\n    .dataframe tbody tr th {\n        vertical-align: top;\n    }\n\n    .dataframe thead th {\n        text-align: right;\n    }\n</style>\n<table border=\"1\" class=\"dataframe\">\n  <thead>\n    <tr style=\"text-align: right;\">\n      <th></th>\n      <th>year</th>\n      <th>category</th>\n      <th>prize</th>\n      <th>motivation</th>\n      <th>prize_share</th>\n      <th>laureate_type</th>\n      <th>full_name</th>\n      <th>birth_date</th>\n      <th>birth_city</th>\n      <th>birth_country</th>\n      <th>birth_country_current</th>\n      <th>sex</th>\n      <th>organization_name</th>\n      <th>organization_city</th>\n      <th>organization_country</th>\n      <th>ISO</th>\n      <th>shared_pct</th>\n    </tr>\n  </thead>\n  <tbody>\n    <tr>\n      <th>0</th>\n      <td>1901</td>\n      <td>Chemistry</td>\n      <td>The Nobel Prize in Chemistry 1901</td>\n      <td>\"in recognition of the extraordinary services ...</td>\n      <td>1/1</td>\n      <td>Individual</td>\n      <td>Jacobus Henricus van 't Hoff</td>\n      <td>1852-08-30</td>\n      <td>Rotterdam</td>\n      <td>Netherlands</td>\n      <td>Netherlands</td>\n      <td>Male</td>\n      <td>Berlin University</td>\n      <td>Berlin</td>\n      <td>Germany</td>\n      <td>NLD</td>\n      <td>1.00</td>\n    </tr>\n    <tr>\n      <th>1</th>\n      <td>1901</td>\n      <td>Literature</td>\n      <td>The Nobel Prize in Literature 1901</td>\n      <td>\"in special recognition of his poetic composit...</td>\n      <td>1/1</td>\n      <td>Individual</td>\n      <td>Sully Prudhomme</td>\n      <td>1839-03-16</td>\n      <td>Paris</td>\n      <td>France</td>\n      <td>France</td>\n      <td>Male</td>\n      <td>NaN</td>\n      <td>NaN</td>\n      <td>NaN</td>\n      <td>FRA</td>\n      <td>1.00</td>\n    </tr>\n    <tr>\n      <th>2</th>\n      <td>1901</td>\n      <td>Medicine</td>\n      <td>The Nobel Prize in Physiology or Medicine 1901</td>\n      <td>\"for his work on serum therapy, especially its...</td>\n      <td>1/1</td>\n      <td>Individual</td>\n      <td>Emil Adolf von Behring</td>\n      <td>1854-03-15</td>\n      <td>Hansdorf (Lawice)</td>\n      <td>Prussia (Poland)</td>\n      <td>Poland</td>\n      <td>Male</td>\n      <td>Marburg University</td>\n      <td>Marburg</td>\n      <td>Germany</td>\n      <td>POL</td>\n      <td>1.00</td>\n    </tr>\n    <tr>\n      <th>3</th>\n      <td>1901</td>\n      <td>Peace</td>\n      <td>The Nobel Peace Prize 1901</td>\n      <td>NaN</td>\n      <td>1/2</td>\n      <td>Individual</td>\n      <td>Frédéric Passy</td>\n      <td>1822-05-20</td>\n      <td>Paris</td>\n      <td>France</td>\n      <td>France</td>\n      <td>Male</td>\n      <td>NaN</td>\n      <td>NaN</td>\n      <td>NaN</td>\n      <td>FRA</td>\n      <td>0.50</td>\n    </tr>\n    <tr>\n      <th>4</th>\n      <td>1901</td>\n      <td>Peace</td>\n      <td>The Nobel Peace Prize 1901</td>\n      <td>NaN</td>\n      <td>1/2</td>\n      <td>Individual</td>\n      <td>Jean Henry Dunant</td>\n      <td>1828-05-08</td>\n      <td>Geneva</td>\n      <td>Switzerland</td>\n      <td>Switzerland</td>\n      <td>Male</td>\n      <td>NaN</td>\n      <td>NaN</td>\n      <td>NaN</td>\n      <td>CHE</td>\n      <td>0.50</td>\n    </tr>\n  </tbody>\n</table>\n</div>"
          },
          "metadata": {},
          "execution_count": 38
        }
      ]
    },
    {
      "cell_type": "markdown",
      "metadata": {
        "id": "-x571TLao7Lq"
      },
      "source": [
        "# Plotly Donut Chart: Percentage of Male vs. Female Laureates"
      ]
    },
    {
      "cell_type": "markdown",
      "metadata": {
        "id": "Q5jBv1lUo7Lq"
      },
      "source": [
        "**Challenge**: Create a [donut chart using plotly](https://plotly.com/python/pie-charts/) which shows how many prizes went to men compared to how many prizes went to women. What percentage of all the prizes went to women?"
      ]
    },
    {
      "cell_type": "code",
      "metadata": {
        "id": "wxTmkQd-Ff3Q"
      },
      "source": [
        "sexes = df_data.sex.value_counts()\n",
        "\n",
        "fig = px.pie(labels=sexes.index, values=biology.values, title='Male vs Female recipients', names=sexes.index, hole=0.5)\n",
        "fig.show()\n",
        "\n"
      ],
      "execution_count": 42,
      "outputs": [
        {
          "output_type": "display_data",
          "data": {
            "application/vnd.plotly.v1+json": {
              "config": {
                "plotlyServerURL": "https://plot.ly"
              },
              "data": [
                {
                  "domain": {
                    "x": [
                      0,
                      1
                    ],
                    "y": [
                      0,
                      1
                    ]
                  },
                  "hole": 0.5,
                  "hovertemplate": "label=%{label}<br>value=%{value}<extra></extra>",
                  "labels": [
                    "Male",
                    "Female"
                  ],
                  "legendgroup": "",
                  "name": "",
                  "showlegend": true,
                  "type": "pie",
                  "values": [
                    876,
                    58
                  ]
                }
              ],
              "layout": {
                "legend": {
                  "tracegroupgap": 0
                },
                "template": {
                  "data": {
                    "bar": [
                      {
                        "error_x": {
                          "color": "#2a3f5f"
                        },
                        "error_y": {
                          "color": "#2a3f5f"
                        },
                        "marker": {
                          "line": {
                            "color": "#E5ECF6",
                            "width": 0.5
                          }
                        },
                        "type": "bar"
                      }
                    ],
                    "barpolar": [
                      {
                        "marker": {
                          "line": {
                            "color": "#E5ECF6",
                            "width": 0.5
                          }
                        },
                        "type": "barpolar"
                      }
                    ],
                    "carpet": [
                      {
                        "aaxis": {
                          "endlinecolor": "#2a3f5f",
                          "gridcolor": "white",
                          "linecolor": "white",
                          "minorgridcolor": "white",
                          "startlinecolor": "#2a3f5f"
                        },
                        "baxis": {
                          "endlinecolor": "#2a3f5f",
                          "gridcolor": "white",
                          "linecolor": "white",
                          "minorgridcolor": "white",
                          "startlinecolor": "#2a3f5f"
                        },
                        "type": "carpet"
                      }
                    ],
                    "choropleth": [
                      {
                        "colorbar": {
                          "outlinewidth": 0,
                          "ticks": ""
                        },
                        "type": "choropleth"
                      }
                    ],
                    "contour": [
                      {
                        "colorbar": {
                          "outlinewidth": 0,
                          "ticks": ""
                        },
                        "colorscale": [
                          [
                            0,
                            "#0d0887"
                          ],
                          [
                            0.1111111111111111,
                            "#46039f"
                          ],
                          [
                            0.2222222222222222,
                            "#7201a8"
                          ],
                          [
                            0.3333333333333333,
                            "#9c179e"
                          ],
                          [
                            0.4444444444444444,
                            "#bd3786"
                          ],
                          [
                            0.5555555555555556,
                            "#d8576b"
                          ],
                          [
                            0.6666666666666666,
                            "#ed7953"
                          ],
                          [
                            0.7777777777777778,
                            "#fb9f3a"
                          ],
                          [
                            0.8888888888888888,
                            "#fdca26"
                          ],
                          [
                            1,
                            "#f0f921"
                          ]
                        ],
                        "type": "contour"
                      }
                    ],
                    "contourcarpet": [
                      {
                        "colorbar": {
                          "outlinewidth": 0,
                          "ticks": ""
                        },
                        "type": "contourcarpet"
                      }
                    ],
                    "heatmap": [
                      {
                        "colorbar": {
                          "outlinewidth": 0,
                          "ticks": ""
                        },
                        "colorscale": [
                          [
                            0,
                            "#0d0887"
                          ],
                          [
                            0.1111111111111111,
                            "#46039f"
                          ],
                          [
                            0.2222222222222222,
                            "#7201a8"
                          ],
                          [
                            0.3333333333333333,
                            "#9c179e"
                          ],
                          [
                            0.4444444444444444,
                            "#bd3786"
                          ],
                          [
                            0.5555555555555556,
                            "#d8576b"
                          ],
                          [
                            0.6666666666666666,
                            "#ed7953"
                          ],
                          [
                            0.7777777777777778,
                            "#fb9f3a"
                          ],
                          [
                            0.8888888888888888,
                            "#fdca26"
                          ],
                          [
                            1,
                            "#f0f921"
                          ]
                        ],
                        "type": "heatmap"
                      }
                    ],
                    "heatmapgl": [
                      {
                        "colorbar": {
                          "outlinewidth": 0,
                          "ticks": ""
                        },
                        "colorscale": [
                          [
                            0,
                            "#0d0887"
                          ],
                          [
                            0.1111111111111111,
                            "#46039f"
                          ],
                          [
                            0.2222222222222222,
                            "#7201a8"
                          ],
                          [
                            0.3333333333333333,
                            "#9c179e"
                          ],
                          [
                            0.4444444444444444,
                            "#bd3786"
                          ],
                          [
                            0.5555555555555556,
                            "#d8576b"
                          ],
                          [
                            0.6666666666666666,
                            "#ed7953"
                          ],
                          [
                            0.7777777777777778,
                            "#fb9f3a"
                          ],
                          [
                            0.8888888888888888,
                            "#fdca26"
                          ],
                          [
                            1,
                            "#f0f921"
                          ]
                        ],
                        "type": "heatmapgl"
                      }
                    ],
                    "histogram": [
                      {
                        "marker": {
                          "colorbar": {
                            "outlinewidth": 0,
                            "ticks": ""
                          }
                        },
                        "type": "histogram"
                      }
                    ],
                    "histogram2d": [
                      {
                        "colorbar": {
                          "outlinewidth": 0,
                          "ticks": ""
                        },
                        "colorscale": [
                          [
                            0,
                            "#0d0887"
                          ],
                          [
                            0.1111111111111111,
                            "#46039f"
                          ],
                          [
                            0.2222222222222222,
                            "#7201a8"
                          ],
                          [
                            0.3333333333333333,
                            "#9c179e"
                          ],
                          [
                            0.4444444444444444,
                            "#bd3786"
                          ],
                          [
                            0.5555555555555556,
                            "#d8576b"
                          ],
                          [
                            0.6666666666666666,
                            "#ed7953"
                          ],
                          [
                            0.7777777777777778,
                            "#fb9f3a"
                          ],
                          [
                            0.8888888888888888,
                            "#fdca26"
                          ],
                          [
                            1,
                            "#f0f921"
                          ]
                        ],
                        "type": "histogram2d"
                      }
                    ],
                    "histogram2dcontour": [
                      {
                        "colorbar": {
                          "outlinewidth": 0,
                          "ticks": ""
                        },
                        "colorscale": [
                          [
                            0,
                            "#0d0887"
                          ],
                          [
                            0.1111111111111111,
                            "#46039f"
                          ],
                          [
                            0.2222222222222222,
                            "#7201a8"
                          ],
                          [
                            0.3333333333333333,
                            "#9c179e"
                          ],
                          [
                            0.4444444444444444,
                            "#bd3786"
                          ],
                          [
                            0.5555555555555556,
                            "#d8576b"
                          ],
                          [
                            0.6666666666666666,
                            "#ed7953"
                          ],
                          [
                            0.7777777777777778,
                            "#fb9f3a"
                          ],
                          [
                            0.8888888888888888,
                            "#fdca26"
                          ],
                          [
                            1,
                            "#f0f921"
                          ]
                        ],
                        "type": "histogram2dcontour"
                      }
                    ],
                    "mesh3d": [
                      {
                        "colorbar": {
                          "outlinewidth": 0,
                          "ticks": ""
                        },
                        "type": "mesh3d"
                      }
                    ],
                    "parcoords": [
                      {
                        "line": {
                          "colorbar": {
                            "outlinewidth": 0,
                            "ticks": ""
                          }
                        },
                        "type": "parcoords"
                      }
                    ],
                    "pie": [
                      {
                        "automargin": true,
                        "type": "pie"
                      }
                    ],
                    "scatter": [
                      {
                        "marker": {
                          "colorbar": {
                            "outlinewidth": 0,
                            "ticks": ""
                          }
                        },
                        "type": "scatter"
                      }
                    ],
                    "scatter3d": [
                      {
                        "line": {
                          "colorbar": {
                            "outlinewidth": 0,
                            "ticks": ""
                          }
                        },
                        "marker": {
                          "colorbar": {
                            "outlinewidth": 0,
                            "ticks": ""
                          }
                        },
                        "type": "scatter3d"
                      }
                    ],
                    "scattercarpet": [
                      {
                        "marker": {
                          "colorbar": {
                            "outlinewidth": 0,
                            "ticks": ""
                          }
                        },
                        "type": "scattercarpet"
                      }
                    ],
                    "scattergeo": [
                      {
                        "marker": {
                          "colorbar": {
                            "outlinewidth": 0,
                            "ticks": ""
                          }
                        },
                        "type": "scattergeo"
                      }
                    ],
                    "scattergl": [
                      {
                        "marker": {
                          "colorbar": {
                            "outlinewidth": 0,
                            "ticks": ""
                          }
                        },
                        "type": "scattergl"
                      }
                    ],
                    "scattermapbox": [
                      {
                        "marker": {
                          "colorbar": {
                            "outlinewidth": 0,
                            "ticks": ""
                          }
                        },
                        "type": "scattermapbox"
                      }
                    ],
                    "scatterpolar": [
                      {
                        "marker": {
                          "colorbar": {
                            "outlinewidth": 0,
                            "ticks": ""
                          }
                        },
                        "type": "scatterpolar"
                      }
                    ],
                    "scatterpolargl": [
                      {
                        "marker": {
                          "colorbar": {
                            "outlinewidth": 0,
                            "ticks": ""
                          }
                        },
                        "type": "scatterpolargl"
                      }
                    ],
                    "scatterternary": [
                      {
                        "marker": {
                          "colorbar": {
                            "outlinewidth": 0,
                            "ticks": ""
                          }
                        },
                        "type": "scatterternary"
                      }
                    ],
                    "surface": [
                      {
                        "colorbar": {
                          "outlinewidth": 0,
                          "ticks": ""
                        },
                        "colorscale": [
                          [
                            0,
                            "#0d0887"
                          ],
                          [
                            0.1111111111111111,
                            "#46039f"
                          ],
                          [
                            0.2222222222222222,
                            "#7201a8"
                          ],
                          [
                            0.3333333333333333,
                            "#9c179e"
                          ],
                          [
                            0.4444444444444444,
                            "#bd3786"
                          ],
                          [
                            0.5555555555555556,
                            "#d8576b"
                          ],
                          [
                            0.6666666666666666,
                            "#ed7953"
                          ],
                          [
                            0.7777777777777778,
                            "#fb9f3a"
                          ],
                          [
                            0.8888888888888888,
                            "#fdca26"
                          ],
                          [
                            1,
                            "#f0f921"
                          ]
                        ],
                        "type": "surface"
                      }
                    ],
                    "table": [
                      {
                        "cells": {
                          "fill": {
                            "color": "#EBF0F8"
                          },
                          "line": {
                            "color": "white"
                          }
                        },
                        "header": {
                          "fill": {
                            "color": "#C8D4E3"
                          },
                          "line": {
                            "color": "white"
                          }
                        },
                        "type": "table"
                      }
                    ]
                  },
                  "layout": {
                    "annotationdefaults": {
                      "arrowcolor": "#2a3f5f",
                      "arrowhead": 0,
                      "arrowwidth": 1
                    },
                    "autotypenumbers": "strict",
                    "coloraxis": {
                      "colorbar": {
                        "outlinewidth": 0,
                        "ticks": ""
                      }
                    },
                    "colorscale": {
                      "diverging": [
                        [
                          0,
                          "#8e0152"
                        ],
                        [
                          0.1,
                          "#c51b7d"
                        ],
                        [
                          0.2,
                          "#de77ae"
                        ],
                        [
                          0.3,
                          "#f1b6da"
                        ],
                        [
                          0.4,
                          "#fde0ef"
                        ],
                        [
                          0.5,
                          "#f7f7f7"
                        ],
                        [
                          0.6,
                          "#e6f5d0"
                        ],
                        [
                          0.7,
                          "#b8e186"
                        ],
                        [
                          0.8,
                          "#7fbc41"
                        ],
                        [
                          0.9,
                          "#4d9221"
                        ],
                        [
                          1,
                          "#276419"
                        ]
                      ],
                      "sequential": [
                        [
                          0,
                          "#0d0887"
                        ],
                        [
                          0.1111111111111111,
                          "#46039f"
                        ],
                        [
                          0.2222222222222222,
                          "#7201a8"
                        ],
                        [
                          0.3333333333333333,
                          "#9c179e"
                        ],
                        [
                          0.4444444444444444,
                          "#bd3786"
                        ],
                        [
                          0.5555555555555556,
                          "#d8576b"
                        ],
                        [
                          0.6666666666666666,
                          "#ed7953"
                        ],
                        [
                          0.7777777777777778,
                          "#fb9f3a"
                        ],
                        [
                          0.8888888888888888,
                          "#fdca26"
                        ],
                        [
                          1,
                          "#f0f921"
                        ]
                      ],
                      "sequentialminus": [
                        [
                          0,
                          "#0d0887"
                        ],
                        [
                          0.1111111111111111,
                          "#46039f"
                        ],
                        [
                          0.2222222222222222,
                          "#7201a8"
                        ],
                        [
                          0.3333333333333333,
                          "#9c179e"
                        ],
                        [
                          0.4444444444444444,
                          "#bd3786"
                        ],
                        [
                          0.5555555555555556,
                          "#d8576b"
                        ],
                        [
                          0.6666666666666666,
                          "#ed7953"
                        ],
                        [
                          0.7777777777777778,
                          "#fb9f3a"
                        ],
                        [
                          0.8888888888888888,
                          "#fdca26"
                        ],
                        [
                          1,
                          "#f0f921"
                        ]
                      ]
                    },
                    "colorway": [
                      "#636efa",
                      "#EF553B",
                      "#00cc96",
                      "#ab63fa",
                      "#FFA15A",
                      "#19d3f3",
                      "#FF6692",
                      "#B6E880",
                      "#FF97FF",
                      "#FECB52"
                    ],
                    "font": {
                      "color": "#2a3f5f"
                    },
                    "geo": {
                      "bgcolor": "white",
                      "lakecolor": "white",
                      "landcolor": "#E5ECF6",
                      "showlakes": true,
                      "showland": true,
                      "subunitcolor": "white"
                    },
                    "hoverlabel": {
                      "align": "left"
                    },
                    "hovermode": "closest",
                    "mapbox": {
                      "style": "light"
                    },
                    "paper_bgcolor": "white",
                    "plot_bgcolor": "#E5ECF6",
                    "polar": {
                      "angularaxis": {
                        "gridcolor": "white",
                        "linecolor": "white",
                        "ticks": ""
                      },
                      "bgcolor": "#E5ECF6",
                      "radialaxis": {
                        "gridcolor": "white",
                        "linecolor": "white",
                        "ticks": ""
                      }
                    },
                    "scene": {
                      "xaxis": {
                        "backgroundcolor": "#E5ECF6",
                        "gridcolor": "white",
                        "gridwidth": 2,
                        "linecolor": "white",
                        "showbackground": true,
                        "ticks": "",
                        "zerolinecolor": "white"
                      },
                      "yaxis": {
                        "backgroundcolor": "#E5ECF6",
                        "gridcolor": "white",
                        "gridwidth": 2,
                        "linecolor": "white",
                        "showbackground": true,
                        "ticks": "",
                        "zerolinecolor": "white"
                      },
                      "zaxis": {
                        "backgroundcolor": "#E5ECF6",
                        "gridcolor": "white",
                        "gridwidth": 2,
                        "linecolor": "white",
                        "showbackground": true,
                        "ticks": "",
                        "zerolinecolor": "white"
                      }
                    },
                    "shapedefaults": {
                      "line": {
                        "color": "#2a3f5f"
                      }
                    },
                    "ternary": {
                      "aaxis": {
                        "gridcolor": "white",
                        "linecolor": "white",
                        "ticks": ""
                      },
                      "baxis": {
                        "gridcolor": "white",
                        "linecolor": "white",
                        "ticks": ""
                      },
                      "bgcolor": "#E5ECF6",
                      "caxis": {
                        "gridcolor": "white",
                        "linecolor": "white",
                        "ticks": ""
                      }
                    },
                    "title": {
                      "x": 0.05
                    },
                    "xaxis": {
                      "automargin": true,
                      "gridcolor": "white",
                      "linecolor": "white",
                      "ticks": "",
                      "title": {
                        "standoff": 15
                      },
                      "zerolinecolor": "white",
                      "zerolinewidth": 2
                    },
                    "yaxis": {
                      "automargin": true,
                      "gridcolor": "white",
                      "linecolor": "white",
                      "ticks": "",
                      "title": {
                        "standoff": 15
                      },
                      "zerolinecolor": "white",
                      "zerolinewidth": 2
                    }
                  }
                },
                "title": {
                  "text": "Male vs Female recipients"
                }
              }
            }
          },
          "metadata": {}
        }
      ]
    },
    {
      "cell_type": "code",
      "metadata": {
        "id": "qVJDd4uhFgGk"
      },
      "source": [],
      "execution_count": null,
      "outputs": []
    },
    {
      "cell_type": "markdown",
      "metadata": {
        "dc": {
          "key": "38"
        },
        "run_control": {
          "frozen": true
        },
        "tags": [
          "context"
        ],
        "id": "dmdB0tCko7Lu"
      },
      "source": [
        "# Who were the first 3 Women to Win the Nobel Prize?\n",
        "\n",
        "**Challenge**: \n",
        "* What are the names of the first 3 female Nobel laureates? \n",
        "* What did the win the prize for? \n",
        "* What do you see in their `birth_country`? Were they part of an organisation?"
      ]
    },
    {
      "cell_type": "code",
      "metadata": {
        "id": "nk5h-XFcFiJp"
      },
      "source": [
        "df_data[df_data.sex == 'Female'].head(3)"
      ],
      "execution_count": 45,
      "outputs": [
        {
          "output_type": "execute_result",
          "data": {
            "text/plain": [
              "    year    category                               prize  \\\n",
              "18  1903     Physics     The Nobel Prize in Physics 1903   \n",
              "29  1905       Peace          The Nobel Peace Prize 1905   \n",
              "51  1909  Literature  The Nobel Prize in Literature 1909   \n",
              "\n",
              "                                           motivation prize_share  \\\n",
              "18  \"in recognition of the extraordinary services ...         1/4   \n",
              "29                                                NaN         1/1   \n",
              "51  \"in appreciation of the lofty idealism, vivid ...         1/1   \n",
              "\n",
              "   laureate_type                                          full_name  \\\n",
              "18    Individual                        Marie Curie, née Sklodowska   \n",
              "29    Individual  Baroness Bertha Sophie Felicita von Suttner, n...   \n",
              "51    Individual                      Selma Ottilia Lovisa Lagerlöf   \n",
              "\n",
              "   birth_date birth_city                     birth_country  \\\n",
              "18 1867-11-07     Warsaw           Russian Empire (Poland)   \n",
              "29 1843-06-09     Prague  Austrian Empire (Czech Republic)   \n",
              "51 1858-11-20   Mårbacka                            Sweden   \n",
              "\n",
              "   birth_country_current     sex organization_name organization_city  \\\n",
              "18                Poland  Female               NaN               NaN   \n",
              "29        Czech Republic  Female               NaN               NaN   \n",
              "51                Sweden  Female               NaN               NaN   \n",
              "\n",
              "   organization_country  ISO  shared_pct  \n",
              "18                  NaN  POL        0.25  \n",
              "29                  NaN  CZE        1.00  \n",
              "51                  NaN  SWE        1.00  "
            ],
            "text/html": "<div>\n<style scoped>\n    .dataframe tbody tr th:only-of-type {\n        vertical-align: middle;\n    }\n\n    .dataframe tbody tr th {\n        vertical-align: top;\n    }\n\n    .dataframe thead th {\n        text-align: right;\n    }\n</style>\n<table border=\"1\" class=\"dataframe\">\n  <thead>\n    <tr style=\"text-align: right;\">\n      <th></th>\n      <th>year</th>\n      <th>category</th>\n      <th>prize</th>\n      <th>motivation</th>\n      <th>prize_share</th>\n      <th>laureate_type</th>\n      <th>full_name</th>\n      <th>birth_date</th>\n      <th>birth_city</th>\n      <th>birth_country</th>\n      <th>birth_country_current</th>\n      <th>sex</th>\n      <th>organization_name</th>\n      <th>organization_city</th>\n      <th>organization_country</th>\n      <th>ISO</th>\n      <th>shared_pct</th>\n    </tr>\n  </thead>\n  <tbody>\n    <tr>\n      <th>18</th>\n      <td>1903</td>\n      <td>Physics</td>\n      <td>The Nobel Prize in Physics 1903</td>\n      <td>\"in recognition of the extraordinary services ...</td>\n      <td>1/4</td>\n      <td>Individual</td>\n      <td>Marie Curie, née Sklodowska</td>\n      <td>1867-11-07</td>\n      <td>Warsaw</td>\n      <td>Russian Empire (Poland)</td>\n      <td>Poland</td>\n      <td>Female</td>\n      <td>NaN</td>\n      <td>NaN</td>\n      <td>NaN</td>\n      <td>POL</td>\n      <td>0.25</td>\n    </tr>\n    <tr>\n      <th>29</th>\n      <td>1905</td>\n      <td>Peace</td>\n      <td>The Nobel Peace Prize 1905</td>\n      <td>NaN</td>\n      <td>1/1</td>\n      <td>Individual</td>\n      <td>Baroness Bertha Sophie Felicita von Suttner, n...</td>\n      <td>1843-06-09</td>\n      <td>Prague</td>\n      <td>Austrian Empire (Czech Republic)</td>\n      <td>Czech Republic</td>\n      <td>Female</td>\n      <td>NaN</td>\n      <td>NaN</td>\n      <td>NaN</td>\n      <td>CZE</td>\n      <td>1.00</td>\n    </tr>\n    <tr>\n      <th>51</th>\n      <td>1909</td>\n      <td>Literature</td>\n      <td>The Nobel Prize in Literature 1909</td>\n      <td>\"in appreciation of the lofty idealism, vivid ...</td>\n      <td>1/1</td>\n      <td>Individual</td>\n      <td>Selma Ottilia Lovisa Lagerlöf</td>\n      <td>1858-11-20</td>\n      <td>Mårbacka</td>\n      <td>Sweden</td>\n      <td>Sweden</td>\n      <td>Female</td>\n      <td>NaN</td>\n      <td>NaN</td>\n      <td>NaN</td>\n      <td>SWE</td>\n      <td>1.00</td>\n    </tr>\n  </tbody>\n</table>\n</div>"
          },
          "metadata": {},
          "execution_count": 45
        }
      ]
    },
    {
      "cell_type": "code",
      "metadata": {
        "id": "fqBSGeNcFiBM"
      },
      "source": [],
      "execution_count": null,
      "outputs": []
    },
    {
      "cell_type": "markdown",
      "metadata": {
        "id": "dPVD_f1oo7Lw"
      },
      "source": [
        "# Find the Repeat Winners\n",
        "\n",
        "**Challenge**: Did some people get a Nobel Prize more than once? If so, who were they? "
      ]
    },
    {
      "cell_type": "code",
      "metadata": {
        "id": "Qqf8_dWUFjpz"
      },
      "source": [
        "winners_list = df_data.duplicated(subset=['full_name'], keep=False)\n",
        "multiple_wins = df_data[winners_list]\n",
        "multiple_wins.full_name.nunique()\n",
        "multiple_wins[['year', 'category', 'laureate_type', 'full_name']]"
      ],
      "execution_count": 49,
      "outputs": [
        {
          "output_type": "execute_result",
          "data": {
            "text/plain": [
              "     year   category laureate_type  \\\n",
              "18   1903    Physics    Individual   \n",
              "62   1911  Chemistry    Individual   \n",
              "89   1917      Peace  Organization   \n",
              "215  1944      Peace  Organization   \n",
              "278  1954  Chemistry    Individual   \n",
              "283  1954      Peace  Organization   \n",
              "297  1956    Physics    Individual   \n",
              "306  1958  Chemistry    Individual   \n",
              "340  1962      Peace    Individual   \n",
              "348  1963      Peace  Organization   \n",
              "424  1972    Physics    Individual   \n",
              "505  1980  Chemistry    Individual   \n",
              "523  1981      Peace  Organization   \n",
              "\n",
              "                                             full_name  \n",
              "18                         Marie Curie, née Sklodowska  \n",
              "62                         Marie Curie, née Sklodowska  \n",
              "89   Comité international de la Croix Rouge (Intern...  \n",
              "215  Comité international de la Croix Rouge (Intern...  \n",
              "278                                 Linus Carl Pauling  \n",
              "283  Office of the United Nations High Commissioner...  \n",
              "297                                       John Bardeen  \n",
              "306                                   Frederick Sanger  \n",
              "340                                 Linus Carl Pauling  \n",
              "348  Comité international de la Croix Rouge (Intern...  \n",
              "424                                       John Bardeen  \n",
              "505                                   Frederick Sanger  \n",
              "523  Office of the United Nations High Commissioner...  "
            ],
            "text/html": "<div>\n<style scoped>\n    .dataframe tbody tr th:only-of-type {\n        vertical-align: middle;\n    }\n\n    .dataframe tbody tr th {\n        vertical-align: top;\n    }\n\n    .dataframe thead th {\n        text-align: right;\n    }\n</style>\n<table border=\"1\" class=\"dataframe\">\n  <thead>\n    <tr style=\"text-align: right;\">\n      <th></th>\n      <th>year</th>\n      <th>category</th>\n      <th>laureate_type</th>\n      <th>full_name</th>\n    </tr>\n  </thead>\n  <tbody>\n    <tr>\n      <th>18</th>\n      <td>1903</td>\n      <td>Physics</td>\n      <td>Individual</td>\n      <td>Marie Curie, née Sklodowska</td>\n    </tr>\n    <tr>\n      <th>62</th>\n      <td>1911</td>\n      <td>Chemistry</td>\n      <td>Individual</td>\n      <td>Marie Curie, née Sklodowska</td>\n    </tr>\n    <tr>\n      <th>89</th>\n      <td>1917</td>\n      <td>Peace</td>\n      <td>Organization</td>\n      <td>Comité international de la Croix Rouge (Intern...</td>\n    </tr>\n    <tr>\n      <th>215</th>\n      <td>1944</td>\n      <td>Peace</td>\n      <td>Organization</td>\n      <td>Comité international de la Croix Rouge (Intern...</td>\n    </tr>\n    <tr>\n      <th>278</th>\n      <td>1954</td>\n      <td>Chemistry</td>\n      <td>Individual</td>\n      <td>Linus Carl Pauling</td>\n    </tr>\n    <tr>\n      <th>283</th>\n      <td>1954</td>\n      <td>Peace</td>\n      <td>Organization</td>\n      <td>Office of the United Nations High Commissioner...</td>\n    </tr>\n    <tr>\n      <th>297</th>\n      <td>1956</td>\n      <td>Physics</td>\n      <td>Individual</td>\n      <td>John Bardeen</td>\n    </tr>\n    <tr>\n      <th>306</th>\n      <td>1958</td>\n      <td>Chemistry</td>\n      <td>Individual</td>\n      <td>Frederick Sanger</td>\n    </tr>\n    <tr>\n      <th>340</th>\n      <td>1962</td>\n      <td>Peace</td>\n      <td>Individual</td>\n      <td>Linus Carl Pauling</td>\n    </tr>\n    <tr>\n      <th>348</th>\n      <td>1963</td>\n      <td>Peace</td>\n      <td>Organization</td>\n      <td>Comité international de la Croix Rouge (Intern...</td>\n    </tr>\n    <tr>\n      <th>424</th>\n      <td>1972</td>\n      <td>Physics</td>\n      <td>Individual</td>\n      <td>John Bardeen</td>\n    </tr>\n    <tr>\n      <th>505</th>\n      <td>1980</td>\n      <td>Chemistry</td>\n      <td>Individual</td>\n      <td>Frederick Sanger</td>\n    </tr>\n    <tr>\n      <th>523</th>\n      <td>1981</td>\n      <td>Peace</td>\n      <td>Organization</td>\n      <td>Office of the United Nations High Commissioner...</td>\n    </tr>\n  </tbody>\n</table>\n</div>"
          },
          "metadata": {},
          "execution_count": 49
        }
      ]
    },
    {
      "cell_type": "code",
      "metadata": {
        "id": "UuIqCxQvFjdF"
      },
      "source": [],
      "execution_count": null,
      "outputs": []
    },
    {
      "cell_type": "markdown",
      "metadata": {
        "dc": {
          "key": "45"
        },
        "tags": [
          "sample_code"
        ],
        "id": "x5NtE05go7L1"
      },
      "source": [
        "# Number of Prizes per Category\n",
        "\n",
        "**Challenge**: \n",
        "* In how many categories are prizes awarded? \n",
        "* Create a plotly bar chart with the number of prizes awarded by category. \n",
        "* Use the color scale called `Aggrnyl` to colour the chart, but don't show a color axis.\n",
        "* Which category has the most number of prizes awarded? \n",
        "* Which category has the fewest number of prizes awarded? "
      ]
    },
    {
      "cell_type": "code",
      "metadata": {
        "id": "EjwqH7bxFm10"
      },
      "source": [
        "per_cat = df_data.category.value_counts()\n",
        "\n",
        "v_bar = px.bar(\n",
        "    x = per_cat.index,\n",
        "    y = per_cat.values,\n",
        "    color = per_cat.values,\n",
        "    color_continuous_scale = 'Aggrnyl',\n",
        "    title = 'Number of Prizes per Category'\n",
        ")\n",
        "\n",
        "v_bar.update_layout(\n",
        "    xaxis_title = 'Nobel Category',\n",
        "    coloraxis_showscale = False,\n",
        "    yaxis_title = 'Count of Prizes'\n",
        ")\n",
        "v_bar.show()"
      ],
      "execution_count": 59,
      "outputs": [
        {
          "output_type": "display_data",
          "data": {
            "application/vnd.plotly.v1+json": {
              "config": {
                "plotlyServerURL": "https://plot.ly"
              },
              "data": [
                {
                  "alignmentgroup": "True",
                  "hovertemplate": "x=%{x}<br>y=%{y}<br>color=%{marker.color}<extra></extra>",
                  "legendgroup": "",
                  "marker": {
                    "color": [
                      222,
                      216,
                      186,
                      135,
                      117,
                      86
                    ],
                    "coloraxis": "coloraxis"
                  },
                  "name": "",
                  "offsetgroup": "",
                  "orientation": "v",
                  "showlegend": false,
                  "textposition": "auto",
                  "type": "bar",
                  "x": [
                    "Medicine",
                    "Physics",
                    "Chemistry",
                    "Peace",
                    "Literature",
                    "Economics"
                  ],
                  "xaxis": "x",
                  "y": [
                    222,
                    216,
                    186,
                    135,
                    117,
                    86
                  ],
                  "yaxis": "y"
                }
              ],
              "layout": {
                "barmode": "relative",
                "coloraxis": {
                  "colorbar": {
                    "title": {
                      "text": "color"
                    }
                  },
                  "colorscale": [
                    [
                      0,
                      "rgb(36, 86, 104)"
                    ],
                    [
                      0.16666666666666666,
                      "rgb(15, 114, 121)"
                    ],
                    [
                      0.3333333333333333,
                      "rgb(13, 143, 129)"
                    ],
                    [
                      0.5,
                      "rgb(57, 171, 126)"
                    ],
                    [
                      0.6666666666666666,
                      "rgb(110, 197, 116)"
                    ],
                    [
                      0.8333333333333334,
                      "rgb(169, 220, 103)"
                    ],
                    [
                      1,
                      "rgb(237, 239, 93)"
                    ]
                  ],
                  "showscale": false
                },
                "legend": {
                  "tracegroupgap": 0
                },
                "template": {
                  "data": {
                    "bar": [
                      {
                        "error_x": {
                          "color": "#2a3f5f"
                        },
                        "error_y": {
                          "color": "#2a3f5f"
                        },
                        "marker": {
                          "line": {
                            "color": "#E5ECF6",
                            "width": 0.5
                          }
                        },
                        "type": "bar"
                      }
                    ],
                    "barpolar": [
                      {
                        "marker": {
                          "line": {
                            "color": "#E5ECF6",
                            "width": 0.5
                          }
                        },
                        "type": "barpolar"
                      }
                    ],
                    "carpet": [
                      {
                        "aaxis": {
                          "endlinecolor": "#2a3f5f",
                          "gridcolor": "white",
                          "linecolor": "white",
                          "minorgridcolor": "white",
                          "startlinecolor": "#2a3f5f"
                        },
                        "baxis": {
                          "endlinecolor": "#2a3f5f",
                          "gridcolor": "white",
                          "linecolor": "white",
                          "minorgridcolor": "white",
                          "startlinecolor": "#2a3f5f"
                        },
                        "type": "carpet"
                      }
                    ],
                    "choropleth": [
                      {
                        "colorbar": {
                          "outlinewidth": 0,
                          "ticks": ""
                        },
                        "type": "choropleth"
                      }
                    ],
                    "contour": [
                      {
                        "colorbar": {
                          "outlinewidth": 0,
                          "ticks": ""
                        },
                        "colorscale": [
                          [
                            0,
                            "#0d0887"
                          ],
                          [
                            0.1111111111111111,
                            "#46039f"
                          ],
                          [
                            0.2222222222222222,
                            "#7201a8"
                          ],
                          [
                            0.3333333333333333,
                            "#9c179e"
                          ],
                          [
                            0.4444444444444444,
                            "#bd3786"
                          ],
                          [
                            0.5555555555555556,
                            "#d8576b"
                          ],
                          [
                            0.6666666666666666,
                            "#ed7953"
                          ],
                          [
                            0.7777777777777778,
                            "#fb9f3a"
                          ],
                          [
                            0.8888888888888888,
                            "#fdca26"
                          ],
                          [
                            1,
                            "#f0f921"
                          ]
                        ],
                        "type": "contour"
                      }
                    ],
                    "contourcarpet": [
                      {
                        "colorbar": {
                          "outlinewidth": 0,
                          "ticks": ""
                        },
                        "type": "contourcarpet"
                      }
                    ],
                    "heatmap": [
                      {
                        "colorbar": {
                          "outlinewidth": 0,
                          "ticks": ""
                        },
                        "colorscale": [
                          [
                            0,
                            "#0d0887"
                          ],
                          [
                            0.1111111111111111,
                            "#46039f"
                          ],
                          [
                            0.2222222222222222,
                            "#7201a8"
                          ],
                          [
                            0.3333333333333333,
                            "#9c179e"
                          ],
                          [
                            0.4444444444444444,
                            "#bd3786"
                          ],
                          [
                            0.5555555555555556,
                            "#d8576b"
                          ],
                          [
                            0.6666666666666666,
                            "#ed7953"
                          ],
                          [
                            0.7777777777777778,
                            "#fb9f3a"
                          ],
                          [
                            0.8888888888888888,
                            "#fdca26"
                          ],
                          [
                            1,
                            "#f0f921"
                          ]
                        ],
                        "type": "heatmap"
                      }
                    ],
                    "heatmapgl": [
                      {
                        "colorbar": {
                          "outlinewidth": 0,
                          "ticks": ""
                        },
                        "colorscale": [
                          [
                            0,
                            "#0d0887"
                          ],
                          [
                            0.1111111111111111,
                            "#46039f"
                          ],
                          [
                            0.2222222222222222,
                            "#7201a8"
                          ],
                          [
                            0.3333333333333333,
                            "#9c179e"
                          ],
                          [
                            0.4444444444444444,
                            "#bd3786"
                          ],
                          [
                            0.5555555555555556,
                            "#d8576b"
                          ],
                          [
                            0.6666666666666666,
                            "#ed7953"
                          ],
                          [
                            0.7777777777777778,
                            "#fb9f3a"
                          ],
                          [
                            0.8888888888888888,
                            "#fdca26"
                          ],
                          [
                            1,
                            "#f0f921"
                          ]
                        ],
                        "type": "heatmapgl"
                      }
                    ],
                    "histogram": [
                      {
                        "marker": {
                          "colorbar": {
                            "outlinewidth": 0,
                            "ticks": ""
                          }
                        },
                        "type": "histogram"
                      }
                    ],
                    "histogram2d": [
                      {
                        "colorbar": {
                          "outlinewidth": 0,
                          "ticks": ""
                        },
                        "colorscale": [
                          [
                            0,
                            "#0d0887"
                          ],
                          [
                            0.1111111111111111,
                            "#46039f"
                          ],
                          [
                            0.2222222222222222,
                            "#7201a8"
                          ],
                          [
                            0.3333333333333333,
                            "#9c179e"
                          ],
                          [
                            0.4444444444444444,
                            "#bd3786"
                          ],
                          [
                            0.5555555555555556,
                            "#d8576b"
                          ],
                          [
                            0.6666666666666666,
                            "#ed7953"
                          ],
                          [
                            0.7777777777777778,
                            "#fb9f3a"
                          ],
                          [
                            0.8888888888888888,
                            "#fdca26"
                          ],
                          [
                            1,
                            "#f0f921"
                          ]
                        ],
                        "type": "histogram2d"
                      }
                    ],
                    "histogram2dcontour": [
                      {
                        "colorbar": {
                          "outlinewidth": 0,
                          "ticks": ""
                        },
                        "colorscale": [
                          [
                            0,
                            "#0d0887"
                          ],
                          [
                            0.1111111111111111,
                            "#46039f"
                          ],
                          [
                            0.2222222222222222,
                            "#7201a8"
                          ],
                          [
                            0.3333333333333333,
                            "#9c179e"
                          ],
                          [
                            0.4444444444444444,
                            "#bd3786"
                          ],
                          [
                            0.5555555555555556,
                            "#d8576b"
                          ],
                          [
                            0.6666666666666666,
                            "#ed7953"
                          ],
                          [
                            0.7777777777777778,
                            "#fb9f3a"
                          ],
                          [
                            0.8888888888888888,
                            "#fdca26"
                          ],
                          [
                            1,
                            "#f0f921"
                          ]
                        ],
                        "type": "histogram2dcontour"
                      }
                    ],
                    "mesh3d": [
                      {
                        "colorbar": {
                          "outlinewidth": 0,
                          "ticks": ""
                        },
                        "type": "mesh3d"
                      }
                    ],
                    "parcoords": [
                      {
                        "line": {
                          "colorbar": {
                            "outlinewidth": 0,
                            "ticks": ""
                          }
                        },
                        "type": "parcoords"
                      }
                    ],
                    "pie": [
                      {
                        "automargin": true,
                        "type": "pie"
                      }
                    ],
                    "scatter": [
                      {
                        "marker": {
                          "colorbar": {
                            "outlinewidth": 0,
                            "ticks": ""
                          }
                        },
                        "type": "scatter"
                      }
                    ],
                    "scatter3d": [
                      {
                        "line": {
                          "colorbar": {
                            "outlinewidth": 0,
                            "ticks": ""
                          }
                        },
                        "marker": {
                          "colorbar": {
                            "outlinewidth": 0,
                            "ticks": ""
                          }
                        },
                        "type": "scatter3d"
                      }
                    ],
                    "scattercarpet": [
                      {
                        "marker": {
                          "colorbar": {
                            "outlinewidth": 0,
                            "ticks": ""
                          }
                        },
                        "type": "scattercarpet"
                      }
                    ],
                    "scattergeo": [
                      {
                        "marker": {
                          "colorbar": {
                            "outlinewidth": 0,
                            "ticks": ""
                          }
                        },
                        "type": "scattergeo"
                      }
                    ],
                    "scattergl": [
                      {
                        "marker": {
                          "colorbar": {
                            "outlinewidth": 0,
                            "ticks": ""
                          }
                        },
                        "type": "scattergl"
                      }
                    ],
                    "scattermapbox": [
                      {
                        "marker": {
                          "colorbar": {
                            "outlinewidth": 0,
                            "ticks": ""
                          }
                        },
                        "type": "scattermapbox"
                      }
                    ],
                    "scatterpolar": [
                      {
                        "marker": {
                          "colorbar": {
                            "outlinewidth": 0,
                            "ticks": ""
                          }
                        },
                        "type": "scatterpolar"
                      }
                    ],
                    "scatterpolargl": [
                      {
                        "marker": {
                          "colorbar": {
                            "outlinewidth": 0,
                            "ticks": ""
                          }
                        },
                        "type": "scatterpolargl"
                      }
                    ],
                    "scatterternary": [
                      {
                        "marker": {
                          "colorbar": {
                            "outlinewidth": 0,
                            "ticks": ""
                          }
                        },
                        "type": "scatterternary"
                      }
                    ],
                    "surface": [
                      {
                        "colorbar": {
                          "outlinewidth": 0,
                          "ticks": ""
                        },
                        "colorscale": [
                          [
                            0,
                            "#0d0887"
                          ],
                          [
                            0.1111111111111111,
                            "#46039f"
                          ],
                          [
                            0.2222222222222222,
                            "#7201a8"
                          ],
                          [
                            0.3333333333333333,
                            "#9c179e"
                          ],
                          [
                            0.4444444444444444,
                            "#bd3786"
                          ],
                          [
                            0.5555555555555556,
                            "#d8576b"
                          ],
                          [
                            0.6666666666666666,
                            "#ed7953"
                          ],
                          [
                            0.7777777777777778,
                            "#fb9f3a"
                          ],
                          [
                            0.8888888888888888,
                            "#fdca26"
                          ],
                          [
                            1,
                            "#f0f921"
                          ]
                        ],
                        "type": "surface"
                      }
                    ],
                    "table": [
                      {
                        "cells": {
                          "fill": {
                            "color": "#EBF0F8"
                          },
                          "line": {
                            "color": "white"
                          }
                        },
                        "header": {
                          "fill": {
                            "color": "#C8D4E3"
                          },
                          "line": {
                            "color": "white"
                          }
                        },
                        "type": "table"
                      }
                    ]
                  },
                  "layout": {
                    "annotationdefaults": {
                      "arrowcolor": "#2a3f5f",
                      "arrowhead": 0,
                      "arrowwidth": 1
                    },
                    "autotypenumbers": "strict",
                    "coloraxis": {
                      "colorbar": {
                        "outlinewidth": 0,
                        "ticks": ""
                      }
                    },
                    "colorscale": {
                      "diverging": [
                        [
                          0,
                          "#8e0152"
                        ],
                        [
                          0.1,
                          "#c51b7d"
                        ],
                        [
                          0.2,
                          "#de77ae"
                        ],
                        [
                          0.3,
                          "#f1b6da"
                        ],
                        [
                          0.4,
                          "#fde0ef"
                        ],
                        [
                          0.5,
                          "#f7f7f7"
                        ],
                        [
                          0.6,
                          "#e6f5d0"
                        ],
                        [
                          0.7,
                          "#b8e186"
                        ],
                        [
                          0.8,
                          "#7fbc41"
                        ],
                        [
                          0.9,
                          "#4d9221"
                        ],
                        [
                          1,
                          "#276419"
                        ]
                      ],
                      "sequential": [
                        [
                          0,
                          "#0d0887"
                        ],
                        [
                          0.1111111111111111,
                          "#46039f"
                        ],
                        [
                          0.2222222222222222,
                          "#7201a8"
                        ],
                        [
                          0.3333333333333333,
                          "#9c179e"
                        ],
                        [
                          0.4444444444444444,
                          "#bd3786"
                        ],
                        [
                          0.5555555555555556,
                          "#d8576b"
                        ],
                        [
                          0.6666666666666666,
                          "#ed7953"
                        ],
                        [
                          0.7777777777777778,
                          "#fb9f3a"
                        ],
                        [
                          0.8888888888888888,
                          "#fdca26"
                        ],
                        [
                          1,
                          "#f0f921"
                        ]
                      ],
                      "sequentialminus": [
                        [
                          0,
                          "#0d0887"
                        ],
                        [
                          0.1111111111111111,
                          "#46039f"
                        ],
                        [
                          0.2222222222222222,
                          "#7201a8"
                        ],
                        [
                          0.3333333333333333,
                          "#9c179e"
                        ],
                        [
                          0.4444444444444444,
                          "#bd3786"
                        ],
                        [
                          0.5555555555555556,
                          "#d8576b"
                        ],
                        [
                          0.6666666666666666,
                          "#ed7953"
                        ],
                        [
                          0.7777777777777778,
                          "#fb9f3a"
                        ],
                        [
                          0.8888888888888888,
                          "#fdca26"
                        ],
                        [
                          1,
                          "#f0f921"
                        ]
                      ]
                    },
                    "colorway": [
                      "#636efa",
                      "#EF553B",
                      "#00cc96",
                      "#ab63fa",
                      "#FFA15A",
                      "#19d3f3",
                      "#FF6692",
                      "#B6E880",
                      "#FF97FF",
                      "#FECB52"
                    ],
                    "font": {
                      "color": "#2a3f5f"
                    },
                    "geo": {
                      "bgcolor": "white",
                      "lakecolor": "white",
                      "landcolor": "#E5ECF6",
                      "showlakes": true,
                      "showland": true,
                      "subunitcolor": "white"
                    },
                    "hoverlabel": {
                      "align": "left"
                    },
                    "hovermode": "closest",
                    "mapbox": {
                      "style": "light"
                    },
                    "paper_bgcolor": "white",
                    "plot_bgcolor": "#E5ECF6",
                    "polar": {
                      "angularaxis": {
                        "gridcolor": "white",
                        "linecolor": "white",
                        "ticks": ""
                      },
                      "bgcolor": "#E5ECF6",
                      "radialaxis": {
                        "gridcolor": "white",
                        "linecolor": "white",
                        "ticks": ""
                      }
                    },
                    "scene": {
                      "xaxis": {
                        "backgroundcolor": "#E5ECF6",
                        "gridcolor": "white",
                        "gridwidth": 2,
                        "linecolor": "white",
                        "showbackground": true,
                        "ticks": "",
                        "zerolinecolor": "white"
                      },
                      "yaxis": {
                        "backgroundcolor": "#E5ECF6",
                        "gridcolor": "white",
                        "gridwidth": 2,
                        "linecolor": "white",
                        "showbackground": true,
                        "ticks": "",
                        "zerolinecolor": "white"
                      },
                      "zaxis": {
                        "backgroundcolor": "#E5ECF6",
                        "gridcolor": "white",
                        "gridwidth": 2,
                        "linecolor": "white",
                        "showbackground": true,
                        "ticks": "",
                        "zerolinecolor": "white"
                      }
                    },
                    "shapedefaults": {
                      "line": {
                        "color": "#2a3f5f"
                      }
                    },
                    "ternary": {
                      "aaxis": {
                        "gridcolor": "white",
                        "linecolor": "white",
                        "ticks": ""
                      },
                      "baxis": {
                        "gridcolor": "white",
                        "linecolor": "white",
                        "ticks": ""
                      },
                      "bgcolor": "#E5ECF6",
                      "caxis": {
                        "gridcolor": "white",
                        "linecolor": "white",
                        "ticks": ""
                      }
                    },
                    "title": {
                      "x": 0.05
                    },
                    "xaxis": {
                      "automargin": true,
                      "gridcolor": "white",
                      "linecolor": "white",
                      "ticks": "",
                      "title": {
                        "standoff": 15
                      },
                      "zerolinecolor": "white",
                      "zerolinewidth": 2
                    },
                    "yaxis": {
                      "automargin": true,
                      "gridcolor": "white",
                      "linecolor": "white",
                      "ticks": "",
                      "title": {
                        "standoff": 15
                      },
                      "zerolinecolor": "white",
                      "zerolinewidth": 2
                    }
                  }
                },
                "title": {
                  "text": "Number of Prizes per Category"
                },
                "xaxis": {
                  "anchor": "y",
                  "domain": [
                    0,
                    1
                  ],
                  "title": {
                    "text": "Nobel Category"
                  }
                },
                "yaxis": {
                  "anchor": "x",
                  "domain": [
                    0,
                    1
                  ],
                  "title": {
                    "text": "Count of Prizes"
                  }
                }
              }
            }
          },
          "metadata": {}
        }
      ]
    },
    {
      "cell_type": "code",
      "metadata": {
        "id": "BhweS8X1FmuL"
      },
      "source": [],
      "execution_count": null,
      "outputs": []
    },
    {
      "cell_type": "code",
      "metadata": {
        "id": "MDvvaUHiFoSS"
      },
      "source": [],
      "execution_count": null,
      "outputs": []
    },
    {
      "cell_type": "markdown",
      "metadata": {
        "id": "nlISAxfXo7L5"
      },
      "source": [
        "**Challenge**: \n",
        "* When was the first prize in the field of Economics awarded?\n",
        "* Who did the prize go to?"
      ]
    },
    {
      "cell_type": "code",
      "metadata": {
        "id": "ndzQ8lz6FpSG"
      },
      "source": [
        "first_year = df_data[df_data.category == 'Economics'].year.min()\n",
        "print(f'First year of Ecomomics: {first_year}')\n",
        "print('First year winners: ')\n",
        "df_data[(df_data.category == 'Economics') & (df_data.year == first_year)]"
      ],
      "execution_count": 62,
      "outputs": [
        {
          "output_type": "stream",
          "name": "stdout",
          "text": [
            "First year of Ecomomics: 1969\nFirst year winners: \n"
          ]
        },
        {
          "output_type": "execute_result",
          "data": {
            "text/plain": [
              "     year   category                                              prize  \\\n",
              "393  1969  Economics  The Sveriges Riksbank Prize in Economic Scienc...   \n",
              "394  1969  Economics  The Sveriges Riksbank Prize in Economic Scienc...   \n",
              "\n",
              "                                            motivation prize_share  \\\n",
              "393  \"for having developed and applied dynamic mode...         1/2   \n",
              "394  \"for having developed and applied dynamic mode...         1/2   \n",
              "\n",
              "    laureate_type      full_name birth_date birth_city birth_country  \\\n",
              "393    Individual  Jan Tinbergen 1903-04-12  the Hague   Netherlands   \n",
              "394    Individual  Ragnar Frisch 1895-03-03       Oslo        Norway   \n",
              "\n",
              "    birth_country_current   sex                    organization_name  \\\n",
              "393           Netherlands  Male  The Netherlands School of Economics   \n",
              "394                Norway  Male                   University of Oslo   \n",
              "\n",
              "    organization_city organization_country  ISO  shared_pct  \n",
              "393         Rotterdam          Netherlands  NLD        0.50  \n",
              "394              Oslo               Norway  NOR        0.50  "
            ],
            "text/html": "<div>\n<style scoped>\n    .dataframe tbody tr th:only-of-type {\n        vertical-align: middle;\n    }\n\n    .dataframe tbody tr th {\n        vertical-align: top;\n    }\n\n    .dataframe thead th {\n        text-align: right;\n    }\n</style>\n<table border=\"1\" class=\"dataframe\">\n  <thead>\n    <tr style=\"text-align: right;\">\n      <th></th>\n      <th>year</th>\n      <th>category</th>\n      <th>prize</th>\n      <th>motivation</th>\n      <th>prize_share</th>\n      <th>laureate_type</th>\n      <th>full_name</th>\n      <th>birth_date</th>\n      <th>birth_city</th>\n      <th>birth_country</th>\n      <th>birth_country_current</th>\n      <th>sex</th>\n      <th>organization_name</th>\n      <th>organization_city</th>\n      <th>organization_country</th>\n      <th>ISO</th>\n      <th>shared_pct</th>\n    </tr>\n  </thead>\n  <tbody>\n    <tr>\n      <th>393</th>\n      <td>1969</td>\n      <td>Economics</td>\n      <td>The Sveriges Riksbank Prize in Economic Scienc...</td>\n      <td>\"for having developed and applied dynamic mode...</td>\n      <td>1/2</td>\n      <td>Individual</td>\n      <td>Jan Tinbergen</td>\n      <td>1903-04-12</td>\n      <td>the Hague</td>\n      <td>Netherlands</td>\n      <td>Netherlands</td>\n      <td>Male</td>\n      <td>The Netherlands School of Economics</td>\n      <td>Rotterdam</td>\n      <td>Netherlands</td>\n      <td>NLD</td>\n      <td>0.50</td>\n    </tr>\n    <tr>\n      <th>394</th>\n      <td>1969</td>\n      <td>Economics</td>\n      <td>The Sveriges Riksbank Prize in Economic Scienc...</td>\n      <td>\"for having developed and applied dynamic mode...</td>\n      <td>1/2</td>\n      <td>Individual</td>\n      <td>Ragnar Frisch</td>\n      <td>1895-03-03</td>\n      <td>Oslo</td>\n      <td>Norway</td>\n      <td>Norway</td>\n      <td>Male</td>\n      <td>University of Oslo</td>\n      <td>Oslo</td>\n      <td>Norway</td>\n      <td>NOR</td>\n      <td>0.50</td>\n    </tr>\n  </tbody>\n</table>\n</div>"
          },
          "metadata": {},
          "execution_count": 62
        }
      ]
    },
    {
      "cell_type": "code",
      "metadata": {
        "id": "_7X079YUFpgn"
      },
      "source": [],
      "execution_count": null,
      "outputs": []
    },
    {
      "cell_type": "code",
      "metadata": {
        "id": "QFcoPbA8FpVK"
      },
      "source": [],
      "execution_count": null,
      "outputs": []
    },
    {
      "cell_type": "markdown",
      "metadata": {
        "dc": {
          "key": "31"
        },
        "run_control": {
          "frozen": true
        },
        "tags": [
          "context"
        ],
        "id": "COqMa0fIo7L7"
      },
      "source": [
        "# Male and Female Winners by Category\n",
        "\n",
        "**Challenge**: Create a [plotly bar chart](https://plotly.com/python/bar-charts/) that shows the split between men and women by category. \n",
        "* Hover over the bar chart. How many prizes went to women in Literature compared to Physics?\n",
        "\n",
        "<img src=https://i.imgur.com/od8TfOp.png width=650>"
      ]
    },
    {
      "cell_type": "code",
      "metadata": {
        "id": "5rm03TQmFrlk"
      },
      "source": [
        "mvf_by_cat = df_data.groupby(['category', 'sex'], as_index=False).agg({'prize': pd.Series.count})\n",
        "mvf_by_cat.sort_values('prize', ascending=False, inplace=True)\n",
        "mvf_by_cat"
      ],
      "execution_count": 72,
      "outputs": [
        {
          "output_type": "execute_result",
          "data": {
            "text/plain": [
              "      category     sex  prize\n",
              "11     Physics    Male    212\n",
              "7     Medicine    Male    210\n",
              "1    Chemistry    Male    179\n",
              "5   Literature    Male    101\n",
              "9        Peace    Male     90\n",
              "3    Economics    Male     84\n",
              "8        Peace  Female     17\n",
              "4   Literature  Female     16\n",
              "6     Medicine  Female     12\n",
              "0    Chemistry  Female      7\n",
              "10     Physics  Female      4\n",
              "2    Economics  Female      2"
            ],
            "text/html": "<div>\n<style scoped>\n    .dataframe tbody tr th:only-of-type {\n        vertical-align: middle;\n    }\n\n    .dataframe tbody tr th {\n        vertical-align: top;\n    }\n\n    .dataframe thead th {\n        text-align: right;\n    }\n</style>\n<table border=\"1\" class=\"dataframe\">\n  <thead>\n    <tr style=\"text-align: right;\">\n      <th></th>\n      <th>category</th>\n      <th>sex</th>\n      <th>prize</th>\n    </tr>\n  </thead>\n  <tbody>\n    <tr>\n      <th>11</th>\n      <td>Physics</td>\n      <td>Male</td>\n      <td>212</td>\n    </tr>\n    <tr>\n      <th>7</th>\n      <td>Medicine</td>\n      <td>Male</td>\n      <td>210</td>\n    </tr>\n    <tr>\n      <th>1</th>\n      <td>Chemistry</td>\n      <td>Male</td>\n      <td>179</td>\n    </tr>\n    <tr>\n      <th>5</th>\n      <td>Literature</td>\n      <td>Male</td>\n      <td>101</td>\n    </tr>\n    <tr>\n      <th>9</th>\n      <td>Peace</td>\n      <td>Male</td>\n      <td>90</td>\n    </tr>\n    <tr>\n      <th>3</th>\n      <td>Economics</td>\n      <td>Male</td>\n      <td>84</td>\n    </tr>\n    <tr>\n      <th>8</th>\n      <td>Peace</td>\n      <td>Female</td>\n      <td>17</td>\n    </tr>\n    <tr>\n      <th>4</th>\n      <td>Literature</td>\n      <td>Female</td>\n      <td>16</td>\n    </tr>\n    <tr>\n      <th>6</th>\n      <td>Medicine</td>\n      <td>Female</td>\n      <td>12</td>\n    </tr>\n    <tr>\n      <th>0</th>\n      <td>Chemistry</td>\n      <td>Female</td>\n      <td>7</td>\n    </tr>\n    <tr>\n      <th>10</th>\n      <td>Physics</td>\n      <td>Female</td>\n      <td>4</td>\n    </tr>\n    <tr>\n      <th>2</th>\n      <td>Economics</td>\n      <td>Female</td>\n      <td>2</td>\n    </tr>\n  </tbody>\n</table>\n</div>"
          },
          "metadata": {},
          "execution_count": 72
        }
      ]
    },
    {
      "cell_type": "code",
      "metadata": {
        "id": "XTrMUbBmFroT"
      },
      "source": [],
      "execution_count": null,
      "outputs": []
    },
    {
      "cell_type": "code",
      "metadata": {
        "id": "epWwbAi4FreH"
      },
      "source": [
        "bar_mvf = px.bar(\n",
        "    x = mvf_by_cat.category,\n",
        "    y = mvf_by_cat.prize,\n",
        "    color = mvf_by_cat.sex,\n",
        "    title = 'M vs F by category'\n",
        ")\n",
        "\n",
        "bar_mvf.update_layout(\n",
        "    xaxis_title = 'Category',\n",
        "    yaxis_title = 'Number of winners'\n",
        ")\n",
        "\n",
        "bar_mvf.show()"
      ],
      "execution_count": 74,
      "outputs": [
        {
          "output_type": "display_data",
          "data": {
            "application/vnd.plotly.v1+json": {
              "config": {
                "plotlyServerURL": "https://plot.ly"
              },
              "data": [
                {
                  "alignmentgroup": "True",
                  "hovertemplate": "color=Male<br>x=%{x}<br>y=%{y}<extra></extra>",
                  "legendgroup": "Male",
                  "marker": {
                    "color": "#636efa"
                  },
                  "name": "Male",
                  "offsetgroup": "Male",
                  "orientation": "v",
                  "showlegend": true,
                  "textposition": "auto",
                  "type": "bar",
                  "x": [
                    "Physics",
                    "Medicine",
                    "Chemistry",
                    "Literature",
                    "Peace",
                    "Economics"
                  ],
                  "xaxis": "x",
                  "y": [
                    212,
                    210,
                    179,
                    101,
                    90,
                    84
                  ],
                  "yaxis": "y"
                },
                {
                  "alignmentgroup": "True",
                  "hovertemplate": "color=Female<br>x=%{x}<br>y=%{y}<extra></extra>",
                  "legendgroup": "Female",
                  "marker": {
                    "color": "#EF553B"
                  },
                  "name": "Female",
                  "offsetgroup": "Female",
                  "orientation": "v",
                  "showlegend": true,
                  "textposition": "auto",
                  "type": "bar",
                  "x": [
                    "Peace",
                    "Literature",
                    "Medicine",
                    "Chemistry",
                    "Physics",
                    "Economics"
                  ],
                  "xaxis": "x",
                  "y": [
                    17,
                    16,
                    12,
                    7,
                    4,
                    2
                  ],
                  "yaxis": "y"
                }
              ],
              "layout": {
                "barmode": "relative",
                "legend": {
                  "title": {
                    "text": "color"
                  },
                  "tracegroupgap": 0
                },
                "template": {
                  "data": {
                    "bar": [
                      {
                        "error_x": {
                          "color": "#2a3f5f"
                        },
                        "error_y": {
                          "color": "#2a3f5f"
                        },
                        "marker": {
                          "line": {
                            "color": "#E5ECF6",
                            "width": 0.5
                          }
                        },
                        "type": "bar"
                      }
                    ],
                    "barpolar": [
                      {
                        "marker": {
                          "line": {
                            "color": "#E5ECF6",
                            "width": 0.5
                          }
                        },
                        "type": "barpolar"
                      }
                    ],
                    "carpet": [
                      {
                        "aaxis": {
                          "endlinecolor": "#2a3f5f",
                          "gridcolor": "white",
                          "linecolor": "white",
                          "minorgridcolor": "white",
                          "startlinecolor": "#2a3f5f"
                        },
                        "baxis": {
                          "endlinecolor": "#2a3f5f",
                          "gridcolor": "white",
                          "linecolor": "white",
                          "minorgridcolor": "white",
                          "startlinecolor": "#2a3f5f"
                        },
                        "type": "carpet"
                      }
                    ],
                    "choropleth": [
                      {
                        "colorbar": {
                          "outlinewidth": 0,
                          "ticks": ""
                        },
                        "type": "choropleth"
                      }
                    ],
                    "contour": [
                      {
                        "colorbar": {
                          "outlinewidth": 0,
                          "ticks": ""
                        },
                        "colorscale": [
                          [
                            0,
                            "#0d0887"
                          ],
                          [
                            0.1111111111111111,
                            "#46039f"
                          ],
                          [
                            0.2222222222222222,
                            "#7201a8"
                          ],
                          [
                            0.3333333333333333,
                            "#9c179e"
                          ],
                          [
                            0.4444444444444444,
                            "#bd3786"
                          ],
                          [
                            0.5555555555555556,
                            "#d8576b"
                          ],
                          [
                            0.6666666666666666,
                            "#ed7953"
                          ],
                          [
                            0.7777777777777778,
                            "#fb9f3a"
                          ],
                          [
                            0.8888888888888888,
                            "#fdca26"
                          ],
                          [
                            1,
                            "#f0f921"
                          ]
                        ],
                        "type": "contour"
                      }
                    ],
                    "contourcarpet": [
                      {
                        "colorbar": {
                          "outlinewidth": 0,
                          "ticks": ""
                        },
                        "type": "contourcarpet"
                      }
                    ],
                    "heatmap": [
                      {
                        "colorbar": {
                          "outlinewidth": 0,
                          "ticks": ""
                        },
                        "colorscale": [
                          [
                            0,
                            "#0d0887"
                          ],
                          [
                            0.1111111111111111,
                            "#46039f"
                          ],
                          [
                            0.2222222222222222,
                            "#7201a8"
                          ],
                          [
                            0.3333333333333333,
                            "#9c179e"
                          ],
                          [
                            0.4444444444444444,
                            "#bd3786"
                          ],
                          [
                            0.5555555555555556,
                            "#d8576b"
                          ],
                          [
                            0.6666666666666666,
                            "#ed7953"
                          ],
                          [
                            0.7777777777777778,
                            "#fb9f3a"
                          ],
                          [
                            0.8888888888888888,
                            "#fdca26"
                          ],
                          [
                            1,
                            "#f0f921"
                          ]
                        ],
                        "type": "heatmap"
                      }
                    ],
                    "heatmapgl": [
                      {
                        "colorbar": {
                          "outlinewidth": 0,
                          "ticks": ""
                        },
                        "colorscale": [
                          [
                            0,
                            "#0d0887"
                          ],
                          [
                            0.1111111111111111,
                            "#46039f"
                          ],
                          [
                            0.2222222222222222,
                            "#7201a8"
                          ],
                          [
                            0.3333333333333333,
                            "#9c179e"
                          ],
                          [
                            0.4444444444444444,
                            "#bd3786"
                          ],
                          [
                            0.5555555555555556,
                            "#d8576b"
                          ],
                          [
                            0.6666666666666666,
                            "#ed7953"
                          ],
                          [
                            0.7777777777777778,
                            "#fb9f3a"
                          ],
                          [
                            0.8888888888888888,
                            "#fdca26"
                          ],
                          [
                            1,
                            "#f0f921"
                          ]
                        ],
                        "type": "heatmapgl"
                      }
                    ],
                    "histogram": [
                      {
                        "marker": {
                          "colorbar": {
                            "outlinewidth": 0,
                            "ticks": ""
                          }
                        },
                        "type": "histogram"
                      }
                    ],
                    "histogram2d": [
                      {
                        "colorbar": {
                          "outlinewidth": 0,
                          "ticks": ""
                        },
                        "colorscale": [
                          [
                            0,
                            "#0d0887"
                          ],
                          [
                            0.1111111111111111,
                            "#46039f"
                          ],
                          [
                            0.2222222222222222,
                            "#7201a8"
                          ],
                          [
                            0.3333333333333333,
                            "#9c179e"
                          ],
                          [
                            0.4444444444444444,
                            "#bd3786"
                          ],
                          [
                            0.5555555555555556,
                            "#d8576b"
                          ],
                          [
                            0.6666666666666666,
                            "#ed7953"
                          ],
                          [
                            0.7777777777777778,
                            "#fb9f3a"
                          ],
                          [
                            0.8888888888888888,
                            "#fdca26"
                          ],
                          [
                            1,
                            "#f0f921"
                          ]
                        ],
                        "type": "histogram2d"
                      }
                    ],
                    "histogram2dcontour": [
                      {
                        "colorbar": {
                          "outlinewidth": 0,
                          "ticks": ""
                        },
                        "colorscale": [
                          [
                            0,
                            "#0d0887"
                          ],
                          [
                            0.1111111111111111,
                            "#46039f"
                          ],
                          [
                            0.2222222222222222,
                            "#7201a8"
                          ],
                          [
                            0.3333333333333333,
                            "#9c179e"
                          ],
                          [
                            0.4444444444444444,
                            "#bd3786"
                          ],
                          [
                            0.5555555555555556,
                            "#d8576b"
                          ],
                          [
                            0.6666666666666666,
                            "#ed7953"
                          ],
                          [
                            0.7777777777777778,
                            "#fb9f3a"
                          ],
                          [
                            0.8888888888888888,
                            "#fdca26"
                          ],
                          [
                            1,
                            "#f0f921"
                          ]
                        ],
                        "type": "histogram2dcontour"
                      }
                    ],
                    "mesh3d": [
                      {
                        "colorbar": {
                          "outlinewidth": 0,
                          "ticks": ""
                        },
                        "type": "mesh3d"
                      }
                    ],
                    "parcoords": [
                      {
                        "line": {
                          "colorbar": {
                            "outlinewidth": 0,
                            "ticks": ""
                          }
                        },
                        "type": "parcoords"
                      }
                    ],
                    "pie": [
                      {
                        "automargin": true,
                        "type": "pie"
                      }
                    ],
                    "scatter": [
                      {
                        "marker": {
                          "colorbar": {
                            "outlinewidth": 0,
                            "ticks": ""
                          }
                        },
                        "type": "scatter"
                      }
                    ],
                    "scatter3d": [
                      {
                        "line": {
                          "colorbar": {
                            "outlinewidth": 0,
                            "ticks": ""
                          }
                        },
                        "marker": {
                          "colorbar": {
                            "outlinewidth": 0,
                            "ticks": ""
                          }
                        },
                        "type": "scatter3d"
                      }
                    ],
                    "scattercarpet": [
                      {
                        "marker": {
                          "colorbar": {
                            "outlinewidth": 0,
                            "ticks": ""
                          }
                        },
                        "type": "scattercarpet"
                      }
                    ],
                    "scattergeo": [
                      {
                        "marker": {
                          "colorbar": {
                            "outlinewidth": 0,
                            "ticks": ""
                          }
                        },
                        "type": "scattergeo"
                      }
                    ],
                    "scattergl": [
                      {
                        "marker": {
                          "colorbar": {
                            "outlinewidth": 0,
                            "ticks": ""
                          }
                        },
                        "type": "scattergl"
                      }
                    ],
                    "scattermapbox": [
                      {
                        "marker": {
                          "colorbar": {
                            "outlinewidth": 0,
                            "ticks": ""
                          }
                        },
                        "type": "scattermapbox"
                      }
                    ],
                    "scatterpolar": [
                      {
                        "marker": {
                          "colorbar": {
                            "outlinewidth": 0,
                            "ticks": ""
                          }
                        },
                        "type": "scatterpolar"
                      }
                    ],
                    "scatterpolargl": [
                      {
                        "marker": {
                          "colorbar": {
                            "outlinewidth": 0,
                            "ticks": ""
                          }
                        },
                        "type": "scatterpolargl"
                      }
                    ],
                    "scatterternary": [
                      {
                        "marker": {
                          "colorbar": {
                            "outlinewidth": 0,
                            "ticks": ""
                          }
                        },
                        "type": "scatterternary"
                      }
                    ],
                    "surface": [
                      {
                        "colorbar": {
                          "outlinewidth": 0,
                          "ticks": ""
                        },
                        "colorscale": [
                          [
                            0,
                            "#0d0887"
                          ],
                          [
                            0.1111111111111111,
                            "#46039f"
                          ],
                          [
                            0.2222222222222222,
                            "#7201a8"
                          ],
                          [
                            0.3333333333333333,
                            "#9c179e"
                          ],
                          [
                            0.4444444444444444,
                            "#bd3786"
                          ],
                          [
                            0.5555555555555556,
                            "#d8576b"
                          ],
                          [
                            0.6666666666666666,
                            "#ed7953"
                          ],
                          [
                            0.7777777777777778,
                            "#fb9f3a"
                          ],
                          [
                            0.8888888888888888,
                            "#fdca26"
                          ],
                          [
                            1,
                            "#f0f921"
                          ]
                        ],
                        "type": "surface"
                      }
                    ],
                    "table": [
                      {
                        "cells": {
                          "fill": {
                            "color": "#EBF0F8"
                          },
                          "line": {
                            "color": "white"
                          }
                        },
                        "header": {
                          "fill": {
                            "color": "#C8D4E3"
                          },
                          "line": {
                            "color": "white"
                          }
                        },
                        "type": "table"
                      }
                    ]
                  },
                  "layout": {
                    "annotationdefaults": {
                      "arrowcolor": "#2a3f5f",
                      "arrowhead": 0,
                      "arrowwidth": 1
                    },
                    "autotypenumbers": "strict",
                    "coloraxis": {
                      "colorbar": {
                        "outlinewidth": 0,
                        "ticks": ""
                      }
                    },
                    "colorscale": {
                      "diverging": [
                        [
                          0,
                          "#8e0152"
                        ],
                        [
                          0.1,
                          "#c51b7d"
                        ],
                        [
                          0.2,
                          "#de77ae"
                        ],
                        [
                          0.3,
                          "#f1b6da"
                        ],
                        [
                          0.4,
                          "#fde0ef"
                        ],
                        [
                          0.5,
                          "#f7f7f7"
                        ],
                        [
                          0.6,
                          "#e6f5d0"
                        ],
                        [
                          0.7,
                          "#b8e186"
                        ],
                        [
                          0.8,
                          "#7fbc41"
                        ],
                        [
                          0.9,
                          "#4d9221"
                        ],
                        [
                          1,
                          "#276419"
                        ]
                      ],
                      "sequential": [
                        [
                          0,
                          "#0d0887"
                        ],
                        [
                          0.1111111111111111,
                          "#46039f"
                        ],
                        [
                          0.2222222222222222,
                          "#7201a8"
                        ],
                        [
                          0.3333333333333333,
                          "#9c179e"
                        ],
                        [
                          0.4444444444444444,
                          "#bd3786"
                        ],
                        [
                          0.5555555555555556,
                          "#d8576b"
                        ],
                        [
                          0.6666666666666666,
                          "#ed7953"
                        ],
                        [
                          0.7777777777777778,
                          "#fb9f3a"
                        ],
                        [
                          0.8888888888888888,
                          "#fdca26"
                        ],
                        [
                          1,
                          "#f0f921"
                        ]
                      ],
                      "sequentialminus": [
                        [
                          0,
                          "#0d0887"
                        ],
                        [
                          0.1111111111111111,
                          "#46039f"
                        ],
                        [
                          0.2222222222222222,
                          "#7201a8"
                        ],
                        [
                          0.3333333333333333,
                          "#9c179e"
                        ],
                        [
                          0.4444444444444444,
                          "#bd3786"
                        ],
                        [
                          0.5555555555555556,
                          "#d8576b"
                        ],
                        [
                          0.6666666666666666,
                          "#ed7953"
                        ],
                        [
                          0.7777777777777778,
                          "#fb9f3a"
                        ],
                        [
                          0.8888888888888888,
                          "#fdca26"
                        ],
                        [
                          1,
                          "#f0f921"
                        ]
                      ]
                    },
                    "colorway": [
                      "#636efa",
                      "#EF553B",
                      "#00cc96",
                      "#ab63fa",
                      "#FFA15A",
                      "#19d3f3",
                      "#FF6692",
                      "#B6E880",
                      "#FF97FF",
                      "#FECB52"
                    ],
                    "font": {
                      "color": "#2a3f5f"
                    },
                    "geo": {
                      "bgcolor": "white",
                      "lakecolor": "white",
                      "landcolor": "#E5ECF6",
                      "showlakes": true,
                      "showland": true,
                      "subunitcolor": "white"
                    },
                    "hoverlabel": {
                      "align": "left"
                    },
                    "hovermode": "closest",
                    "mapbox": {
                      "style": "light"
                    },
                    "paper_bgcolor": "white",
                    "plot_bgcolor": "#E5ECF6",
                    "polar": {
                      "angularaxis": {
                        "gridcolor": "white",
                        "linecolor": "white",
                        "ticks": ""
                      },
                      "bgcolor": "#E5ECF6",
                      "radialaxis": {
                        "gridcolor": "white",
                        "linecolor": "white",
                        "ticks": ""
                      }
                    },
                    "scene": {
                      "xaxis": {
                        "backgroundcolor": "#E5ECF6",
                        "gridcolor": "white",
                        "gridwidth": 2,
                        "linecolor": "white",
                        "showbackground": true,
                        "ticks": "",
                        "zerolinecolor": "white"
                      },
                      "yaxis": {
                        "backgroundcolor": "#E5ECF6",
                        "gridcolor": "white",
                        "gridwidth": 2,
                        "linecolor": "white",
                        "showbackground": true,
                        "ticks": "",
                        "zerolinecolor": "white"
                      },
                      "zaxis": {
                        "backgroundcolor": "#E5ECF6",
                        "gridcolor": "white",
                        "gridwidth": 2,
                        "linecolor": "white",
                        "showbackground": true,
                        "ticks": "",
                        "zerolinecolor": "white"
                      }
                    },
                    "shapedefaults": {
                      "line": {
                        "color": "#2a3f5f"
                      }
                    },
                    "ternary": {
                      "aaxis": {
                        "gridcolor": "white",
                        "linecolor": "white",
                        "ticks": ""
                      },
                      "baxis": {
                        "gridcolor": "white",
                        "linecolor": "white",
                        "ticks": ""
                      },
                      "bgcolor": "#E5ECF6",
                      "caxis": {
                        "gridcolor": "white",
                        "linecolor": "white",
                        "ticks": ""
                      }
                    },
                    "title": {
                      "x": 0.05
                    },
                    "xaxis": {
                      "automargin": true,
                      "gridcolor": "white",
                      "linecolor": "white",
                      "ticks": "",
                      "title": {
                        "standoff": 15
                      },
                      "zerolinecolor": "white",
                      "zerolinewidth": 2
                    },
                    "yaxis": {
                      "automargin": true,
                      "gridcolor": "white",
                      "linecolor": "white",
                      "ticks": "",
                      "title": {
                        "standoff": 15
                      },
                      "zerolinecolor": "white",
                      "zerolinewidth": 2
                    }
                  }
                },
                "title": {
                  "text": "M vs F by category"
                },
                "xaxis": {
                  "anchor": "y",
                  "domain": [
                    0,
                    1
                  ],
                  "title": {
                    "text": "Category"
                  }
                },
                "yaxis": {
                  "anchor": "x",
                  "domain": [
                    0,
                    1
                  ],
                  "title": {
                    "text": "Number of winners"
                  }
                }
              }
            }
          },
          "metadata": {}
        }
      ]
    },
    {
      "cell_type": "markdown",
      "metadata": {
        "id": "CpHaV-ZDo7MD"
      },
      "source": [
        "# Number of Prizes Awarded Over Time\n",
        "\n",
        "**Challenge**: Are more prizes awarded recently than when the prize was first created? Show the trend in awards visually. \n",
        "* Count the number of prizes awarded every year. \n",
        "* Create a 5 year rolling average of the number of prizes (Hint: see previous lessons analysing Google Trends).\n",
        "* Using Matplotlib superimpose the rolling average on a scatter plot.\n",
        "* Show a tick mark on the x-axis for every 5 years from 1900 to 2020. (Hint: you'll need to use NumPy). \n",
        "\n",
        "<img src=https://i.imgur.com/4jqYuWC.png width=650>\n",
        "\n",
        "* Use the [named colours](https://matplotlib.org/3.1.0/gallery/color/named_colors.html) to draw the data points in `dogerblue` while the rolling average is coloured in `crimson`. \n",
        "\n",
        "<img src=https://i.imgur.com/u3RlcJn.png width=350>\n",
        "\n",
        "* Looking at the chart, did the first and second world wars have an impact on the number of prizes being given out? \n",
        "* What could be the reason for the trend in the chart?\n"
      ]
    },
    {
      "cell_type": "code",
      "metadata": {
        "id": "gD316Xp5Ftsj"
      },
      "source": [
        "per_year = df_data.groupby(by='year').count().prize\n",
        "per_year"
      ],
      "execution_count": 76,
      "outputs": [
        {
          "output_type": "execute_result",
          "data": {
            "text/plain": [
              "year\n",
              "1901     6\n",
              "1902     7\n",
              "1903     7\n",
              "1904     6\n",
              "1905     5\n",
              "        ..\n",
              "2016    11\n",
              "2017    12\n",
              "2018    13\n",
              "2019    14\n",
              "2020    12\n",
              "Name: prize, Length: 117, dtype: int64"
            ]
          },
          "metadata": {},
          "execution_count": 76
        }
      ]
    },
    {
      "cell_type": "code",
      "metadata": {
        "id": "Jjm3G7VHFtx1"
      },
      "source": [
        "moving_avg = per_year.rolling(window=5).mean()"
      ],
      "execution_count": 77,
      "outputs": []
    },
    {
      "cell_type": "code",
      "metadata": {
        "id": "NgVzgknLFtvP"
      },
      "source": [
        "plt.scatter(\n",
        "    x = per_year.index,\n",
        "    y = per_year.values,\n",
        "    c = 'dodgerblue',\n",
        "    alpha = 0.7,\n",
        "    s = 100\n",
        ")\n",
        "\n",
        "plt.plot(\n",
        "    per_year.index,\n",
        "    moving_avg.values,\n",
        "    c = 'crimson',\n",
        "    linewidth = 3\n",
        ")\n",
        "\n",
        "plt.show()"
      ],
      "execution_count": 78,
      "outputs": [
        {
          "output_type": "display_data",
          "data": {
            "text/plain": "<Figure size 432x288 with 1 Axes>",
            "image/svg+xml": "<?xml version=\"1.0\" encoding=\"utf-8\" standalone=\"no\"?>\n<!DOCTYPE svg PUBLIC \"-//W3C//DTD SVG 1.1//EN\"\n  \"http://www.w3.org/Graphics/SVG/1.1/DTD/svg11.dtd\">\n<!-- Created with matplotlib (https://matplotlib.org/) -->\n<svg height=\"248.518125pt\" version=\"1.1\" viewBox=\"0 0 368.925 248.518125\" width=\"368.925pt\" xmlns=\"http://www.w3.org/2000/svg\" xmlns:xlink=\"http://www.w3.org/1999/xlink\">\n <metadata>\n  <rdf:RDF xmlns:cc=\"http://creativecommons.org/ns#\" xmlns:dc=\"http://purl.org/dc/elements/1.1/\" xmlns:rdf=\"http://www.w3.org/1999/02/22-rdf-syntax-ns#\">\n   <cc:Work>\n    <dc:type rdf:resource=\"http://purl.org/dc/dcmitype/StillImage\"/>\n    <dc:date>2021-02-16T17:14:25.251798</dc:date>\n    <dc:format>image/svg+xml</dc:format>\n    <dc:creator>\n     <cc:Agent>\n      <dc:title>Matplotlib v3.3.4, https://matplotlib.org/</dc:title>\n     </cc:Agent>\n    </dc:creator>\n   </cc:Work>\n  </rdf:RDF>\n </metadata>\n <defs>\n  <style type=\"text/css\">*{stroke-linecap:butt;stroke-linejoin:round;}</style>\n </defs>\n <g id=\"figure_1\">\n  <g id=\"patch_1\">\n   <path d=\"M -0 248.518125 \nL 368.925 248.518125 \nL 368.925 0 \nL -0 0 \nz\n\" style=\"fill:none;\"/>\n  </g>\n  <g id=\"axes_1\">\n   <g id=\"patch_2\">\n    <path d=\"M 26.925 224.64 \nL 361.725 224.64 \nL 361.725 7.2 \nL 26.925 7.2 \nz\n\" style=\"fill:#ffffff;\"/>\n   </g>\n   <g id=\"PathCollection_1\">\n    <defs>\n     <path d=\"M 0 5 \nC 1.326016 5 2.597899 4.473168 3.535534 3.535534 \nC 4.473168 2.597899 5 1.326016 5 0 \nC 5 -1.326016 4.473168 -2.597899 3.535534 -3.535534 \nC 2.597899 -4.473168 1.326016 -5 0 -5 \nC -1.326016 -5 -2.597899 -4.473168 -3.535534 -3.535534 \nC -4.473168 -2.597899 -5 -1.326016 -5 0 \nC -5 1.326016 -4.473168 2.597899 -3.535534 3.535534 \nC -2.597899 4.473168 -1.326016 5 0 5 \nz\n\" id=\"mefc4eeeb86\" style=\"stroke:#1e90ff;stroke-opacity:0.7;\"/>\n    </defs>\n    <g clip-path=\"url(#p9e6a4f070d)\">\n     <use style=\"fill:#1e90ff;fill-opacity:0.7;stroke:#1e90ff;stroke-opacity:0.7;\" x=\"42.143182\" xlink:href=\"#mefc4eeeb86\" y=\"144.158961\"/>\n     <use style=\"fill:#1e90ff;fill-opacity:0.7;stroke:#1e90ff;stroke-opacity:0.7;\" x=\"44.700859\" xlink:href=\"#mefc4eeeb86\" y=\"130.039481\"/>\n     <use style=\"fill:#1e90ff;fill-opacity:0.7;stroke:#1e90ff;stroke-opacity:0.7;\" x=\"47.258537\" xlink:href=\"#mefc4eeeb86\" y=\"130.039481\"/>\n     <use style=\"fill:#1e90ff;fill-opacity:0.7;stroke:#1e90ff;stroke-opacity:0.7;\" x=\"49.816215\" xlink:href=\"#mefc4eeeb86\" y=\"144.158961\"/>\n     <use style=\"fill:#1e90ff;fill-opacity:0.7;stroke:#1e90ff;stroke-opacity:0.7;\" x=\"52.373892\" xlink:href=\"#mefc4eeeb86\" y=\"158.278442\"/>\n     <use style=\"fill:#1e90ff;fill-opacity:0.7;stroke:#1e90ff;stroke-opacity:0.7;\" x=\"54.93157\" xlink:href=\"#mefc4eeeb86\" y=\"144.158961\"/>\n     <use style=\"fill:#1e90ff;fill-opacity:0.7;stroke:#1e90ff;stroke-opacity:0.7;\" x=\"57.489248\" xlink:href=\"#mefc4eeeb86\" y=\"144.158961\"/>\n     <use style=\"fill:#1e90ff;fill-opacity:0.7;stroke:#1e90ff;stroke-opacity:0.7;\" x=\"60.046925\" xlink:href=\"#mefc4eeeb86\" y=\"130.039481\"/>\n     <use style=\"fill:#1e90ff;fill-opacity:0.7;stroke:#1e90ff;stroke-opacity:0.7;\" x=\"62.604603\" xlink:href=\"#mefc4eeeb86\" y=\"130.039481\"/>\n     <use style=\"fill:#1e90ff;fill-opacity:0.7;stroke:#1e90ff;stroke-opacity:0.7;\" x=\"65.16228\" xlink:href=\"#mefc4eeeb86\" y=\"158.278442\"/>\n     <use style=\"fill:#1e90ff;fill-opacity:0.7;stroke:#1e90ff;stroke-opacity:0.7;\" x=\"67.719958\" xlink:href=\"#mefc4eeeb86\" y=\"144.158961\"/>\n     <use style=\"fill:#1e90ff;fill-opacity:0.7;stroke:#1e90ff;stroke-opacity:0.7;\" x=\"70.277636\" xlink:href=\"#mefc4eeeb86\" y=\"144.158961\"/>\n     <use style=\"fill:#1e90ff;fill-opacity:0.7;stroke:#1e90ff;stroke-opacity:0.7;\" x=\"72.835313\" xlink:href=\"#mefc4eeeb86\" y=\"158.278442\"/>\n     <use style=\"fill:#1e90ff;fill-opacity:0.7;stroke:#1e90ff;stroke-opacity:0.7;\" x=\"75.392991\" xlink:href=\"#mefc4eeeb86\" y=\"186.517403\"/>\n     <use style=\"fill:#1e90ff;fill-opacity:0.7;stroke:#1e90ff;stroke-opacity:0.7;\" x=\"77.950668\" xlink:href=\"#mefc4eeeb86\" y=\"172.397922\"/>\n     <use style=\"fill:#1e90ff;fill-opacity:0.7;stroke:#1e90ff;stroke-opacity:0.7;\" x=\"80.508346\" xlink:href=\"#mefc4eeeb86\" y=\"214.756364\"/>\n     <use style=\"fill:#1e90ff;fill-opacity:0.7;stroke:#1e90ff;stroke-opacity:0.7;\" x=\"83.066024\" xlink:href=\"#mefc4eeeb86\" y=\"172.397922\"/>\n     <use style=\"fill:#1e90ff;fill-opacity:0.7;stroke:#1e90ff;stroke-opacity:0.7;\" x=\"85.623701\" xlink:href=\"#mefc4eeeb86\" y=\"200.636883\"/>\n     <use style=\"fill:#1e90ff;fill-opacity:0.7;stroke:#1e90ff;stroke-opacity:0.7;\" x=\"88.181379\" xlink:href=\"#mefc4eeeb86\" y=\"172.397922\"/>\n     <use style=\"fill:#1e90ff;fill-opacity:0.7;stroke:#1e90ff;stroke-opacity:0.7;\" x=\"90.739057\" xlink:href=\"#mefc4eeeb86\" y=\"158.278442\"/>\n     <use style=\"fill:#1e90ff;fill-opacity:0.7;stroke:#1e90ff;stroke-opacity:0.7;\" x=\"93.296734\" xlink:href=\"#mefc4eeeb86\" y=\"158.278442\"/>\n     <use style=\"fill:#1e90ff;fill-opacity:0.7;stroke:#1e90ff;stroke-opacity:0.7;\" x=\"95.854412\" xlink:href=\"#mefc4eeeb86\" y=\"144.158961\"/>\n     <use style=\"fill:#1e90ff;fill-opacity:0.7;stroke:#1e90ff;stroke-opacity:0.7;\" x=\"98.412089\" xlink:href=\"#mefc4eeeb86\" y=\"158.278442\"/>\n     <use style=\"fill:#1e90ff;fill-opacity:0.7;stroke:#1e90ff;stroke-opacity:0.7;\" x=\"100.969767\" xlink:href=\"#mefc4eeeb86\" y=\"186.517403\"/>\n     <use style=\"fill:#1e90ff;fill-opacity:0.7;stroke:#1e90ff;stroke-opacity:0.7;\" x=\"103.527445\" xlink:href=\"#mefc4eeeb86\" y=\"144.158961\"/>\n     <use style=\"fill:#1e90ff;fill-opacity:0.7;stroke:#1e90ff;stroke-opacity:0.7;\" x=\"106.085122\" xlink:href=\"#mefc4eeeb86\" y=\"144.158961\"/>\n     <use style=\"fill:#1e90ff;fill-opacity:0.7;stroke:#1e90ff;stroke-opacity:0.7;\" x=\"108.6428\" xlink:href=\"#mefc4eeeb86\" y=\"130.039481\"/>\n     <use style=\"fill:#1e90ff;fill-opacity:0.7;stroke:#1e90ff;stroke-opacity:0.7;\" x=\"111.200477\" xlink:href=\"#mefc4eeeb86\" y=\"172.397922\"/>\n     <use style=\"fill:#1e90ff;fill-opacity:0.7;stroke:#1e90ff;stroke-opacity:0.7;\" x=\"113.758155\" xlink:href=\"#mefc4eeeb86\" y=\"130.039481\"/>\n     <use style=\"fill:#1e90ff;fill-opacity:0.7;stroke:#1e90ff;stroke-opacity:0.7;\" x=\"116.315833\" xlink:href=\"#mefc4eeeb86\" y=\"158.278442\"/>\n     <use style=\"fill:#1e90ff;fill-opacity:0.7;stroke:#1e90ff;stroke-opacity:0.7;\" x=\"118.87351\" xlink:href=\"#mefc4eeeb86\" y=\"144.158961\"/>\n     <use style=\"fill:#1e90ff;fill-opacity:0.7;stroke:#1e90ff;stroke-opacity:0.7;\" x=\"121.431188\" xlink:href=\"#mefc4eeeb86\" y=\"158.278442\"/>\n     <use style=\"fill:#1e90ff;fill-opacity:0.7;stroke:#1e90ff;stroke-opacity:0.7;\" x=\"123.988866\" xlink:href=\"#mefc4eeeb86\" y=\"158.278442\"/>\n     <use style=\"fill:#1e90ff;fill-opacity:0.7;stroke:#1e90ff;stroke-opacity:0.7;\" x=\"126.546543\" xlink:href=\"#mefc4eeeb86\" y=\"144.158961\"/>\n     <use style=\"fill:#1e90ff;fill-opacity:0.7;stroke:#1e90ff;stroke-opacity:0.7;\" x=\"129.104221\" xlink:href=\"#mefc4eeeb86\" y=\"158.278442\"/>\n     <use style=\"fill:#1e90ff;fill-opacity:0.7;stroke:#1e90ff;stroke-opacity:0.7;\" x=\"131.661898\" xlink:href=\"#mefc4eeeb86\" y=\"130.039481\"/>\n     <use style=\"fill:#1e90ff;fill-opacity:0.7;stroke:#1e90ff;stroke-opacity:0.7;\" x=\"134.219576\" xlink:href=\"#mefc4eeeb86\" y=\"130.039481\"/>\n     <use style=\"fill:#1e90ff;fill-opacity:0.7;stroke:#1e90ff;stroke-opacity:0.7;\" x=\"136.777254\" xlink:href=\"#mefc4eeeb86\" y=\"158.278442\"/>\n     <use style=\"fill:#1e90ff;fill-opacity:0.7;stroke:#1e90ff;stroke-opacity:0.7;\" x=\"139.334931\" xlink:href=\"#mefc4eeeb86\" y=\"158.278442\"/>\n     <use style=\"fill:#1e90ff;fill-opacity:0.7;stroke:#1e90ff;stroke-opacity:0.7;\" x=\"149.565642\" xlink:href=\"#mefc4eeeb86\" y=\"172.397922\"/>\n     <use style=\"fill:#1e90ff;fill-opacity:0.7;stroke:#1e90ff;stroke-opacity:0.7;\" x=\"152.123319\" xlink:href=\"#mefc4eeeb86\" y=\"144.158961\"/>\n     <use style=\"fill:#1e90ff;fill-opacity:0.7;stroke:#1e90ff;stroke-opacity:0.7;\" x=\"154.680997\" xlink:href=\"#mefc4eeeb86\" y=\"130.039481\"/>\n     <use style=\"fill:#1e90ff;fill-opacity:0.7;stroke:#1e90ff;stroke-opacity:0.7;\" x=\"157.238675\" xlink:href=\"#mefc4eeeb86\" y=\"115.92\"/>\n     <use style=\"fill:#1e90ff;fill-opacity:0.7;stroke:#1e90ff;stroke-opacity:0.7;\" x=\"159.796352\" xlink:href=\"#mefc4eeeb86\" y=\"115.92\"/>\n     <use style=\"fill:#1e90ff;fill-opacity:0.7;stroke:#1e90ff;stroke-opacity:0.7;\" x=\"162.35403\" xlink:href=\"#mefc4eeeb86\" y=\"172.397922\"/>\n     <use style=\"fill:#1e90ff;fill-opacity:0.7;stroke:#1e90ff;stroke-opacity:0.7;\" x=\"164.911707\" xlink:href=\"#mefc4eeeb86\" y=\"144.158961\"/>\n     <use style=\"fill:#1e90ff;fill-opacity:0.7;stroke:#1e90ff;stroke-opacity:0.7;\" x=\"167.469385\" xlink:href=\"#mefc4eeeb86\" y=\"115.92\"/>\n     <use style=\"fill:#1e90ff;fill-opacity:0.7;stroke:#1e90ff;stroke-opacity:0.7;\" x=\"170.027063\" xlink:href=\"#mefc4eeeb86\" y=\"130.039481\"/>\n     <use style=\"fill:#1e90ff;fill-opacity:0.7;stroke:#1e90ff;stroke-opacity:0.7;\" x=\"172.58474\" xlink:href=\"#mefc4eeeb86\" y=\"130.039481\"/>\n     <use style=\"fill:#1e90ff;fill-opacity:0.7;stroke:#1e90ff;stroke-opacity:0.7;\" x=\"175.142418\" xlink:href=\"#mefc4eeeb86\" y=\"144.158961\"/>\n     <use style=\"fill:#1e90ff;fill-opacity:0.7;stroke:#1e90ff;stroke-opacity:0.7;\" x=\"177.700095\" xlink:href=\"#mefc4eeeb86\" y=\"115.92\"/>\n     <use style=\"fill:#1e90ff;fill-opacity:0.7;stroke:#1e90ff;stroke-opacity:0.7;\" x=\"180.257773\" xlink:href=\"#mefc4eeeb86\" y=\"158.278442\"/>\n     <use style=\"fill:#1e90ff;fill-opacity:0.7;stroke:#1e90ff;stroke-opacity:0.7;\" x=\"182.815451\" xlink:href=\"#mefc4eeeb86\" y=\"101.800519\"/>\n     <use style=\"fill:#1e90ff;fill-opacity:0.7;stroke:#1e90ff;stroke-opacity:0.7;\" x=\"185.373128\" xlink:href=\"#mefc4eeeb86\" y=\"144.158961\"/>\n     <use style=\"fill:#1e90ff;fill-opacity:0.7;stroke:#1e90ff;stroke-opacity:0.7;\" x=\"187.930806\" xlink:href=\"#mefc4eeeb86\" y=\"101.800519\"/>\n     <use style=\"fill:#1e90ff;fill-opacity:0.7;stroke:#1e90ff;stroke-opacity:0.7;\" x=\"190.488484\" xlink:href=\"#mefc4eeeb86\" y=\"130.039481\"/>\n     <use style=\"fill:#1e90ff;fill-opacity:0.7;stroke:#1e90ff;stroke-opacity:0.7;\" x=\"193.046161\" xlink:href=\"#mefc4eeeb86\" y=\"144.158961\"/>\n     <use style=\"fill:#1e90ff;fill-opacity:0.7;stroke:#1e90ff;stroke-opacity:0.7;\" x=\"195.603839\" xlink:href=\"#mefc4eeeb86\" y=\"144.158961\"/>\n     <use style=\"fill:#1e90ff;fill-opacity:0.7;stroke:#1e90ff;stroke-opacity:0.7;\" x=\"198.161516\" xlink:href=\"#mefc4eeeb86\" y=\"115.92\"/>\n     <use style=\"fill:#1e90ff;fill-opacity:0.7;stroke:#1e90ff;stroke-opacity:0.7;\" x=\"200.719194\" xlink:href=\"#mefc4eeeb86\" y=\"73.561558\"/>\n     <use style=\"fill:#1e90ff;fill-opacity:0.7;stroke:#1e90ff;stroke-opacity:0.7;\" x=\"203.276872\" xlink:href=\"#mefc4eeeb86\" y=\"115.92\"/>\n     <use style=\"fill:#1e90ff;fill-opacity:0.7;stroke:#1e90ff;stroke-opacity:0.7;\" x=\"205.834549\" xlink:href=\"#mefc4eeeb86\" y=\"101.800519\"/>\n     <use style=\"fill:#1e90ff;fill-opacity:0.7;stroke:#1e90ff;stroke-opacity:0.7;\" x=\"208.392227\" xlink:href=\"#mefc4eeeb86\" y=\"144.158961\"/>\n     <use style=\"fill:#1e90ff;fill-opacity:0.7;stroke:#1e90ff;stroke-opacity:0.7;\" x=\"210.949905\" xlink:href=\"#mefc4eeeb86\" y=\"115.92\"/>\n     <use style=\"fill:#1e90ff;fill-opacity:0.7;stroke:#1e90ff;stroke-opacity:0.7;\" x=\"213.507582\" xlink:href=\"#mefc4eeeb86\" y=\"130.039481\"/>\n     <use style=\"fill:#1e90ff;fill-opacity:0.7;stroke:#1e90ff;stroke-opacity:0.7;\" x=\"216.06526\" xlink:href=\"#mefc4eeeb86\" y=\"87.681039\"/>\n     <use style=\"fill:#1e90ff;fill-opacity:0.7;stroke:#1e90ff;stroke-opacity:0.7;\" x=\"218.622937\" xlink:href=\"#mefc4eeeb86\" y=\"101.800519\"/>\n     <use style=\"fill:#1e90ff;fill-opacity:0.7;stroke:#1e90ff;stroke-opacity:0.7;\" x=\"221.180615\" xlink:href=\"#mefc4eeeb86\" y=\"144.158961\"/>\n     <use style=\"fill:#1e90ff;fill-opacity:0.7;stroke:#1e90ff;stroke-opacity:0.7;\" x=\"223.738293\" xlink:href=\"#mefc4eeeb86\" y=\"73.561558\"/>\n     <use style=\"fill:#1e90ff;fill-opacity:0.7;stroke:#1e90ff;stroke-opacity:0.7;\" x=\"226.29597\" xlink:href=\"#mefc4eeeb86\" y=\"59.442078\"/>\n     <use style=\"fill:#1e90ff;fill-opacity:0.7;stroke:#1e90ff;stroke-opacity:0.7;\" x=\"228.853648\" xlink:href=\"#mefc4eeeb86\" y=\"59.442078\"/>\n     <use style=\"fill:#1e90ff;fill-opacity:0.7;stroke:#1e90ff;stroke-opacity:0.7;\" x=\"231.411325\" xlink:href=\"#mefc4eeeb86\" y=\"59.442078\"/>\n     <use style=\"fill:#1e90ff;fill-opacity:0.7;stroke:#1e90ff;stroke-opacity:0.7;\" x=\"233.969003\" xlink:href=\"#mefc4eeeb86\" y=\"101.800519\"/>\n     <use style=\"fill:#1e90ff;fill-opacity:0.7;stroke:#1e90ff;stroke-opacity:0.7;\" x=\"236.526681\" xlink:href=\"#mefc4eeeb86\" y=\"73.561558\"/>\n     <use style=\"fill:#1e90ff;fill-opacity:0.7;stroke:#1e90ff;stroke-opacity:0.7;\" x=\"239.084358\" xlink:href=\"#mefc4eeeb86\" y=\"73.561558\"/>\n     <use style=\"fill:#1e90ff;fill-opacity:0.7;stroke:#1e90ff;stroke-opacity:0.7;\" x=\"241.642036\" xlink:href=\"#mefc4eeeb86\" y=\"73.561558\"/>\n     <use style=\"fill:#1e90ff;fill-opacity:0.7;stroke:#1e90ff;stroke-opacity:0.7;\" x=\"244.199714\" xlink:href=\"#mefc4eeeb86\" y=\"73.561558\"/>\n     <use style=\"fill:#1e90ff;fill-opacity:0.7;stroke:#1e90ff;stroke-opacity:0.7;\" x=\"246.757391\" xlink:href=\"#mefc4eeeb86\" y=\"73.561558\"/>\n     <use style=\"fill:#1e90ff;fill-opacity:0.7;stroke:#1e90ff;stroke-opacity:0.7;\" x=\"249.315069\" xlink:href=\"#mefc4eeeb86\" y=\"101.800519\"/>\n     <use style=\"fill:#1e90ff;fill-opacity:0.7;stroke:#1e90ff;stroke-opacity:0.7;\" x=\"251.872746\" xlink:href=\"#mefc4eeeb86\" y=\"130.039481\"/>\n     <use style=\"fill:#1e90ff;fill-opacity:0.7;stroke:#1e90ff;stroke-opacity:0.7;\" x=\"254.430424\" xlink:href=\"#mefc4eeeb86\" y=\"101.800519\"/>\n     <use style=\"fill:#1e90ff;fill-opacity:0.7;stroke:#1e90ff;stroke-opacity:0.7;\" x=\"256.988102\" xlink:href=\"#mefc4eeeb86\" y=\"115.92\"/>\n     <use style=\"fill:#1e90ff;fill-opacity:0.7;stroke:#1e90ff;stroke-opacity:0.7;\" x=\"259.545779\" xlink:href=\"#mefc4eeeb86\" y=\"73.561558\"/>\n     <use style=\"fill:#1e90ff;fill-opacity:0.7;stroke:#1e90ff;stroke-opacity:0.7;\" x=\"262.103457\" xlink:href=\"#mefc4eeeb86\" y=\"101.800519\"/>\n     <use style=\"fill:#1e90ff;fill-opacity:0.7;stroke:#1e90ff;stroke-opacity:0.7;\" x=\"264.661134\" xlink:href=\"#mefc4eeeb86\" y=\"59.442078\"/>\n     <use style=\"fill:#1e90ff;fill-opacity:0.7;stroke:#1e90ff;stroke-opacity:0.7;\" x=\"267.218812\" xlink:href=\"#mefc4eeeb86\" y=\"87.681039\"/>\n     <use style=\"fill:#1e90ff;fill-opacity:0.7;stroke:#1e90ff;stroke-opacity:0.7;\" x=\"269.77649\" xlink:href=\"#mefc4eeeb86\" y=\"73.561558\"/>\n     <use style=\"fill:#1e90ff;fill-opacity:0.7;stroke:#1e90ff;stroke-opacity:0.7;\" x=\"272.334167\" xlink:href=\"#mefc4eeeb86\" y=\"130.039481\"/>\n     <use style=\"fill:#1e90ff;fill-opacity:0.7;stroke:#1e90ff;stroke-opacity:0.7;\" x=\"274.891845\" xlink:href=\"#mefc4eeeb86\" y=\"130.039481\"/>\n     <use style=\"fill:#1e90ff;fill-opacity:0.7;stroke:#1e90ff;stroke-opacity:0.7;\" x=\"277.449523\" xlink:href=\"#mefc4eeeb86\" y=\"73.561558\"/>\n     <use style=\"fill:#1e90ff;fill-opacity:0.7;stroke:#1e90ff;stroke-opacity:0.7;\" x=\"280.0072\" xlink:href=\"#mefc4eeeb86\" y=\"59.442078\"/>\n     <use style=\"fill:#1e90ff;fill-opacity:0.7;stroke:#1e90ff;stroke-opacity:0.7;\" x=\"282.564878\" xlink:href=\"#mefc4eeeb86\" y=\"59.442078\"/>\n     <use style=\"fill:#1e90ff;fill-opacity:0.7;stroke:#1e90ff;stroke-opacity:0.7;\" x=\"285.122555\" xlink:href=\"#mefc4eeeb86\" y=\"45.322597\"/>\n     <use style=\"fill:#1e90ff;fill-opacity:0.7;stroke:#1e90ff;stroke-opacity:0.7;\" x=\"287.680233\" xlink:href=\"#mefc4eeeb86\" y=\"59.442078\"/>\n     <use style=\"fill:#1e90ff;fill-opacity:0.7;stroke:#1e90ff;stroke-opacity:0.7;\" x=\"290.237911\" xlink:href=\"#mefc4eeeb86\" y=\"59.442078\"/>\n     <use style=\"fill:#1e90ff;fill-opacity:0.7;stroke:#1e90ff;stroke-opacity:0.7;\" x=\"292.795588\" xlink:href=\"#mefc4eeeb86\" y=\"130.039481\"/>\n     <use style=\"fill:#1e90ff;fill-opacity:0.7;stroke:#1e90ff;stroke-opacity:0.7;\" x=\"295.353266\" xlink:href=\"#mefc4eeeb86\" y=\"45.322597\"/>\n     <use style=\"fill:#1e90ff;fill-opacity:0.7;stroke:#1e90ff;stroke-opacity:0.7;\" x=\"297.910943\" xlink:href=\"#mefc4eeeb86\" y=\"17.083636\"/>\n     <use style=\"fill:#1e90ff;fill-opacity:0.7;stroke:#1e90ff;stroke-opacity:0.7;\" x=\"300.468621\" xlink:href=\"#mefc4eeeb86\" y=\"45.322597\"/>\n     <use style=\"fill:#1e90ff;fill-opacity:0.7;stroke:#1e90ff;stroke-opacity:0.7;\" x=\"303.026299\" xlink:href=\"#mefc4eeeb86\" y=\"73.561558\"/>\n     <use style=\"fill:#1e90ff;fill-opacity:0.7;stroke:#1e90ff;stroke-opacity:0.7;\" x=\"305.583976\" xlink:href=\"#mefc4eeeb86\" y=\"59.442078\"/>\n     <use style=\"fill:#1e90ff;fill-opacity:0.7;stroke:#1e90ff;stroke-opacity:0.7;\" x=\"308.141654\" xlink:href=\"#mefc4eeeb86\" y=\"45.322597\"/>\n     <use style=\"fill:#1e90ff;fill-opacity:0.7;stroke:#1e90ff;stroke-opacity:0.7;\" x=\"310.699332\" xlink:href=\"#mefc4eeeb86\" y=\"101.800519\"/>\n     <use style=\"fill:#1e90ff;fill-opacity:0.7;stroke:#1e90ff;stroke-opacity:0.7;\" x=\"313.257009\" xlink:href=\"#mefc4eeeb86\" y=\"59.442078\"/>\n     <use style=\"fill:#1e90ff;fill-opacity:0.7;stroke:#1e90ff;stroke-opacity:0.7;\" x=\"315.814687\" xlink:href=\"#mefc4eeeb86\" y=\"59.442078\"/>\n     <use style=\"fill:#1e90ff;fill-opacity:0.7;stroke:#1e90ff;stroke-opacity:0.7;\" x=\"318.372364\" xlink:href=\"#mefc4eeeb86\" y=\"45.322597\"/>\n     <use style=\"fill:#1e90ff;fill-opacity:0.7;stroke:#1e90ff;stroke-opacity:0.7;\" x=\"320.930042\" xlink:href=\"#mefc4eeeb86\" y=\"73.561558\"/>\n     <use style=\"fill:#1e90ff;fill-opacity:0.7;stroke:#1e90ff;stroke-opacity:0.7;\" x=\"323.48772\" xlink:href=\"#mefc4eeeb86\" y=\"45.322597\"/>\n     <use style=\"fill:#1e90ff;fill-opacity:0.7;stroke:#1e90ff;stroke-opacity:0.7;\" x=\"326.045397\" xlink:href=\"#mefc4eeeb86\" y=\"87.681039\"/>\n     <use style=\"fill:#1e90ff;fill-opacity:0.7;stroke:#1e90ff;stroke-opacity:0.7;\" x=\"328.603075\" xlink:href=\"#mefc4eeeb86\" y=\"45.322597\"/>\n     <use style=\"fill:#1e90ff;fill-opacity:0.7;stroke:#1e90ff;stroke-opacity:0.7;\" x=\"331.160752\" xlink:href=\"#mefc4eeeb86\" y=\"45.322597\"/>\n     <use style=\"fill:#1e90ff;fill-opacity:0.7;stroke:#1e90ff;stroke-opacity:0.7;\" x=\"333.71843\" xlink:href=\"#mefc4eeeb86\" y=\"73.561558\"/>\n     <use style=\"fill:#1e90ff;fill-opacity:0.7;stroke:#1e90ff;stroke-opacity:0.7;\" x=\"336.276108\" xlink:href=\"#mefc4eeeb86\" y=\"73.561558\"/>\n     <use style=\"fill:#1e90ff;fill-opacity:0.7;stroke:#1e90ff;stroke-opacity:0.7;\" x=\"338.833785\" xlink:href=\"#mefc4eeeb86\" y=\"59.442078\"/>\n     <use style=\"fill:#1e90ff;fill-opacity:0.7;stroke:#1e90ff;stroke-opacity:0.7;\" x=\"341.391463\" xlink:href=\"#mefc4eeeb86\" y=\"45.322597\"/>\n     <use style=\"fill:#1e90ff;fill-opacity:0.7;stroke:#1e90ff;stroke-opacity:0.7;\" x=\"343.949141\" xlink:href=\"#mefc4eeeb86\" y=\"31.203117\"/>\n     <use style=\"fill:#1e90ff;fill-opacity:0.7;stroke:#1e90ff;stroke-opacity:0.7;\" x=\"346.506818\" xlink:href=\"#mefc4eeeb86\" y=\"59.442078\"/>\n    </g>\n   </g>\n   <g id=\"matplotlib.axis_1\">\n    <g id=\"xtick_1\">\n     <g id=\"line2d_1\">\n      <defs>\n       <path d=\"M 0 0 \nL 0 3.5 \n\" id=\"m61a6ef2ae1\" style=\"stroke:#000000;stroke-width:0.8;\"/>\n      </defs>\n      <g>\n       <use style=\"stroke:#000000;stroke-width:0.8;\" x=\"39.585504\" xlink:href=\"#m61a6ef2ae1\" y=\"224.64\"/>\n      </g>\n     </g>\n     <g id=\"text_1\">\n      <!-- 1900 -->\n      <g transform=\"translate(26.860504 239.238437)scale(0.1 -0.1)\">\n       <defs>\n        <path d=\"M 12.40625 8.296875 \nL 28.515625 8.296875 \nL 28.515625 63.921875 \nL 10.984375 60.40625 \nL 10.984375 69.390625 \nL 28.421875 72.90625 \nL 38.28125 72.90625 \nL 38.28125 8.296875 \nL 54.390625 8.296875 \nL 54.390625 0 \nL 12.40625 0 \nz\n\" id=\"DejaVuSans-49\"/>\n        <path d=\"M 10.984375 1.515625 \nL 10.984375 10.5 \nQ 14.703125 8.734375 18.5 7.8125 \nQ 22.3125 6.890625 25.984375 6.890625 \nQ 35.75 6.890625 40.890625 13.453125 \nQ 46.046875 20.015625 46.78125 33.40625 \nQ 43.953125 29.203125 39.59375 26.953125 \nQ 35.25 24.703125 29.984375 24.703125 \nQ 19.046875 24.703125 12.671875 31.3125 \nQ 6.296875 37.9375 6.296875 49.421875 \nQ 6.296875 60.640625 12.9375 67.421875 \nQ 19.578125 74.21875 30.609375 74.21875 \nQ 43.265625 74.21875 49.921875 64.515625 \nQ 56.59375 54.828125 56.59375 36.375 \nQ 56.59375 19.140625 48.40625 8.859375 \nQ 40.234375 -1.421875 26.421875 -1.421875 \nQ 22.703125 -1.421875 18.890625 -0.6875 \nQ 15.09375 0.046875 10.984375 1.515625 \nz\nM 30.609375 32.421875 \nQ 37.25 32.421875 41.125 36.953125 \nQ 45.015625 41.5 45.015625 49.421875 \nQ 45.015625 57.28125 41.125 61.84375 \nQ 37.25 66.40625 30.609375 66.40625 \nQ 23.96875 66.40625 20.09375 61.84375 \nQ 16.21875 57.28125 16.21875 49.421875 \nQ 16.21875 41.5 20.09375 36.953125 \nQ 23.96875 32.421875 30.609375 32.421875 \nz\n\" id=\"DejaVuSans-57\"/>\n        <path d=\"M 31.78125 66.40625 \nQ 24.171875 66.40625 20.328125 58.90625 \nQ 16.5 51.421875 16.5 36.375 \nQ 16.5 21.390625 20.328125 13.890625 \nQ 24.171875 6.390625 31.78125 6.390625 \nQ 39.453125 6.390625 43.28125 13.890625 \nQ 47.125 21.390625 47.125 36.375 \nQ 47.125 51.421875 43.28125 58.90625 \nQ 39.453125 66.40625 31.78125 66.40625 \nz\nM 31.78125 74.21875 \nQ 44.046875 74.21875 50.515625 64.515625 \nQ 56.984375 54.828125 56.984375 36.375 \nQ 56.984375 17.96875 50.515625 8.265625 \nQ 44.046875 -1.421875 31.78125 -1.421875 \nQ 19.53125 -1.421875 13.0625 8.265625 \nQ 6.59375 17.96875 6.59375 36.375 \nQ 6.59375 54.828125 13.0625 64.515625 \nQ 19.53125 74.21875 31.78125 74.21875 \nz\n\" id=\"DejaVuSans-48\"/>\n       </defs>\n       <use xlink:href=\"#DejaVuSans-49\"/>\n       <use x=\"63.623047\" xlink:href=\"#DejaVuSans-57\"/>\n       <use x=\"127.246094\" xlink:href=\"#DejaVuSans-48\"/>\n       <use x=\"190.869141\" xlink:href=\"#DejaVuSans-48\"/>\n      </g>\n     </g>\n    </g>\n    <g id=\"xtick_2\">\n     <g id=\"line2d_2\">\n      <g>\n       <use style=\"stroke:#000000;stroke-width:0.8;\" x=\"90.739057\" xlink:href=\"#m61a6ef2ae1\" y=\"224.64\"/>\n      </g>\n     </g>\n     <g id=\"text_2\">\n      <!-- 1920 -->\n      <g transform=\"translate(78.014057 239.238437)scale(0.1 -0.1)\">\n       <defs>\n        <path d=\"M 19.1875 8.296875 \nL 53.609375 8.296875 \nL 53.609375 0 \nL 7.328125 0 \nL 7.328125 8.296875 \nQ 12.9375 14.109375 22.625 23.890625 \nQ 32.328125 33.6875 34.8125 36.53125 \nQ 39.546875 41.84375 41.421875 45.53125 \nQ 43.3125 49.21875 43.3125 52.78125 \nQ 43.3125 58.59375 39.234375 62.25 \nQ 35.15625 65.921875 28.609375 65.921875 \nQ 23.96875 65.921875 18.8125 64.3125 \nQ 13.671875 62.703125 7.8125 59.421875 \nL 7.8125 69.390625 \nQ 13.765625 71.78125 18.9375 73 \nQ 24.125 74.21875 28.421875 74.21875 \nQ 39.75 74.21875 46.484375 68.546875 \nQ 53.21875 62.890625 53.21875 53.421875 \nQ 53.21875 48.921875 51.53125 44.890625 \nQ 49.859375 40.875 45.40625 35.40625 \nQ 44.1875 33.984375 37.640625 27.21875 \nQ 31.109375 20.453125 19.1875 8.296875 \nz\n\" id=\"DejaVuSans-50\"/>\n       </defs>\n       <use xlink:href=\"#DejaVuSans-49\"/>\n       <use x=\"63.623047\" xlink:href=\"#DejaVuSans-57\"/>\n       <use x=\"127.246094\" xlink:href=\"#DejaVuSans-50\"/>\n       <use x=\"190.869141\" xlink:href=\"#DejaVuSans-48\"/>\n      </g>\n     </g>\n    </g>\n    <g id=\"xtick_3\">\n     <g id=\"line2d_3\">\n      <g>\n       <use style=\"stroke:#000000;stroke-width:0.8;\" x=\"141.892609\" xlink:href=\"#m61a6ef2ae1\" y=\"224.64\"/>\n      </g>\n     </g>\n     <g id=\"text_3\">\n      <!-- 1940 -->\n      <g transform=\"translate(129.167609 239.238437)scale(0.1 -0.1)\">\n       <defs>\n        <path d=\"M 37.796875 64.3125 \nL 12.890625 25.390625 \nL 37.796875 25.390625 \nz\nM 35.203125 72.90625 \nL 47.609375 72.90625 \nL 47.609375 25.390625 \nL 58.015625 25.390625 \nL 58.015625 17.1875 \nL 47.609375 17.1875 \nL 47.609375 0 \nL 37.796875 0 \nL 37.796875 17.1875 \nL 4.890625 17.1875 \nL 4.890625 26.703125 \nz\n\" id=\"DejaVuSans-52\"/>\n       </defs>\n       <use xlink:href=\"#DejaVuSans-49\"/>\n       <use x=\"63.623047\" xlink:href=\"#DejaVuSans-57\"/>\n       <use x=\"127.246094\" xlink:href=\"#DejaVuSans-52\"/>\n       <use x=\"190.869141\" xlink:href=\"#DejaVuSans-48\"/>\n      </g>\n     </g>\n    </g>\n    <g id=\"xtick_4\">\n     <g id=\"line2d_4\">\n      <g>\n       <use style=\"stroke:#000000;stroke-width:0.8;\" x=\"193.046161\" xlink:href=\"#m61a6ef2ae1\" y=\"224.64\"/>\n      </g>\n     </g>\n     <g id=\"text_4\">\n      <!-- 1960 -->\n      <g transform=\"translate(180.321161 239.238437)scale(0.1 -0.1)\">\n       <defs>\n        <path d=\"M 33.015625 40.375 \nQ 26.375 40.375 22.484375 35.828125 \nQ 18.609375 31.296875 18.609375 23.390625 \nQ 18.609375 15.53125 22.484375 10.953125 \nQ 26.375 6.390625 33.015625 6.390625 \nQ 39.65625 6.390625 43.53125 10.953125 \nQ 47.40625 15.53125 47.40625 23.390625 \nQ 47.40625 31.296875 43.53125 35.828125 \nQ 39.65625 40.375 33.015625 40.375 \nz\nM 52.59375 71.296875 \nL 52.59375 62.3125 \nQ 48.875 64.0625 45.09375 64.984375 \nQ 41.3125 65.921875 37.59375 65.921875 \nQ 27.828125 65.921875 22.671875 59.328125 \nQ 17.53125 52.734375 16.796875 39.40625 \nQ 19.671875 43.65625 24.015625 45.921875 \nQ 28.375 48.1875 33.59375 48.1875 \nQ 44.578125 48.1875 50.953125 41.515625 \nQ 57.328125 34.859375 57.328125 23.390625 \nQ 57.328125 12.15625 50.6875 5.359375 \nQ 44.046875 -1.421875 33.015625 -1.421875 \nQ 20.359375 -1.421875 13.671875 8.265625 \nQ 6.984375 17.96875 6.984375 36.375 \nQ 6.984375 53.65625 15.1875 63.9375 \nQ 23.390625 74.21875 37.203125 74.21875 \nQ 40.921875 74.21875 44.703125 73.484375 \nQ 48.484375 72.75 52.59375 71.296875 \nz\n\" id=\"DejaVuSans-54\"/>\n       </defs>\n       <use xlink:href=\"#DejaVuSans-49\"/>\n       <use x=\"63.623047\" xlink:href=\"#DejaVuSans-57\"/>\n       <use x=\"127.246094\" xlink:href=\"#DejaVuSans-54\"/>\n       <use x=\"190.869141\" xlink:href=\"#DejaVuSans-48\"/>\n      </g>\n     </g>\n    </g>\n    <g id=\"xtick_5\">\n     <g id=\"line2d_5\">\n      <g>\n       <use style=\"stroke:#000000;stroke-width:0.8;\" x=\"244.199714\" xlink:href=\"#m61a6ef2ae1\" y=\"224.64\"/>\n      </g>\n     </g>\n     <g id=\"text_5\">\n      <!-- 1980 -->\n      <g transform=\"translate(231.474714 239.238437)scale(0.1 -0.1)\">\n       <defs>\n        <path d=\"M 31.78125 34.625 \nQ 24.75 34.625 20.71875 30.859375 \nQ 16.703125 27.09375 16.703125 20.515625 \nQ 16.703125 13.921875 20.71875 10.15625 \nQ 24.75 6.390625 31.78125 6.390625 \nQ 38.8125 6.390625 42.859375 10.171875 \nQ 46.921875 13.96875 46.921875 20.515625 \nQ 46.921875 27.09375 42.890625 30.859375 \nQ 38.875 34.625 31.78125 34.625 \nz\nM 21.921875 38.8125 \nQ 15.578125 40.375 12.03125 44.71875 \nQ 8.5 49.078125 8.5 55.328125 \nQ 8.5 64.0625 14.71875 69.140625 \nQ 20.953125 74.21875 31.78125 74.21875 \nQ 42.671875 74.21875 48.875 69.140625 \nQ 55.078125 64.0625 55.078125 55.328125 \nQ 55.078125 49.078125 51.53125 44.71875 \nQ 48 40.375 41.703125 38.8125 \nQ 48.828125 37.15625 52.796875 32.3125 \nQ 56.78125 27.484375 56.78125 20.515625 \nQ 56.78125 9.90625 50.3125 4.234375 \nQ 43.84375 -1.421875 31.78125 -1.421875 \nQ 19.734375 -1.421875 13.25 4.234375 \nQ 6.78125 9.90625 6.78125 20.515625 \nQ 6.78125 27.484375 10.78125 32.3125 \nQ 14.796875 37.15625 21.921875 38.8125 \nz\nM 18.3125 54.390625 \nQ 18.3125 48.734375 21.84375 45.5625 \nQ 25.390625 42.390625 31.78125 42.390625 \nQ 38.140625 42.390625 41.71875 45.5625 \nQ 45.3125 48.734375 45.3125 54.390625 \nQ 45.3125 60.0625 41.71875 63.234375 \nQ 38.140625 66.40625 31.78125 66.40625 \nQ 25.390625 66.40625 21.84375 63.234375 \nQ 18.3125 60.0625 18.3125 54.390625 \nz\n\" id=\"DejaVuSans-56\"/>\n       </defs>\n       <use xlink:href=\"#DejaVuSans-49\"/>\n       <use x=\"63.623047\" xlink:href=\"#DejaVuSans-57\"/>\n       <use x=\"127.246094\" xlink:href=\"#DejaVuSans-56\"/>\n       <use x=\"190.869141\" xlink:href=\"#DejaVuSans-48\"/>\n      </g>\n     </g>\n    </g>\n    <g id=\"xtick_6\">\n     <g id=\"line2d_6\">\n      <g>\n       <use style=\"stroke:#000000;stroke-width:0.8;\" x=\"295.353266\" xlink:href=\"#m61a6ef2ae1\" y=\"224.64\"/>\n      </g>\n     </g>\n     <g id=\"text_6\">\n      <!-- 2000 -->\n      <g transform=\"translate(282.628266 239.238437)scale(0.1 -0.1)\">\n       <use xlink:href=\"#DejaVuSans-50\"/>\n       <use x=\"63.623047\" xlink:href=\"#DejaVuSans-48\"/>\n       <use x=\"127.246094\" xlink:href=\"#DejaVuSans-48\"/>\n       <use x=\"190.869141\" xlink:href=\"#DejaVuSans-48\"/>\n      </g>\n     </g>\n    </g>\n    <g id=\"xtick_7\">\n     <g id=\"line2d_7\">\n      <g>\n       <use style=\"stroke:#000000;stroke-width:0.8;\" x=\"346.506818\" xlink:href=\"#m61a6ef2ae1\" y=\"224.64\"/>\n      </g>\n     </g>\n     <g id=\"text_7\">\n      <!-- 2020 -->\n      <g transform=\"translate(333.781818 239.238437)scale(0.1 -0.1)\">\n       <use xlink:href=\"#DejaVuSans-50\"/>\n       <use x=\"63.623047\" xlink:href=\"#DejaVuSans-48\"/>\n       <use x=\"127.246094\" xlink:href=\"#DejaVuSans-50\"/>\n       <use x=\"190.869141\" xlink:href=\"#DejaVuSans-48\"/>\n      </g>\n     </g>\n    </g>\n   </g>\n   <g id=\"matplotlib.axis_2\">\n    <g id=\"ytick_1\">\n     <g id=\"line2d_8\">\n      <defs>\n       <path d=\"M 0 0 \nL -3.5 0 \n\" id=\"m3ad75d8587\" style=\"stroke:#000000;stroke-width:0.8;\"/>\n      </defs>\n      <g>\n       <use style=\"stroke:#000000;stroke-width:0.8;\" x=\"26.925\" xlink:href=\"#m3ad75d8587\" y=\"200.636883\"/>\n      </g>\n     </g>\n     <g id=\"text_8\">\n      <!-- 2 -->\n      <g transform=\"translate(13.5625 204.436102)scale(0.1 -0.1)\">\n       <use xlink:href=\"#DejaVuSans-50\"/>\n      </g>\n     </g>\n    </g>\n    <g id=\"ytick_2\">\n     <g id=\"line2d_9\">\n      <g>\n       <use style=\"stroke:#000000;stroke-width:0.8;\" x=\"26.925\" xlink:href=\"#m3ad75d8587\" y=\"172.397922\"/>\n      </g>\n     </g>\n     <g id=\"text_9\">\n      <!-- 4 -->\n      <g transform=\"translate(13.5625 176.197141)scale(0.1 -0.1)\">\n       <use xlink:href=\"#DejaVuSans-52\"/>\n      </g>\n     </g>\n    </g>\n    <g id=\"ytick_3\">\n     <g id=\"line2d_10\">\n      <g>\n       <use style=\"stroke:#000000;stroke-width:0.8;\" x=\"26.925\" xlink:href=\"#m3ad75d8587\" y=\"144.158961\"/>\n      </g>\n     </g>\n     <g id=\"text_10\">\n      <!-- 6 -->\n      <g transform=\"translate(13.5625 147.95818)scale(0.1 -0.1)\">\n       <use xlink:href=\"#DejaVuSans-54\"/>\n      </g>\n     </g>\n    </g>\n    <g id=\"ytick_4\">\n     <g id=\"line2d_11\">\n      <g>\n       <use style=\"stroke:#000000;stroke-width:0.8;\" x=\"26.925\" xlink:href=\"#m3ad75d8587\" y=\"115.92\"/>\n      </g>\n     </g>\n     <g id=\"text_11\">\n      <!-- 8 -->\n      <g transform=\"translate(13.5625 119.719219)scale(0.1 -0.1)\">\n       <use xlink:href=\"#DejaVuSans-56\"/>\n      </g>\n     </g>\n    </g>\n    <g id=\"ytick_5\">\n     <g id=\"line2d_12\">\n      <g>\n       <use style=\"stroke:#000000;stroke-width:0.8;\" x=\"26.925\" xlink:href=\"#m3ad75d8587\" y=\"87.681039\"/>\n      </g>\n     </g>\n     <g id=\"text_12\">\n      <!-- 10 -->\n      <g transform=\"translate(7.2 91.480258)scale(0.1 -0.1)\">\n       <use xlink:href=\"#DejaVuSans-49\"/>\n       <use x=\"63.623047\" xlink:href=\"#DejaVuSans-48\"/>\n      </g>\n     </g>\n    </g>\n    <g id=\"ytick_6\">\n     <g id=\"line2d_13\">\n      <g>\n       <use style=\"stroke:#000000;stroke-width:0.8;\" x=\"26.925\" xlink:href=\"#m3ad75d8587\" y=\"59.442078\"/>\n      </g>\n     </g>\n     <g id=\"text_13\">\n      <!-- 12 -->\n      <g transform=\"translate(7.2 63.241297)scale(0.1 -0.1)\">\n       <use xlink:href=\"#DejaVuSans-49\"/>\n       <use x=\"63.623047\" xlink:href=\"#DejaVuSans-50\"/>\n      </g>\n     </g>\n    </g>\n    <g id=\"ytick_7\">\n     <g id=\"line2d_14\">\n      <g>\n       <use style=\"stroke:#000000;stroke-width:0.8;\" x=\"26.925\" xlink:href=\"#m3ad75d8587\" y=\"31.203117\"/>\n      </g>\n     </g>\n     <g id=\"text_14\">\n      <!-- 14 -->\n      <g transform=\"translate(7.2 35.002336)scale(0.1 -0.1)\">\n       <use xlink:href=\"#DejaVuSans-49\"/>\n       <use x=\"63.623047\" xlink:href=\"#DejaVuSans-52\"/>\n      </g>\n     </g>\n    </g>\n   </g>\n   <g id=\"line2d_15\">\n    <path clip-path=\"url(#p9e6a4f070d)\" d=\"M 52.373892 141.335065 \nL 54.93157 141.335065 \nL 57.489248 144.158961 \nL 60.046925 144.158961 \nL 62.604603 141.335065 \nL 65.16228 141.335065 \nL 67.719958 141.335065 \nL 70.277636 141.335065 \nL 72.835313 146.982857 \nL 75.392991 158.278442 \nL 77.950668 161.102338 \nL 80.508346 175.221818 \nL 83.066024 180.86961 \nL 85.623701 189.341299 \nL 88.181379 186.517403 \nL 90.739057 183.693506 \nL 93.296734 172.397922 \nL 95.854412 166.75013 \nL 98.412089 158.278442 \nL 100.969767 161.102338 \nL 103.527445 158.278442 \nL 106.085122 155.454545 \nL 108.6428 152.630649 \nL 111.200477 155.454545 \nL 113.758155 144.158961 \nL 116.315833 146.982857 \nL 118.87351 146.982857 \nL 121.431188 152.630649 \nL 123.988866 149.806753 \nL 126.546543 152.630649 \nL 129.104221 152.630649 \nL 131.661898 149.806753 \nL 134.219576 144.158961 \nL 136.777254 144.158961 \nL 139.334931 146.982857 \nL 149.565642 149.806753 \nL 152.123319 152.630649 \nL 154.680997 152.630649 \nL 157.238675 144.158961 \nL 159.796352 135.687273 \nL 162.35403 135.687273 \nL 164.911707 135.687273 \nL 167.469385 132.863377 \nL 170.027063 135.687273 \nL 172.58474 138.511169 \nL 175.142418 132.863377 \nL 177.700095 127.215584 \nL 180.257773 135.687273 \nL 182.815451 130.039481 \nL 185.373128 132.863377 \nL 187.930806 124.391688 \nL 190.488484 127.215584 \nL 193.046161 124.391688 \nL 195.603839 132.863377 \nL 198.161516 127.215584 \nL 200.719194 121.567792 \nL 203.276872 118.743896 \nL 205.834549 110.272208 \nL 208.392227 110.272208 \nL 210.949905 110.272208 \nL 213.507582 121.567792 \nL 216.06526 115.92 \nL 218.622937 115.92 \nL 221.180615 115.92 \nL 223.738293 107.448312 \nL 226.29597 93.328831 \nL 228.853648 87.681039 \nL 231.411325 79.209351 \nL 233.969003 70.737662 \nL 236.526681 70.737662 \nL 239.084358 73.561558 \nL 241.642036 76.385455 \nL 244.199714 79.209351 \nL 246.757391 73.561558 \nL 249.315069 79.209351 \nL 251.872746 90.504935 \nL 254.430424 96.152727 \nL 256.988102 104.624416 \nL 259.545779 104.624416 \nL 262.103457 104.624416 \nL 264.661134 90.504935 \nL 267.218812 87.681039 \nL 269.77649 79.209351 \nL 272.334167 90.504935 \nL 274.891845 96.152727 \nL 277.449523 98.976623 \nL 280.0072 93.328831 \nL 282.564878 90.504935 \nL 285.122555 73.561558 \nL 287.680233 59.442078 \nL 290.237911 56.618182 \nL 292.795588 70.737662 \nL 295.353266 67.913766 \nL 297.910943 62.265974 \nL 300.468621 59.442078 \nL 303.026299 62.265974 \nL 305.583976 48.146494 \nL 308.141654 48.146494 \nL 310.699332 65.08987 \nL 313.257009 67.913766 \nL 315.814687 65.08987 \nL 318.372364 62.265974 \nL 320.930042 67.913766 \nL 323.48772 56.618182 \nL 326.045397 62.265974 \nL 328.603075 59.442078 \nL 331.160752 59.442078 \nL 333.71843 59.442078 \nL 336.276108 65.08987 \nL 338.833785 59.442078 \nL 341.391463 59.442078 \nL 343.949141 56.618182 \nL 346.506818 53.794286 \n\" style=\"fill:none;stroke:#dc143c;stroke-linecap:square;stroke-width:3;\"/>\n   </g>\n   <g id=\"patch_3\">\n    <path d=\"M 26.925 224.64 \nL 26.925 7.2 \n\" style=\"fill:none;stroke:#000000;stroke-linecap:square;stroke-linejoin:miter;stroke-width:0.8;\"/>\n   </g>\n   <g id=\"patch_4\">\n    <path d=\"M 361.725 224.64 \nL 361.725 7.2 \n\" style=\"fill:none;stroke:#000000;stroke-linecap:square;stroke-linejoin:miter;stroke-width:0.8;\"/>\n   </g>\n   <g id=\"patch_5\">\n    <path d=\"M 26.925 224.64 \nL 361.725 224.64 \n\" style=\"fill:none;stroke:#000000;stroke-linecap:square;stroke-linejoin:miter;stroke-width:0.8;\"/>\n   </g>\n   <g id=\"patch_6\">\n    <path d=\"M 26.925 7.2 \nL 361.725 7.2 \n\" style=\"fill:none;stroke:#000000;stroke-linecap:square;stroke-linejoin:miter;stroke-width:0.8;\"/>\n   </g>\n  </g>\n </g>\n <defs>\n  <clipPath id=\"p9e6a4f070d\">\n   <rect height=\"217.44\" width=\"334.8\" x=\"26.925\" y=\"7.2\"/>\n  </clipPath>\n </defs>\n</svg>\n",
            "image/png": "[encoded data removed]"
          },
          "metadata": {
            "needs_background": "light"
          }
        }
      ]
    },
    {
      "cell_type": "code",
      "metadata": {
        "id": "mWQImXL3FtkO"
      },
      "source": [
        "plt.figure(figsize=(12,6), dpi=200)\n",
        "plt.title('Prizes per year', fontsize = 14)\n",
        "\n",
        "plt.yticks(fontsize = 14)\n",
        "plt.xticks(ticks=np.arange(1900, 2021, step=5), fontsize=14, rotation=45)\n",
        "\n",
        "ax = plt.gca()\n",
        "ax.set_xlim(1900, 2020)\n",
        "\n",
        "ax.scatter(\n",
        "    x = per_year.index,\n",
        "    y = per_year.values,\n",
        "    c = 'dodgerblue',\n",
        "    alpha = 0.7,\n",
        "    s = 100\n",
        ")\n",
        "\n",
        "ax.plot(\n",
        "    per_year.index,\n",
        "    moving_avg.values,\n",
        "    c = 'crimson',\n",
        "    linewidth = 3\n",
        ")\n",
        "\n",
        "plt.show()"
      ],
      "execution_count": 82,
      "outputs": [
        {
          "output_type": "display_data",
          "data": {
            "text/plain": "<Figure size 2400x1200 with 1 Axes>",
            "image/svg+xml": "<?xml version=\"1.0\" encoding=\"utf-8\" standalone=\"no\"?>\n<!DOCTYPE svg PUBLIC \"-//W3C//DTD SVG 1.1//EN\"\n  \"http://www.w3.org/Graphics/SVG/1.1/DTD/svg11.dtd\">\n<!-- Created with matplotlib (https://matplotlib.org/) -->\n<svg height=\"398.972882pt\" version=\"1.1\" viewBox=\"0 0 726.202535 398.972882\" width=\"726.202535pt\" xmlns=\"http://www.w3.org/2000/svg\" xmlns:xlink=\"http://www.w3.org/1999/xlink\">\n <metadata>\n  <rdf:RDF xmlns:cc=\"http://creativecommons.org/ns#\" xmlns:dc=\"http://purl.org/dc/elements/1.1/\" xmlns:rdf=\"http://www.w3.org/1999/02/22-rdf-syntax-ns#\">\n   <cc:Work>\n    <dc:type rdf:resource=\"http://purl.org/dc/dcmitype/StillImage\"/>\n    <dc:date>2021-02-16T17:19:05.889740</dc:date>\n    <dc:format>image/svg+xml</dc:format>\n    <dc:creator>\n     <cc:Agent>\n      <dc:title>Matplotlib v3.3.4, https://matplotlib.org/</dc:title>\n     </cc:Agent>\n    </dc:creator>\n   </cc:Work>\n  </rdf:RDF>\n </metadata>\n <defs>\n  <style type=\"text/css\">*{stroke-linecap:butt;stroke-linejoin:round;}</style>\n </defs>\n <g id=\"figure_1\">\n  <g id=\"patch_1\">\n   <path d=\"M 0 398.972882 \nL 726.202535 398.972882 \nL 726.202535 0 \nL 0 0 \nz\n\" style=\"fill:none;\"/>\n  </g>\n  <g id=\"axes_1\">\n   <g id=\"patch_2\">\n    <path d=\"M 32.015 349.997812 \nL 701.615 349.997812 \nL 701.615 23.837812 \nL 32.015 23.837812 \nz\n\" style=\"fill:#ffffff;\"/>\n   </g>\n   <g id=\"PathCollection_1\">\n    <defs>\n     <path d=\"M 0 5 \nC 1.326016 5 2.597899 4.473168 3.535534 3.535534 \nC 4.473168 2.597899 5 1.326016 5 0 \nC 5 -1.326016 4.473168 -2.597899 3.535534 -3.535534 \nC 2.597899 -4.473168 1.326016 -5 0 -5 \nC -1.326016 -5 -2.597899 -4.473168 -3.535534 -3.535534 \nC -4.473168 -2.597899 -5 -1.326016 -5 0 \nC -5 1.326016 -4.473168 2.597899 -3.535534 3.535534 \nC -2.597899 4.473168 -1.326016 5 0 5 \nz\n\" id=\"mf703b7a029\" style=\"stroke:#1e90ff;stroke-opacity:0.7;\"/>\n    </defs>\n    <g clip-path=\"url(#p7275e6421d)\">\n     <use style=\"fill:#1e90ff;fill-opacity:0.7;stroke:#1e90ff;stroke-opacity:0.7;\" x=\"37.595\" xlink:href=\"#mf703b7a029\" y=\"229.276254\"/>\n     <use style=\"fill:#1e90ff;fill-opacity:0.7;stroke:#1e90ff;stroke-opacity:0.7;\" x=\"43.175\" xlink:href=\"#mf703b7a029\" y=\"208.097033\"/>\n     <use style=\"fill:#1e90ff;fill-opacity:0.7;stroke:#1e90ff;stroke-opacity:0.7;\" x=\"48.755\" xlink:href=\"#mf703b7a029\" y=\"208.097033\"/>\n     <use style=\"fill:#1e90ff;fill-opacity:0.7;stroke:#1e90ff;stroke-opacity:0.7;\" x=\"54.335\" xlink:href=\"#mf703b7a029\" y=\"229.276254\"/>\n     <use style=\"fill:#1e90ff;fill-opacity:0.7;stroke:#1e90ff;stroke-opacity:0.7;\" x=\"59.915\" xlink:href=\"#mf703b7a029\" y=\"250.455475\"/>\n     <use style=\"fill:#1e90ff;fill-opacity:0.7;stroke:#1e90ff;stroke-opacity:0.7;\" x=\"65.495\" xlink:href=\"#mf703b7a029\" y=\"229.276254\"/>\n     <use style=\"fill:#1e90ff;fill-opacity:0.7;stroke:#1e90ff;stroke-opacity:0.7;\" x=\"71.075\" xlink:href=\"#mf703b7a029\" y=\"229.276254\"/>\n     <use style=\"fill:#1e90ff;fill-opacity:0.7;stroke:#1e90ff;stroke-opacity:0.7;\" x=\"76.655\" xlink:href=\"#mf703b7a029\" y=\"208.097033\"/>\n     <use style=\"fill:#1e90ff;fill-opacity:0.7;stroke:#1e90ff;stroke-opacity:0.7;\" x=\"82.235\" xlink:href=\"#mf703b7a029\" y=\"208.097033\"/>\n     <use style=\"fill:#1e90ff;fill-opacity:0.7;stroke:#1e90ff;stroke-opacity:0.7;\" x=\"87.815\" xlink:href=\"#mf703b7a029\" y=\"250.455475\"/>\n     <use style=\"fill:#1e90ff;fill-opacity:0.7;stroke:#1e90ff;stroke-opacity:0.7;\" x=\"93.395\" xlink:href=\"#mf703b7a029\" y=\"229.276254\"/>\n     <use style=\"fill:#1e90ff;fill-opacity:0.7;stroke:#1e90ff;stroke-opacity:0.7;\" x=\"98.975\" xlink:href=\"#mf703b7a029\" y=\"229.276254\"/>\n     <use style=\"fill:#1e90ff;fill-opacity:0.7;stroke:#1e90ff;stroke-opacity:0.7;\" x=\"104.555\" xlink:href=\"#mf703b7a029\" y=\"250.455475\"/>\n     <use style=\"fill:#1e90ff;fill-opacity:0.7;stroke:#1e90ff;stroke-opacity:0.7;\" x=\"110.135\" xlink:href=\"#mf703b7a029\" y=\"292.813916\"/>\n     <use style=\"fill:#1e90ff;fill-opacity:0.7;stroke:#1e90ff;stroke-opacity:0.7;\" x=\"115.715\" xlink:href=\"#mf703b7a029\" y=\"271.634696\"/>\n     <use style=\"fill:#1e90ff;fill-opacity:0.7;stroke:#1e90ff;stroke-opacity:0.7;\" x=\"121.295\" xlink:href=\"#mf703b7a029\" y=\"335.172358\"/>\n     <use style=\"fill:#1e90ff;fill-opacity:0.7;stroke:#1e90ff;stroke-opacity:0.7;\" x=\"126.875\" xlink:href=\"#mf703b7a029\" y=\"271.634696\"/>\n     <use style=\"fill:#1e90ff;fill-opacity:0.7;stroke:#1e90ff;stroke-opacity:0.7;\" x=\"132.455\" xlink:href=\"#mf703b7a029\" y=\"313.993137\"/>\n     <use style=\"fill:#1e90ff;fill-opacity:0.7;stroke:#1e90ff;stroke-opacity:0.7;\" x=\"138.035\" xlink:href=\"#mf703b7a029\" y=\"271.634696\"/>\n     <use style=\"fill:#1e90ff;fill-opacity:0.7;stroke:#1e90ff;stroke-opacity:0.7;\" x=\"143.615\" xlink:href=\"#mf703b7a029\" y=\"250.455475\"/>\n     <use style=\"fill:#1e90ff;fill-opacity:0.7;stroke:#1e90ff;stroke-opacity:0.7;\" x=\"149.195\" xlink:href=\"#mf703b7a029\" y=\"250.455475\"/>\n     <use style=\"fill:#1e90ff;fill-opacity:0.7;stroke:#1e90ff;stroke-opacity:0.7;\" x=\"154.775\" xlink:href=\"#mf703b7a029\" y=\"229.276254\"/>\n     <use style=\"fill:#1e90ff;fill-opacity:0.7;stroke:#1e90ff;stroke-opacity:0.7;\" x=\"160.355\" xlink:href=\"#mf703b7a029\" y=\"250.455475\"/>\n     <use style=\"fill:#1e90ff;fill-opacity:0.7;stroke:#1e90ff;stroke-opacity:0.7;\" x=\"165.935\" xlink:href=\"#mf703b7a029\" y=\"292.813916\"/>\n     <use style=\"fill:#1e90ff;fill-opacity:0.7;stroke:#1e90ff;stroke-opacity:0.7;\" x=\"171.515\" xlink:href=\"#mf703b7a029\" y=\"229.276254\"/>\n     <use style=\"fill:#1e90ff;fill-opacity:0.7;stroke:#1e90ff;stroke-opacity:0.7;\" x=\"177.095\" xlink:href=\"#mf703b7a029\" y=\"229.276254\"/>\n     <use style=\"fill:#1e90ff;fill-opacity:0.7;stroke:#1e90ff;stroke-opacity:0.7;\" x=\"182.675\" xlink:href=\"#mf703b7a029\" y=\"208.097033\"/>\n     <use style=\"fill:#1e90ff;fill-opacity:0.7;stroke:#1e90ff;stroke-opacity:0.7;\" x=\"188.255\" xlink:href=\"#mf703b7a029\" y=\"271.634696\"/>\n     <use style=\"fill:#1e90ff;fill-opacity:0.7;stroke:#1e90ff;stroke-opacity:0.7;\" x=\"193.835\" xlink:href=\"#mf703b7a029\" y=\"208.097033\"/>\n     <use style=\"fill:#1e90ff;fill-opacity:0.7;stroke:#1e90ff;stroke-opacity:0.7;\" x=\"199.415\" xlink:href=\"#mf703b7a029\" y=\"250.455475\"/>\n     <use style=\"fill:#1e90ff;fill-opacity:0.7;stroke:#1e90ff;stroke-opacity:0.7;\" x=\"204.995\" xlink:href=\"#mf703b7a029\" y=\"229.276254\"/>\n     <use style=\"fill:#1e90ff;fill-opacity:0.7;stroke:#1e90ff;stroke-opacity:0.7;\" x=\"210.575\" xlink:href=\"#mf703b7a029\" y=\"250.455475\"/>\n     <use style=\"fill:#1e90ff;fill-opacity:0.7;stroke:#1e90ff;stroke-opacity:0.7;\" x=\"216.155\" xlink:href=\"#mf703b7a029\" y=\"250.455475\"/>\n     <use style=\"fill:#1e90ff;fill-opacity:0.7;stroke:#1e90ff;stroke-opacity:0.7;\" x=\"221.735\" xlink:href=\"#mf703b7a029\" y=\"229.276254\"/>\n     <use style=\"fill:#1e90ff;fill-opacity:0.7;stroke:#1e90ff;stroke-opacity:0.7;\" x=\"227.315\" xlink:href=\"#mf703b7a029\" y=\"250.455475\"/>\n     <use style=\"fill:#1e90ff;fill-opacity:0.7;stroke:#1e90ff;stroke-opacity:0.7;\" x=\"232.895\" xlink:href=\"#mf703b7a029\" y=\"208.097033\"/>\n     <use style=\"fill:#1e90ff;fill-opacity:0.7;stroke:#1e90ff;stroke-opacity:0.7;\" x=\"238.475\" xlink:href=\"#mf703b7a029\" y=\"208.097033\"/>\n     <use style=\"fill:#1e90ff;fill-opacity:0.7;stroke:#1e90ff;stroke-opacity:0.7;\" x=\"244.055\" xlink:href=\"#mf703b7a029\" y=\"250.455475\"/>\n     <use style=\"fill:#1e90ff;fill-opacity:0.7;stroke:#1e90ff;stroke-opacity:0.7;\" x=\"249.635\" xlink:href=\"#mf703b7a029\" y=\"250.455475\"/>\n     <use style=\"fill:#1e90ff;fill-opacity:0.7;stroke:#1e90ff;stroke-opacity:0.7;\" x=\"271.955\" xlink:href=\"#mf703b7a029\" y=\"271.634696\"/>\n     <use style=\"fill:#1e90ff;fill-opacity:0.7;stroke:#1e90ff;stroke-opacity:0.7;\" x=\"277.535\" xlink:href=\"#mf703b7a029\" y=\"229.276254\"/>\n     <use style=\"fill:#1e90ff;fill-opacity:0.7;stroke:#1e90ff;stroke-opacity:0.7;\" x=\"283.115\" xlink:href=\"#mf703b7a029\" y=\"208.097033\"/>\n     <use style=\"fill:#1e90ff;fill-opacity:0.7;stroke:#1e90ff;stroke-opacity:0.7;\" x=\"288.695\" xlink:href=\"#mf703b7a029\" y=\"186.917812\"/>\n     <use style=\"fill:#1e90ff;fill-opacity:0.7;stroke:#1e90ff;stroke-opacity:0.7;\" x=\"294.275\" xlink:href=\"#mf703b7a029\" y=\"186.917812\"/>\n     <use style=\"fill:#1e90ff;fill-opacity:0.7;stroke:#1e90ff;stroke-opacity:0.7;\" x=\"299.855\" xlink:href=\"#mf703b7a029\" y=\"271.634696\"/>\n     <use style=\"fill:#1e90ff;fill-opacity:0.7;stroke:#1e90ff;stroke-opacity:0.7;\" x=\"305.435\" xlink:href=\"#mf703b7a029\" y=\"229.276254\"/>\n     <use style=\"fill:#1e90ff;fill-opacity:0.7;stroke:#1e90ff;stroke-opacity:0.7;\" x=\"311.015\" xlink:href=\"#mf703b7a029\" y=\"186.917812\"/>\n     <use style=\"fill:#1e90ff;fill-opacity:0.7;stroke:#1e90ff;stroke-opacity:0.7;\" x=\"316.595\" xlink:href=\"#mf703b7a029\" y=\"208.097033\"/>\n     <use style=\"fill:#1e90ff;fill-opacity:0.7;stroke:#1e90ff;stroke-opacity:0.7;\" x=\"322.175\" xlink:href=\"#mf703b7a029\" y=\"208.097033\"/>\n     <use style=\"fill:#1e90ff;fill-opacity:0.7;stroke:#1e90ff;stroke-opacity:0.7;\" x=\"327.755\" xlink:href=\"#mf703b7a029\" y=\"229.276254\"/>\n     <use style=\"fill:#1e90ff;fill-opacity:0.7;stroke:#1e90ff;stroke-opacity:0.7;\" x=\"333.335\" xlink:href=\"#mf703b7a029\" y=\"186.917812\"/>\n     <use style=\"fill:#1e90ff;fill-opacity:0.7;stroke:#1e90ff;stroke-opacity:0.7;\" x=\"338.915\" xlink:href=\"#mf703b7a029\" y=\"250.455475\"/>\n     <use style=\"fill:#1e90ff;fill-opacity:0.7;stroke:#1e90ff;stroke-opacity:0.7;\" x=\"344.495\" xlink:href=\"#mf703b7a029\" y=\"165.738592\"/>\n     <use style=\"fill:#1e90ff;fill-opacity:0.7;stroke:#1e90ff;stroke-opacity:0.7;\" x=\"350.075\" xlink:href=\"#mf703b7a029\" y=\"229.276254\"/>\n     <use style=\"fill:#1e90ff;fill-opacity:0.7;stroke:#1e90ff;stroke-opacity:0.7;\" x=\"355.655\" xlink:href=\"#mf703b7a029\" y=\"165.738592\"/>\n     <use style=\"fill:#1e90ff;fill-opacity:0.7;stroke:#1e90ff;stroke-opacity:0.7;\" x=\"361.235\" xlink:href=\"#mf703b7a029\" y=\"208.097033\"/>\n     <use style=\"fill:#1e90ff;fill-opacity:0.7;stroke:#1e90ff;stroke-opacity:0.7;\" x=\"366.815\" xlink:href=\"#mf703b7a029\" y=\"229.276254\"/>\n     <use style=\"fill:#1e90ff;fill-opacity:0.7;stroke:#1e90ff;stroke-opacity:0.7;\" x=\"372.395\" xlink:href=\"#mf703b7a029\" y=\"229.276254\"/>\n     <use style=\"fill:#1e90ff;fill-opacity:0.7;stroke:#1e90ff;stroke-opacity:0.7;\" x=\"377.975\" xlink:href=\"#mf703b7a029\" y=\"186.917812\"/>\n     <use style=\"fill:#1e90ff;fill-opacity:0.7;stroke:#1e90ff;stroke-opacity:0.7;\" x=\"383.555\" xlink:href=\"#mf703b7a029\" y=\"123.38015\"/>\n     <use style=\"fill:#1e90ff;fill-opacity:0.7;stroke:#1e90ff;stroke-opacity:0.7;\" x=\"389.135\" xlink:href=\"#mf703b7a029\" y=\"186.917812\"/>\n     <use style=\"fill:#1e90ff;fill-opacity:0.7;stroke:#1e90ff;stroke-opacity:0.7;\" x=\"394.715\" xlink:href=\"#mf703b7a029\" y=\"165.738592\"/>\n     <use style=\"fill:#1e90ff;fill-opacity:0.7;stroke:#1e90ff;stroke-opacity:0.7;\" x=\"400.295\" xlink:href=\"#mf703b7a029\" y=\"229.276254\"/>\n     <use style=\"fill:#1e90ff;fill-opacity:0.7;stroke:#1e90ff;stroke-opacity:0.7;\" x=\"405.875\" xlink:href=\"#mf703b7a029\" y=\"186.917812\"/>\n     <use style=\"fill:#1e90ff;fill-opacity:0.7;stroke:#1e90ff;stroke-opacity:0.7;\" x=\"411.455\" xlink:href=\"#mf703b7a029\" y=\"208.097033\"/>\n     <use style=\"fill:#1e90ff;fill-opacity:0.7;stroke:#1e90ff;stroke-opacity:0.7;\" x=\"417.035\" xlink:href=\"#mf703b7a029\" y=\"144.559371\"/>\n     <use style=\"fill:#1e90ff;fill-opacity:0.7;stroke:#1e90ff;stroke-opacity:0.7;\" x=\"422.615\" xlink:href=\"#mf703b7a029\" y=\"165.738592\"/>\n     <use style=\"fill:#1e90ff;fill-opacity:0.7;stroke:#1e90ff;stroke-opacity:0.7;\" x=\"428.195\" xlink:href=\"#mf703b7a029\" y=\"229.276254\"/>\n     <use style=\"fill:#1e90ff;fill-opacity:0.7;stroke:#1e90ff;stroke-opacity:0.7;\" x=\"433.775\" xlink:href=\"#mf703b7a029\" y=\"123.38015\"/>\n     <use style=\"fill:#1e90ff;fill-opacity:0.7;stroke:#1e90ff;stroke-opacity:0.7;\" x=\"439.355\" xlink:href=\"#mf703b7a029\" y=\"102.200929\"/>\n     <use style=\"fill:#1e90ff;fill-opacity:0.7;stroke:#1e90ff;stroke-opacity:0.7;\" x=\"444.935\" xlink:href=\"#mf703b7a029\" y=\"102.200929\"/>\n     <use style=\"fill:#1e90ff;fill-opacity:0.7;stroke:#1e90ff;stroke-opacity:0.7;\" x=\"450.515\" xlink:href=\"#mf703b7a029\" y=\"102.200929\"/>\n     <use style=\"fill:#1e90ff;fill-opacity:0.7;stroke:#1e90ff;stroke-opacity:0.7;\" x=\"456.095\" xlink:href=\"#mf703b7a029\" y=\"165.738592\"/>\n     <use style=\"fill:#1e90ff;fill-opacity:0.7;stroke:#1e90ff;stroke-opacity:0.7;\" x=\"461.675\" xlink:href=\"#mf703b7a029\" y=\"123.38015\"/>\n     <use style=\"fill:#1e90ff;fill-opacity:0.7;stroke:#1e90ff;stroke-opacity:0.7;\" x=\"467.255\" xlink:href=\"#mf703b7a029\" y=\"123.38015\"/>\n     <use style=\"fill:#1e90ff;fill-opacity:0.7;stroke:#1e90ff;stroke-opacity:0.7;\" x=\"472.835\" xlink:href=\"#mf703b7a029\" y=\"123.38015\"/>\n     <use style=\"fill:#1e90ff;fill-opacity:0.7;stroke:#1e90ff;stroke-opacity:0.7;\" x=\"478.415\" xlink:href=\"#mf703b7a029\" y=\"123.38015\"/>\n     <use style=\"fill:#1e90ff;fill-opacity:0.7;stroke:#1e90ff;stroke-opacity:0.7;\" x=\"483.995\" xlink:href=\"#mf703b7a029\" y=\"123.38015\"/>\n     <use style=\"fill:#1e90ff;fill-opacity:0.7;stroke:#1e90ff;stroke-opacity:0.7;\" x=\"489.575\" xlink:href=\"#mf703b7a029\" y=\"165.738592\"/>\n     <use style=\"fill:#1e90ff;fill-opacity:0.7;stroke:#1e90ff;stroke-opacity:0.7;\" x=\"495.155\" xlink:href=\"#mf703b7a029\" y=\"208.097033\"/>\n     <use style=\"fill:#1e90ff;fill-opacity:0.7;stroke:#1e90ff;stroke-opacity:0.7;\" x=\"500.735\" xlink:href=\"#mf703b7a029\" y=\"165.738592\"/>\n     <use style=\"fill:#1e90ff;fill-opacity:0.7;stroke:#1e90ff;stroke-opacity:0.7;\" x=\"506.315\" xlink:href=\"#mf703b7a029\" y=\"186.917812\"/>\n     <use style=\"fill:#1e90ff;fill-opacity:0.7;stroke:#1e90ff;stroke-opacity:0.7;\" x=\"511.895\" xlink:href=\"#mf703b7a029\" y=\"123.38015\"/>\n     <use style=\"fill:#1e90ff;fill-opacity:0.7;stroke:#1e90ff;stroke-opacity:0.7;\" x=\"517.475\" xlink:href=\"#mf703b7a029\" y=\"165.738592\"/>\n     <use style=\"fill:#1e90ff;fill-opacity:0.7;stroke:#1e90ff;stroke-opacity:0.7;\" x=\"523.055\" xlink:href=\"#mf703b7a029\" y=\"102.200929\"/>\n     <use style=\"fill:#1e90ff;fill-opacity:0.7;stroke:#1e90ff;stroke-opacity:0.7;\" x=\"528.635\" xlink:href=\"#mf703b7a029\" y=\"144.559371\"/>\n     <use style=\"fill:#1e90ff;fill-opacity:0.7;stroke:#1e90ff;stroke-opacity:0.7;\" x=\"534.215\" xlink:href=\"#mf703b7a029\" y=\"123.38015\"/>\n     <use style=\"fill:#1e90ff;fill-opacity:0.7;stroke:#1e90ff;stroke-opacity:0.7;\" x=\"539.795\" xlink:href=\"#mf703b7a029\" y=\"208.097033\"/>\n     <use style=\"fill:#1e90ff;fill-opacity:0.7;stroke:#1e90ff;stroke-opacity:0.7;\" x=\"545.375\" xlink:href=\"#mf703b7a029\" y=\"208.097033\"/>\n     <use style=\"fill:#1e90ff;fill-opacity:0.7;stroke:#1e90ff;stroke-opacity:0.7;\" x=\"550.955\" xlink:href=\"#mf703b7a029\" y=\"123.38015\"/>\n     <use style=\"fill:#1e90ff;fill-opacity:0.7;stroke:#1e90ff;stroke-opacity:0.7;\" x=\"556.535\" xlink:href=\"#mf703b7a029\" y=\"102.200929\"/>\n     <use style=\"fill:#1e90ff;fill-opacity:0.7;stroke:#1e90ff;stroke-opacity:0.7;\" x=\"562.115\" xlink:href=\"#mf703b7a029\" y=\"102.200929\"/>\n     <use style=\"fill:#1e90ff;fill-opacity:0.7;stroke:#1e90ff;stroke-opacity:0.7;\" x=\"567.695\" xlink:href=\"#mf703b7a029\" y=\"81.021709\"/>\n     <use style=\"fill:#1e90ff;fill-opacity:0.7;stroke:#1e90ff;stroke-opacity:0.7;\" x=\"573.275\" xlink:href=\"#mf703b7a029\" y=\"102.200929\"/>\n     <use style=\"fill:#1e90ff;fill-opacity:0.7;stroke:#1e90ff;stroke-opacity:0.7;\" x=\"578.855\" xlink:href=\"#mf703b7a029\" y=\"102.200929\"/>\n     <use style=\"fill:#1e90ff;fill-opacity:0.7;stroke:#1e90ff;stroke-opacity:0.7;\" x=\"584.435\" xlink:href=\"#mf703b7a029\" y=\"208.097033\"/>\n     <use style=\"fill:#1e90ff;fill-opacity:0.7;stroke:#1e90ff;stroke-opacity:0.7;\" x=\"590.015\" xlink:href=\"#mf703b7a029\" y=\"81.021709\"/>\n     <use style=\"fill:#1e90ff;fill-opacity:0.7;stroke:#1e90ff;stroke-opacity:0.7;\" x=\"595.595\" xlink:href=\"#mf703b7a029\" y=\"38.663267\"/>\n     <use style=\"fill:#1e90ff;fill-opacity:0.7;stroke:#1e90ff;stroke-opacity:0.7;\" x=\"601.175\" xlink:href=\"#mf703b7a029\" y=\"81.021709\"/>\n     <use style=\"fill:#1e90ff;fill-opacity:0.7;stroke:#1e90ff;stroke-opacity:0.7;\" x=\"606.755\" xlink:href=\"#mf703b7a029\" y=\"123.38015\"/>\n     <use style=\"fill:#1e90ff;fill-opacity:0.7;stroke:#1e90ff;stroke-opacity:0.7;\" x=\"612.335\" xlink:href=\"#mf703b7a029\" y=\"102.200929\"/>\n     <use style=\"fill:#1e90ff;fill-opacity:0.7;stroke:#1e90ff;stroke-opacity:0.7;\" x=\"617.915\" xlink:href=\"#mf703b7a029\" y=\"81.021709\"/>\n     <use style=\"fill:#1e90ff;fill-opacity:0.7;stroke:#1e90ff;stroke-opacity:0.7;\" x=\"623.495\" xlink:href=\"#mf703b7a029\" y=\"165.738592\"/>\n     <use style=\"fill:#1e90ff;fill-opacity:0.7;stroke:#1e90ff;stroke-opacity:0.7;\" x=\"629.075\" xlink:href=\"#mf703b7a029\" y=\"102.200929\"/>\n     <use style=\"fill:#1e90ff;fill-opacity:0.7;stroke:#1e90ff;stroke-opacity:0.7;\" x=\"634.655\" xlink:href=\"#mf703b7a029\" y=\"102.200929\"/>\n     <use style=\"fill:#1e90ff;fill-opacity:0.7;stroke:#1e90ff;stroke-opacity:0.7;\" x=\"640.235\" xlink:href=\"#mf703b7a029\" y=\"81.021709\"/>\n     <use style=\"fill:#1e90ff;fill-opacity:0.7;stroke:#1e90ff;stroke-opacity:0.7;\" x=\"645.815\" xlink:href=\"#mf703b7a029\" y=\"123.38015\"/>\n     <use style=\"fill:#1e90ff;fill-opacity:0.7;stroke:#1e90ff;stroke-opacity:0.7;\" x=\"651.395\" xlink:href=\"#mf703b7a029\" y=\"81.021709\"/>\n     <use style=\"fill:#1e90ff;fill-opacity:0.7;stroke:#1e90ff;stroke-opacity:0.7;\" x=\"656.975\" xlink:href=\"#mf703b7a029\" y=\"144.559371\"/>\n     <use style=\"fill:#1e90ff;fill-opacity:0.7;stroke:#1e90ff;stroke-opacity:0.7;\" x=\"662.555\" xlink:href=\"#mf703b7a029\" y=\"81.021709\"/>\n     <use style=\"fill:#1e90ff;fill-opacity:0.7;stroke:#1e90ff;stroke-opacity:0.7;\" x=\"668.135\" xlink:href=\"#mf703b7a029\" y=\"81.021709\"/>\n     <use style=\"fill:#1e90ff;fill-opacity:0.7;stroke:#1e90ff;stroke-opacity:0.7;\" x=\"673.715\" xlink:href=\"#mf703b7a029\" y=\"123.38015\"/>\n     <use style=\"fill:#1e90ff;fill-opacity:0.7;stroke:#1e90ff;stroke-opacity:0.7;\" x=\"679.295\" xlink:href=\"#mf703b7a029\" y=\"123.38015\"/>\n     <use style=\"fill:#1e90ff;fill-opacity:0.7;stroke:#1e90ff;stroke-opacity:0.7;\" x=\"684.875\" xlink:href=\"#mf703b7a029\" y=\"102.200929\"/>\n     <use style=\"fill:#1e90ff;fill-opacity:0.7;stroke:#1e90ff;stroke-opacity:0.7;\" x=\"690.455\" xlink:href=\"#mf703b7a029\" y=\"81.021709\"/>\n     <use style=\"fill:#1e90ff;fill-opacity:0.7;stroke:#1e90ff;stroke-opacity:0.7;\" x=\"696.035\" xlink:href=\"#mf703b7a029\" y=\"59.842488\"/>\n     <use style=\"fill:#1e90ff;fill-opacity:0.7;stroke:#1e90ff;stroke-opacity:0.7;\" x=\"701.615\" xlink:href=\"#mf703b7a029\" y=\"102.200929\"/>\n    </g>\n   </g>\n   <g id=\"matplotlib.axis_1\">\n    <g id=\"xtick_1\">\n     <g id=\"line2d_1\">\n      <defs>\n       <path d=\"M 0 0 \nL 0 3.5 \n\" id=\"m6c208ace4a\" style=\"stroke:#000000;stroke-width:0.8;\"/>\n      </defs>\n      <g>\n       <use style=\"stroke:#000000;stroke-width:0.8;\" x=\"32.015\" xlink:href=\"#m6c208ace4a\" y=\"349.997812\"/>\n      </g>\n     </g>\n     <g id=\"text_1\">\n      <!-- 1900 -->\n      <g transform=\"translate(22.149535 389.714096)rotate(-45)scale(0.14 -0.14)\">\n       <defs>\n        <path d=\"M 12.40625 8.296875 \nL 28.515625 8.296875 \nL 28.515625 63.921875 \nL 10.984375 60.40625 \nL 10.984375 69.390625 \nL 28.421875 72.90625 \nL 38.28125 72.90625 \nL 38.28125 8.296875 \nL 54.390625 8.296875 \nL 54.390625 0 \nL 12.40625 0 \nz\n\" id=\"DejaVuSans-49\"/>\n        <path d=\"M 10.984375 1.515625 \nL 10.984375 10.5 \nQ 14.703125 8.734375 18.5 7.8125 \nQ 22.3125 6.890625 25.984375 6.890625 \nQ 35.75 6.890625 40.890625 13.453125 \nQ 46.046875 20.015625 46.78125 33.40625 \nQ 43.953125 29.203125 39.59375 26.953125 \nQ 35.25 24.703125 29.984375 24.703125 \nQ 19.046875 24.703125 12.671875 31.3125 \nQ 6.296875 37.9375 6.296875 49.421875 \nQ 6.296875 60.640625 12.9375 67.421875 \nQ 19.578125 74.21875 30.609375 74.21875 \nQ 43.265625 74.21875 49.921875 64.515625 \nQ 56.59375 54.828125 56.59375 36.375 \nQ 56.59375 19.140625 48.40625 8.859375 \nQ 40.234375 -1.421875 26.421875 -1.421875 \nQ 22.703125 -1.421875 18.890625 -0.6875 \nQ 15.09375 0.046875 10.984375 1.515625 \nz\nM 30.609375 32.421875 \nQ 37.25 32.421875 41.125 36.953125 \nQ 45.015625 41.5 45.015625 49.421875 \nQ 45.015625 57.28125 41.125 61.84375 \nQ 37.25 66.40625 30.609375 66.40625 \nQ 23.96875 66.40625 20.09375 61.84375 \nQ 16.21875 57.28125 16.21875 49.421875 \nQ 16.21875 41.5 20.09375 36.953125 \nQ 23.96875 32.421875 30.609375 32.421875 \nz\n\" id=\"DejaVuSans-57\"/>\n        <path d=\"M 31.78125 66.40625 \nQ 24.171875 66.40625 20.328125 58.90625 \nQ 16.5 51.421875 16.5 36.375 \nQ 16.5 21.390625 20.328125 13.890625 \nQ 24.171875 6.390625 31.78125 6.390625 \nQ 39.453125 6.390625 43.28125 13.890625 \nQ 47.125 21.390625 47.125 36.375 \nQ 47.125 51.421875 43.28125 58.90625 \nQ 39.453125 66.40625 31.78125 66.40625 \nz\nM 31.78125 74.21875 \nQ 44.046875 74.21875 50.515625 64.515625 \nQ 56.984375 54.828125 56.984375 36.375 \nQ 56.984375 17.96875 50.515625 8.265625 \nQ 44.046875 -1.421875 31.78125 -1.421875 \nQ 19.53125 -1.421875 13.0625 8.265625 \nQ 6.59375 17.96875 6.59375 36.375 \nQ 6.59375 54.828125 13.0625 64.515625 \nQ 19.53125 74.21875 31.78125 74.21875 \nz\n\" id=\"DejaVuSans-48\"/>\n       </defs>\n       <use xlink:href=\"#DejaVuSans-49\"/>\n       <use x=\"63.623047\" xlink:href=\"#DejaVuSans-57\"/>\n       <use x=\"127.246094\" xlink:href=\"#DejaVuSans-48\"/>\n       <use x=\"190.869141\" xlink:href=\"#DejaVuSans-48\"/>\n      </g>\n     </g>\n    </g>\n    <g id=\"xtick_2\">\n     <g id=\"line2d_2\">\n      <g>\n       <use style=\"stroke:#000000;stroke-width:0.8;\" x=\"59.915\" xlink:href=\"#m6c208ace4a\" y=\"349.997812\"/>\n      </g>\n     </g>\n     <g id=\"text_2\">\n      <!-- 1905 -->\n      <g transform=\"translate(50.049535 389.714096)rotate(-45)scale(0.14 -0.14)\">\n       <defs>\n        <path d=\"M 10.796875 72.90625 \nL 49.515625 72.90625 \nL 49.515625 64.59375 \nL 19.828125 64.59375 \nL 19.828125 46.734375 \nQ 21.96875 47.46875 24.109375 47.828125 \nQ 26.265625 48.1875 28.421875 48.1875 \nQ 40.625 48.1875 47.75 41.5 \nQ 54.890625 34.8125 54.890625 23.390625 \nQ 54.890625 11.625 47.5625 5.09375 \nQ 40.234375 -1.421875 26.90625 -1.421875 \nQ 22.3125 -1.421875 17.546875 -0.640625 \nQ 12.796875 0.140625 7.71875 1.703125 \nL 7.71875 11.625 \nQ 12.109375 9.234375 16.796875 8.0625 \nQ 21.484375 6.890625 26.703125 6.890625 \nQ 35.15625 6.890625 40.078125 11.328125 \nQ 45.015625 15.765625 45.015625 23.390625 \nQ 45.015625 31 40.078125 35.4375 \nQ 35.15625 39.890625 26.703125 39.890625 \nQ 22.75 39.890625 18.8125 39.015625 \nQ 14.890625 38.140625 10.796875 36.28125 \nz\n\" id=\"DejaVuSans-53\"/>\n       </defs>\n       <use xlink:href=\"#DejaVuSans-49\"/>\n       <use x=\"63.623047\" xlink:href=\"#DejaVuSans-57\"/>\n       <use x=\"127.246094\" xlink:href=\"#DejaVuSans-48\"/>\n       <use x=\"190.869141\" xlink:href=\"#DejaVuSans-53\"/>\n      </g>\n     </g>\n    </g>\n    <g id=\"xtick_3\">\n     <g id=\"line2d_3\">\n      <g>\n       <use style=\"stroke:#000000;stroke-width:0.8;\" x=\"87.815\" xlink:href=\"#m6c208ace4a\" y=\"349.997812\"/>\n      </g>\n     </g>\n     <g id=\"text_3\">\n      <!-- 1910 -->\n      <g transform=\"translate(77.949535 389.714096)rotate(-45)scale(0.14 -0.14)\">\n       <use xlink:href=\"#DejaVuSans-49\"/>\n       <use x=\"63.623047\" xlink:href=\"#DejaVuSans-57\"/>\n       <use x=\"127.246094\" xlink:href=\"#DejaVuSans-49\"/>\n       <use x=\"190.869141\" xlink:href=\"#DejaVuSans-48\"/>\n      </g>\n     </g>\n    </g>\n    <g id=\"xtick_4\">\n     <g id=\"line2d_4\">\n      <g>\n       <use style=\"stroke:#000000;stroke-width:0.8;\" x=\"115.715\" xlink:href=\"#m6c208ace4a\" y=\"349.997812\"/>\n      </g>\n     </g>\n     <g id=\"text_4\">\n      <!-- 1915 -->\n      <g transform=\"translate(105.849535 389.714096)rotate(-45)scale(0.14 -0.14)\">\n       <use xlink:href=\"#DejaVuSans-49\"/>\n       <use x=\"63.623047\" xlink:href=\"#DejaVuSans-57\"/>\n       <use x=\"127.246094\" xlink:href=\"#DejaVuSans-49\"/>\n       <use x=\"190.869141\" xlink:href=\"#DejaVuSans-53\"/>\n      </g>\n     </g>\n    </g>\n    <g id=\"xtick_5\">\n     <g id=\"line2d_5\">\n      <g>\n       <use style=\"stroke:#000000;stroke-width:0.8;\" x=\"143.615\" xlink:href=\"#m6c208ace4a\" y=\"349.997812\"/>\n      </g>\n     </g>\n     <g id=\"text_5\">\n      <!-- 1920 -->\n      <g transform=\"translate(133.749535 389.714096)rotate(-45)scale(0.14 -0.14)\">\n       <defs>\n        <path d=\"M 19.1875 8.296875 \nL 53.609375 8.296875 \nL 53.609375 0 \nL 7.328125 0 \nL 7.328125 8.296875 \nQ 12.9375 14.109375 22.625 23.890625 \nQ 32.328125 33.6875 34.8125 36.53125 \nQ 39.546875 41.84375 41.421875 45.53125 \nQ 43.3125 49.21875 43.3125 52.78125 \nQ 43.3125 58.59375 39.234375 62.25 \nQ 35.15625 65.921875 28.609375 65.921875 \nQ 23.96875 65.921875 18.8125 64.3125 \nQ 13.671875 62.703125 7.8125 59.421875 \nL 7.8125 69.390625 \nQ 13.765625 71.78125 18.9375 73 \nQ 24.125 74.21875 28.421875 74.21875 \nQ 39.75 74.21875 46.484375 68.546875 \nQ 53.21875 62.890625 53.21875 53.421875 \nQ 53.21875 48.921875 51.53125 44.890625 \nQ 49.859375 40.875 45.40625 35.40625 \nQ 44.1875 33.984375 37.640625 27.21875 \nQ 31.109375 20.453125 19.1875 8.296875 \nz\n\" id=\"DejaVuSans-50\"/>\n       </defs>\n       <use xlink:href=\"#DejaVuSans-49\"/>\n       <use x=\"63.623047\" xlink:href=\"#DejaVuSans-57\"/>\n       <use x=\"127.246094\" xlink:href=\"#DejaVuSans-50\"/>\n       <use x=\"190.869141\" xlink:href=\"#DejaVuSans-48\"/>\n      </g>\n     </g>\n    </g>\n    <g id=\"xtick_6\">\n     <g id=\"line2d_6\">\n      <g>\n       <use style=\"stroke:#000000;stroke-width:0.8;\" x=\"171.515\" xlink:href=\"#m6c208ace4a\" y=\"349.997812\"/>\n      </g>\n     </g>\n     <g id=\"text_6\">\n      <!-- 1925 -->\n      <g transform=\"translate(161.649535 389.714096)rotate(-45)scale(0.14 -0.14)\">\n       <use xlink:href=\"#DejaVuSans-49\"/>\n       <use x=\"63.623047\" xlink:href=\"#DejaVuSans-57\"/>\n       <use x=\"127.246094\" xlink:href=\"#DejaVuSans-50\"/>\n       <use x=\"190.869141\" xlink:href=\"#DejaVuSans-53\"/>\n      </g>\n     </g>\n    </g>\n    <g id=\"xtick_7\">\n     <g id=\"line2d_7\">\n      <g>\n       <use style=\"stroke:#000000;stroke-width:0.8;\" x=\"199.415\" xlink:href=\"#m6c208ace4a\" y=\"349.997812\"/>\n      </g>\n     </g>\n     <g id=\"text_7\">\n      <!-- 1930 -->\n      <g transform=\"translate(189.549535 389.714096)rotate(-45)scale(0.14 -0.14)\">\n       <defs>\n        <path d=\"M 40.578125 39.3125 \nQ 47.65625 37.796875 51.625 33 \nQ 55.609375 28.21875 55.609375 21.1875 \nQ 55.609375 10.40625 48.1875 4.484375 \nQ 40.765625 -1.421875 27.09375 -1.421875 \nQ 22.515625 -1.421875 17.65625 -0.515625 \nQ 12.796875 0.390625 7.625 2.203125 \nL 7.625 11.71875 \nQ 11.71875 9.328125 16.59375 8.109375 \nQ 21.484375 6.890625 26.8125 6.890625 \nQ 36.078125 6.890625 40.9375 10.546875 \nQ 45.796875 14.203125 45.796875 21.1875 \nQ 45.796875 27.640625 41.28125 31.265625 \nQ 36.765625 34.90625 28.71875 34.90625 \nL 20.21875 34.90625 \nL 20.21875 43.015625 \nL 29.109375 43.015625 \nQ 36.375 43.015625 40.234375 45.921875 \nQ 44.09375 48.828125 44.09375 54.296875 \nQ 44.09375 59.90625 40.109375 62.90625 \nQ 36.140625 65.921875 28.71875 65.921875 \nQ 24.65625 65.921875 20.015625 65.03125 \nQ 15.375 64.15625 9.8125 62.3125 \nL 9.8125 71.09375 \nQ 15.4375 72.65625 20.34375 73.4375 \nQ 25.25 74.21875 29.59375 74.21875 \nQ 40.828125 74.21875 47.359375 69.109375 \nQ 53.90625 64.015625 53.90625 55.328125 \nQ 53.90625 49.265625 50.4375 45.09375 \nQ 46.96875 40.921875 40.578125 39.3125 \nz\n\" id=\"DejaVuSans-51\"/>\n       </defs>\n       <use xlink:href=\"#DejaVuSans-49\"/>\n       <use x=\"63.623047\" xlink:href=\"#DejaVuSans-57\"/>\n       <use x=\"127.246094\" xlink:href=\"#DejaVuSans-51\"/>\n       <use x=\"190.869141\" xlink:href=\"#DejaVuSans-48\"/>\n      </g>\n     </g>\n    </g>\n    <g id=\"xtick_8\">\n     <g id=\"line2d_8\">\n      <g>\n       <use style=\"stroke:#000000;stroke-width:0.8;\" x=\"227.315\" xlink:href=\"#m6c208ace4a\" y=\"349.997812\"/>\n      </g>\n     </g>\n     <g id=\"text_8\">\n      <!-- 1935 -->\n      <g transform=\"translate(217.449535 389.714096)rotate(-45)scale(0.14 -0.14)\">\n       <use xlink:href=\"#DejaVuSans-49\"/>\n       <use x=\"63.623047\" xlink:href=\"#DejaVuSans-57\"/>\n       <use x=\"127.246094\" xlink:href=\"#DejaVuSans-51\"/>\n       <use x=\"190.869141\" xlink:href=\"#DejaVuSans-53\"/>\n      </g>\n     </g>\n    </g>\n    <g id=\"xtick_9\">\n     <g id=\"line2d_9\">\n      <g>\n       <use style=\"stroke:#000000;stroke-width:0.8;\" x=\"255.215\" xlink:href=\"#m6c208ace4a\" y=\"349.997812\"/>\n      </g>\n     </g>\n     <g id=\"text_9\">\n      <!-- 1940 -->\n      <g transform=\"translate(245.349535 389.714096)rotate(-45)scale(0.14 -0.14)\">\n       <defs>\n        <path d=\"M 37.796875 64.3125 \nL 12.890625 25.390625 \nL 37.796875 25.390625 \nz\nM 35.203125 72.90625 \nL 47.609375 72.90625 \nL 47.609375 25.390625 \nL 58.015625 25.390625 \nL 58.015625 17.1875 \nL 47.609375 17.1875 \nL 47.609375 0 \nL 37.796875 0 \nL 37.796875 17.1875 \nL 4.890625 17.1875 \nL 4.890625 26.703125 \nz\n\" id=\"DejaVuSans-52\"/>\n       </defs>\n       <use xlink:href=\"#DejaVuSans-49\"/>\n       <use x=\"63.623047\" xlink:href=\"#DejaVuSans-57\"/>\n       <use x=\"127.246094\" xlink:href=\"#DejaVuSans-52\"/>\n       <use x=\"190.869141\" xlink:href=\"#DejaVuSans-48\"/>\n      </g>\n     </g>\n    </g>\n    <g id=\"xtick_10\">\n     <g id=\"line2d_10\">\n      <g>\n       <use style=\"stroke:#000000;stroke-width:0.8;\" x=\"283.115\" xlink:href=\"#m6c208ace4a\" y=\"349.997812\"/>\n      </g>\n     </g>\n     <g id=\"text_10\">\n      <!-- 1945 -->\n      <g transform=\"translate(273.249535 389.714096)rotate(-45)scale(0.14 -0.14)\">\n       <use xlink:href=\"#DejaVuSans-49\"/>\n       <use x=\"63.623047\" xlink:href=\"#DejaVuSans-57\"/>\n       <use x=\"127.246094\" xlink:href=\"#DejaVuSans-52\"/>\n       <use x=\"190.869141\" xlink:href=\"#DejaVuSans-53\"/>\n      </g>\n     </g>\n    </g>\n    <g id=\"xtick_11\">\n     <g id=\"line2d_11\">\n      <g>\n       <use style=\"stroke:#000000;stroke-width:0.8;\" x=\"311.015\" xlink:href=\"#m6c208ace4a\" y=\"349.997812\"/>\n      </g>\n     </g>\n     <g id=\"text_11\">\n      <!-- 1950 -->\n      <g transform=\"translate(301.149535 389.714096)rotate(-45)scale(0.14 -0.14)\">\n       <use xlink:href=\"#DejaVuSans-49\"/>\n       <use x=\"63.623047\" xlink:href=\"#DejaVuSans-57\"/>\n       <use x=\"127.246094\" xlink:href=\"#DejaVuSans-53\"/>\n       <use x=\"190.869141\" xlink:href=\"#DejaVuSans-48\"/>\n      </g>\n     </g>\n    </g>\n    <g id=\"xtick_12\">\n     <g id=\"line2d_12\">\n      <g>\n       <use style=\"stroke:#000000;stroke-width:0.8;\" x=\"338.915\" xlink:href=\"#m6c208ace4a\" y=\"349.997812\"/>\n      </g>\n     </g>\n     <g id=\"text_12\">\n      <!-- 1955 -->\n      <g transform=\"translate(329.049535 389.714096)rotate(-45)scale(0.14 -0.14)\">\n       <use xlink:href=\"#DejaVuSans-49\"/>\n       <use x=\"63.623047\" xlink:href=\"#DejaVuSans-57\"/>\n       <use x=\"127.246094\" xlink:href=\"#DejaVuSans-53\"/>\n       <use x=\"190.869141\" xlink:href=\"#DejaVuSans-53\"/>\n      </g>\n     </g>\n    </g>\n    <g id=\"xtick_13\">\n     <g id=\"line2d_13\">\n      <g>\n       <use style=\"stroke:#000000;stroke-width:0.8;\" x=\"366.815\" xlink:href=\"#m6c208ace4a\" y=\"349.997812\"/>\n      </g>\n     </g>\n     <g id=\"text_13\">\n      <!-- 1960 -->\n      <g transform=\"translate(356.949535 389.714096)rotate(-45)scale(0.14 -0.14)\">\n       <defs>\n        <path d=\"M 33.015625 40.375 \nQ 26.375 40.375 22.484375 35.828125 \nQ 18.609375 31.296875 18.609375 23.390625 \nQ 18.609375 15.53125 22.484375 10.953125 \nQ 26.375 6.390625 33.015625 6.390625 \nQ 39.65625 6.390625 43.53125 10.953125 \nQ 47.40625 15.53125 47.40625 23.390625 \nQ 47.40625 31.296875 43.53125 35.828125 \nQ 39.65625 40.375 33.015625 40.375 \nz\nM 52.59375 71.296875 \nL 52.59375 62.3125 \nQ 48.875 64.0625 45.09375 64.984375 \nQ 41.3125 65.921875 37.59375 65.921875 \nQ 27.828125 65.921875 22.671875 59.328125 \nQ 17.53125 52.734375 16.796875 39.40625 \nQ 19.671875 43.65625 24.015625 45.921875 \nQ 28.375 48.1875 33.59375 48.1875 \nQ 44.578125 48.1875 50.953125 41.515625 \nQ 57.328125 34.859375 57.328125 23.390625 \nQ 57.328125 12.15625 50.6875 5.359375 \nQ 44.046875 -1.421875 33.015625 -1.421875 \nQ 20.359375 -1.421875 13.671875 8.265625 \nQ 6.984375 17.96875 6.984375 36.375 \nQ 6.984375 53.65625 15.1875 63.9375 \nQ 23.390625 74.21875 37.203125 74.21875 \nQ 40.921875 74.21875 44.703125 73.484375 \nQ 48.484375 72.75 52.59375 71.296875 \nz\n\" id=\"DejaVuSans-54\"/>\n       </defs>\n       <use xlink:href=\"#DejaVuSans-49\"/>\n       <use x=\"63.623047\" xlink:href=\"#DejaVuSans-57\"/>\n       <use x=\"127.246094\" xlink:href=\"#DejaVuSans-54\"/>\n       <use x=\"190.869141\" xlink:href=\"#DejaVuSans-48\"/>\n      </g>\n     </g>\n    </g>\n    <g id=\"xtick_14\">\n     <g id=\"line2d_14\">\n      <g>\n       <use style=\"stroke:#000000;stroke-width:0.8;\" x=\"394.715\" xlink:href=\"#m6c208ace4a\" y=\"349.997812\"/>\n      </g>\n     </g>\n     <g id=\"text_14\">\n      <!-- 1965 -->\n      <g transform=\"translate(384.849535 389.714096)rotate(-45)scale(0.14 -0.14)\">\n       <use xlink:href=\"#DejaVuSans-49\"/>\n       <use x=\"63.623047\" xlink:href=\"#DejaVuSans-57\"/>\n       <use x=\"127.246094\" xlink:href=\"#DejaVuSans-54\"/>\n       <use x=\"190.869141\" xlink:href=\"#DejaVuSans-53\"/>\n      </g>\n     </g>\n    </g>\n    <g id=\"xtick_15\">\n     <g id=\"line2d_15\">\n      <g>\n       <use style=\"stroke:#000000;stroke-width:0.8;\" x=\"422.615\" xlink:href=\"#m6c208ace4a\" y=\"349.997812\"/>\n      </g>\n     </g>\n     <g id=\"text_15\">\n      <!-- 1970 -->\n      <g transform=\"translate(412.749535 389.714096)rotate(-45)scale(0.14 -0.14)\">\n       <defs>\n        <path d=\"M 8.203125 72.90625 \nL 55.078125 72.90625 \nL 55.078125 68.703125 \nL 28.609375 0 \nL 18.3125 0 \nL 43.21875 64.59375 \nL 8.203125 64.59375 \nz\n\" id=\"DejaVuSans-55\"/>\n       </defs>\n       <use xlink:href=\"#DejaVuSans-49\"/>\n       <use x=\"63.623047\" xlink:href=\"#DejaVuSans-57\"/>\n       <use x=\"127.246094\" xlink:href=\"#DejaVuSans-55\"/>\n       <use x=\"190.869141\" xlink:href=\"#DejaVuSans-48\"/>\n      </g>\n     </g>\n    </g>\n    <g id=\"xtick_16\">\n     <g id=\"line2d_16\">\n      <g>\n       <use style=\"stroke:#000000;stroke-width:0.8;\" x=\"450.515\" xlink:href=\"#m6c208ace4a\" y=\"349.997812\"/>\n      </g>\n     </g>\n     <g id=\"text_16\">\n      <!-- 1975 -->\n      <g transform=\"translate(440.649535 389.714096)rotate(-45)scale(0.14 -0.14)\">\n       <use xlink:href=\"#DejaVuSans-49\"/>\n       <use x=\"63.623047\" xlink:href=\"#DejaVuSans-57\"/>\n       <use x=\"127.246094\" xlink:href=\"#DejaVuSans-55\"/>\n       <use x=\"190.869141\" xlink:href=\"#DejaVuSans-53\"/>\n      </g>\n     </g>\n    </g>\n    <g id=\"xtick_17\">\n     <g id=\"line2d_17\">\n      <g>\n       <use style=\"stroke:#000000;stroke-width:0.8;\" x=\"478.415\" xlink:href=\"#m6c208ace4a\" y=\"349.997812\"/>\n      </g>\n     </g>\n     <g id=\"text_17\">\n      <!-- 1980 -->\n      <g transform=\"translate(468.549535 389.714096)rotate(-45)scale(0.14 -0.14)\">\n       <defs>\n        <path d=\"M 31.78125 34.625 \nQ 24.75 34.625 20.71875 30.859375 \nQ 16.703125 27.09375 16.703125 20.515625 \nQ 16.703125 13.921875 20.71875 10.15625 \nQ 24.75 6.390625 31.78125 6.390625 \nQ 38.8125 6.390625 42.859375 10.171875 \nQ 46.921875 13.96875 46.921875 20.515625 \nQ 46.921875 27.09375 42.890625 30.859375 \nQ 38.875 34.625 31.78125 34.625 \nz\nM 21.921875 38.8125 \nQ 15.578125 40.375 12.03125 44.71875 \nQ 8.5 49.078125 8.5 55.328125 \nQ 8.5 64.0625 14.71875 69.140625 \nQ 20.953125 74.21875 31.78125 74.21875 \nQ 42.671875 74.21875 48.875 69.140625 \nQ 55.078125 64.0625 55.078125 55.328125 \nQ 55.078125 49.078125 51.53125 44.71875 \nQ 48 40.375 41.703125 38.8125 \nQ 48.828125 37.15625 52.796875 32.3125 \nQ 56.78125 27.484375 56.78125 20.515625 \nQ 56.78125 9.90625 50.3125 4.234375 \nQ 43.84375 -1.421875 31.78125 -1.421875 \nQ 19.734375 -1.421875 13.25 4.234375 \nQ 6.78125 9.90625 6.78125 20.515625 \nQ 6.78125 27.484375 10.78125 32.3125 \nQ 14.796875 37.15625 21.921875 38.8125 \nz\nM 18.3125 54.390625 \nQ 18.3125 48.734375 21.84375 45.5625 \nQ 25.390625 42.390625 31.78125 42.390625 \nQ 38.140625 42.390625 41.71875 45.5625 \nQ 45.3125 48.734375 45.3125 54.390625 \nQ 45.3125 60.0625 41.71875 63.234375 \nQ 38.140625 66.40625 31.78125 66.40625 \nQ 25.390625 66.40625 21.84375 63.234375 \nQ 18.3125 60.0625 18.3125 54.390625 \nz\n\" id=\"DejaVuSans-56\"/>\n       </defs>\n       <use xlink:href=\"#DejaVuSans-49\"/>\n       <use x=\"63.623047\" xlink:href=\"#DejaVuSans-57\"/>\n       <use x=\"127.246094\" xlink:href=\"#DejaVuSans-56\"/>\n       <use x=\"190.869141\" xlink:href=\"#DejaVuSans-48\"/>\n      </g>\n     </g>\n    </g>\n    <g id=\"xtick_18\">\n     <g id=\"line2d_18\">\n      <g>\n       <use style=\"stroke:#000000;stroke-width:0.8;\" x=\"506.315\" xlink:href=\"#m6c208ace4a\" y=\"349.997812\"/>\n      </g>\n     </g>\n     <g id=\"text_18\">\n      <!-- 1985 -->\n      <g transform=\"translate(496.449535 389.714096)rotate(-45)scale(0.14 -0.14)\">\n       <use xlink:href=\"#DejaVuSans-49\"/>\n       <use x=\"63.623047\" xlink:href=\"#DejaVuSans-57\"/>\n       <use x=\"127.246094\" xlink:href=\"#DejaVuSans-56\"/>\n       <use x=\"190.869141\" xlink:href=\"#DejaVuSans-53\"/>\n      </g>\n     </g>\n    </g>\n    <g id=\"xtick_19\">\n     <g id=\"line2d_19\">\n      <g>\n       <use style=\"stroke:#000000;stroke-width:0.8;\" x=\"534.215\" xlink:href=\"#m6c208ace4a\" y=\"349.997812\"/>\n      </g>\n     </g>\n     <g id=\"text_19\">\n      <!-- 1990 -->\n      <g transform=\"translate(524.349535 389.714096)rotate(-45)scale(0.14 -0.14)\">\n       <use xlink:href=\"#DejaVuSans-49\"/>\n       <use x=\"63.623047\" xlink:href=\"#DejaVuSans-57\"/>\n       <use x=\"127.246094\" xlink:href=\"#DejaVuSans-57\"/>\n       <use x=\"190.869141\" xlink:href=\"#DejaVuSans-48\"/>\n      </g>\n     </g>\n    </g>\n    <g id=\"xtick_20\">\n     <g id=\"line2d_20\">\n      <g>\n       <use style=\"stroke:#000000;stroke-width:0.8;\" x=\"562.115\" xlink:href=\"#m6c208ace4a\" y=\"349.997812\"/>\n      </g>\n     </g>\n     <g id=\"text_20\">\n      <!-- 1995 -->\n      <g transform=\"translate(552.249535 389.714096)rotate(-45)scale(0.14 -0.14)\">\n       <use xlink:href=\"#DejaVuSans-49\"/>\n       <use x=\"63.623047\" xlink:href=\"#DejaVuSans-57\"/>\n       <use x=\"127.246094\" xlink:href=\"#DejaVuSans-57\"/>\n       <use x=\"190.869141\" xlink:href=\"#DejaVuSans-53\"/>\n      </g>\n     </g>\n    </g>\n    <g id=\"xtick_21\">\n     <g id=\"line2d_21\">\n      <g>\n       <use style=\"stroke:#000000;stroke-width:0.8;\" x=\"590.015\" xlink:href=\"#m6c208ace4a\" y=\"349.997812\"/>\n      </g>\n     </g>\n     <g id=\"text_21\">\n      <!-- 2000 -->\n      <g transform=\"translate(580.149535 389.714096)rotate(-45)scale(0.14 -0.14)\">\n       <use xlink:href=\"#DejaVuSans-50\"/>\n       <use x=\"63.623047\" xlink:href=\"#DejaVuSans-48\"/>\n       <use x=\"127.246094\" xlink:href=\"#DejaVuSans-48\"/>\n       <use x=\"190.869141\" xlink:href=\"#DejaVuSans-48\"/>\n      </g>\n     </g>\n    </g>\n    <g id=\"xtick_22\">\n     <g id=\"line2d_22\">\n      <g>\n       <use style=\"stroke:#000000;stroke-width:0.8;\" x=\"617.915\" xlink:href=\"#m6c208ace4a\" y=\"349.997812\"/>\n      </g>\n     </g>\n     <g id=\"text_22\">\n      <!-- 2005 -->\n      <g transform=\"translate(608.049535 389.714096)rotate(-45)scale(0.14 -0.14)\">\n       <use xlink:href=\"#DejaVuSans-50\"/>\n       <use x=\"63.623047\" xlink:href=\"#DejaVuSans-48\"/>\n       <use x=\"127.246094\" xlink:href=\"#DejaVuSans-48\"/>\n       <use x=\"190.869141\" xlink:href=\"#DejaVuSans-53\"/>\n      </g>\n     </g>\n    </g>\n    <g id=\"xtick_23\">\n     <g id=\"line2d_23\">\n      <g>\n       <use style=\"stroke:#000000;stroke-width:0.8;\" x=\"645.815\" xlink:href=\"#m6c208ace4a\" y=\"349.997812\"/>\n      </g>\n     </g>\n     <g id=\"text_23\">\n      <!-- 2010 -->\n      <g transform=\"translate(635.949535 389.714096)rotate(-45)scale(0.14 -0.14)\">\n       <use xlink:href=\"#DejaVuSans-50\"/>\n       <use x=\"63.623047\" xlink:href=\"#DejaVuSans-48\"/>\n       <use x=\"127.246094\" xlink:href=\"#DejaVuSans-49\"/>\n       <use x=\"190.869141\" xlink:href=\"#DejaVuSans-48\"/>\n      </g>\n     </g>\n    </g>\n    <g id=\"xtick_24\">\n     <g id=\"line2d_24\">\n      <g>\n       <use style=\"stroke:#000000;stroke-width:0.8;\" x=\"673.715\" xlink:href=\"#m6c208ace4a\" y=\"349.997812\"/>\n      </g>\n     </g>\n     <g id=\"text_24\">\n      <!-- 2015 -->\n      <g transform=\"translate(663.849535 389.714096)rotate(-45)scale(0.14 -0.14)\">\n       <use xlink:href=\"#DejaVuSans-50\"/>\n       <use x=\"63.623047\" xlink:href=\"#DejaVuSans-48\"/>\n       <use x=\"127.246094\" xlink:href=\"#DejaVuSans-49\"/>\n       <use x=\"190.869141\" xlink:href=\"#DejaVuSans-53\"/>\n      </g>\n     </g>\n    </g>\n    <g id=\"xtick_25\">\n     <g id=\"line2d_25\">\n      <g>\n       <use style=\"stroke:#000000;stroke-width:0.8;\" x=\"701.615\" xlink:href=\"#m6c208ace4a\" y=\"349.997812\"/>\n      </g>\n     </g>\n     <g id=\"text_25\">\n      <!-- 2020 -->\n      <g transform=\"translate(691.749535 389.714096)rotate(-45)scale(0.14 -0.14)\">\n       <use xlink:href=\"#DejaVuSans-50\"/>\n       <use x=\"63.623047\" xlink:href=\"#DejaVuSans-48\"/>\n       <use x=\"127.246094\" xlink:href=\"#DejaVuSans-50\"/>\n       <use x=\"190.869141\" xlink:href=\"#DejaVuSans-48\"/>\n      </g>\n     </g>\n    </g>\n   </g>\n   <g id=\"matplotlib.axis_2\">\n    <g id=\"ytick_1\">\n     <g id=\"line2d_26\">\n      <defs>\n       <path d=\"M 0 0 \nL -3.5 0 \n\" id=\"m01e40f4fee\" style=\"stroke:#000000;stroke-width:0.8;\"/>\n      </defs>\n      <g>\n       <use style=\"stroke:#000000;stroke-width:0.8;\" x=\"32.015\" xlink:href=\"#m01e40f4fee\" y=\"313.993137\"/>\n      </g>\n     </g>\n     <g id=\"text_26\">\n      <!-- 2 -->\n      <g transform=\"translate(16.1075 319.312043)scale(0.14 -0.14)\">\n       <use xlink:href=\"#DejaVuSans-50\"/>\n      </g>\n     </g>\n    </g>\n    <g id=\"ytick_2\">\n     <g id=\"line2d_27\">\n      <g>\n       <use style=\"stroke:#000000;stroke-width:0.8;\" x=\"32.015\" xlink:href=\"#m01e40f4fee\" y=\"271.634696\"/>\n      </g>\n     </g>\n     <g id=\"text_27\">\n      <!-- 4 -->\n      <g transform=\"translate(16.1075 276.953602)scale(0.14 -0.14)\">\n       <use xlink:href=\"#DejaVuSans-52\"/>\n      </g>\n     </g>\n    </g>\n    <g id=\"ytick_3\">\n     <g id=\"line2d_28\">\n      <g>\n       <use style=\"stroke:#000000;stroke-width:0.8;\" x=\"32.015\" xlink:href=\"#m01e40f4fee\" y=\"229.276254\"/>\n      </g>\n     </g>\n     <g id=\"text_28\">\n      <!-- 6 -->\n      <g transform=\"translate(16.1075 234.59516)scale(0.14 -0.14)\">\n       <use xlink:href=\"#DejaVuSans-54\"/>\n      </g>\n     </g>\n    </g>\n    <g id=\"ytick_4\">\n     <g id=\"line2d_29\">\n      <g>\n       <use style=\"stroke:#000000;stroke-width:0.8;\" x=\"32.015\" xlink:href=\"#m01e40f4fee\" y=\"186.917812\"/>\n      </g>\n     </g>\n     <g id=\"text_29\">\n      <!-- 8 -->\n      <g transform=\"translate(16.1075 192.236719)scale(0.14 -0.14)\">\n       <use xlink:href=\"#DejaVuSans-56\"/>\n      </g>\n     </g>\n    </g>\n    <g id=\"ytick_5\">\n     <g id=\"line2d_30\">\n      <g>\n       <use style=\"stroke:#000000;stroke-width:0.8;\" x=\"32.015\" xlink:href=\"#m01e40f4fee\" y=\"144.559371\"/>\n      </g>\n     </g>\n     <g id=\"text_30\">\n      <!-- 10 -->\n      <g transform=\"translate(7.2 149.878277)scale(0.14 -0.14)\">\n       <use xlink:href=\"#DejaVuSans-49\"/>\n       <use x=\"63.623047\" xlink:href=\"#DejaVuSans-48\"/>\n      </g>\n     </g>\n    </g>\n    <g id=\"ytick_6\">\n     <g id=\"line2d_31\">\n      <g>\n       <use style=\"stroke:#000000;stroke-width:0.8;\" x=\"32.015\" xlink:href=\"#m01e40f4fee\" y=\"102.200929\"/>\n      </g>\n     </g>\n     <g id=\"text_31\">\n      <!-- 12 -->\n      <g transform=\"translate(7.2 107.519836)scale(0.14 -0.14)\">\n       <use xlink:href=\"#DejaVuSans-49\"/>\n       <use x=\"63.623047\" xlink:href=\"#DejaVuSans-50\"/>\n      </g>\n     </g>\n    </g>\n    <g id=\"ytick_7\">\n     <g id=\"line2d_32\">\n      <g>\n       <use style=\"stroke:#000000;stroke-width:0.8;\" x=\"32.015\" xlink:href=\"#m01e40f4fee\" y=\"59.842488\"/>\n      </g>\n     </g>\n     <g id=\"text_32\">\n      <!-- 14 -->\n      <g transform=\"translate(7.2 65.161394)scale(0.14 -0.14)\">\n       <use xlink:href=\"#DejaVuSans-49\"/>\n       <use x=\"63.623047\" xlink:href=\"#DejaVuSans-52\"/>\n      </g>\n     </g>\n    </g>\n   </g>\n   <g id=\"line2d_33\">\n    <path clip-path=\"url(#p7275e6421d)\" d=\"M 59.915 225.04041 \nL 65.495 225.04041 \nL 71.075 229.276254 \nL 76.655 229.276254 \nL 82.235 225.04041 \nL 87.815 225.04041 \nL 93.395 225.04041 \nL 98.975 225.04041 \nL 104.555 233.512098 \nL 110.135 250.455475 \nL 115.715 254.691319 \nL 121.295 275.87054 \nL 126.875 284.342228 \nL 132.455 297.049761 \nL 138.035 292.813916 \nL 143.615 288.578072 \nL 149.195 271.634696 \nL 154.775 263.163007 \nL 160.355 250.455475 \nL 165.935 254.691319 \nL 171.515 250.455475 \nL 177.095 246.219631 \nL 182.675 241.983787 \nL 188.255 246.219631 \nL 193.835 229.276254 \nL 199.415 233.512098 \nL 204.995 233.512098 \nL 210.575 241.983787 \nL 216.155 237.747942 \nL 221.735 241.983787 \nL 227.315 241.983787 \nL 232.895 237.747942 \nL 238.475 229.276254 \nL 244.055 229.276254 \nL 249.635 233.512098 \nL 271.955 237.747942 \nL 277.535 241.983787 \nL 283.115 241.983787 \nL 288.695 229.276254 \nL 294.275 216.568722 \nL 299.855 216.568722 \nL 305.435 216.568722 \nL 311.015 212.332877 \nL 316.595 216.568722 \nL 322.175 220.804566 \nL 327.755 212.332877 \nL 333.335 203.861189 \nL 338.915 216.568722 \nL 344.495 208.097033 \nL 350.075 212.332877 \nL 355.655 199.625345 \nL 361.235 203.861189 \nL 366.815 199.625345 \nL 372.395 212.332877 \nL 377.975 203.861189 \nL 383.555 195.389501 \nL 389.135 191.153657 \nL 394.715 178.446124 \nL 400.295 178.446124 \nL 405.875 178.446124 \nL 411.455 195.389501 \nL 417.035 186.917812 \nL 422.615 186.917812 \nL 428.195 186.917812 \nL 433.775 174.21028 \nL 439.355 153.031059 \nL 444.935 144.559371 \nL 450.515 131.851838 \nL 456.095 119.144306 \nL 461.675 119.144306 \nL 467.255 123.38015 \nL 472.835 127.615994 \nL 478.415 131.851838 \nL 483.995 123.38015 \nL 489.575 131.851838 \nL 495.155 148.795215 \nL 500.735 157.266903 \nL 506.315 169.974436 \nL 511.895 169.974436 \nL 517.475 169.974436 \nL 523.055 148.795215 \nL 528.635 144.559371 \nL 534.215 131.851838 \nL 539.795 148.795215 \nL 545.375 157.266903 \nL 550.955 161.502748 \nL 556.535 153.031059 \nL 562.115 148.795215 \nL 567.695 123.38015 \nL 573.275 102.200929 \nL 578.855 97.965085 \nL 584.435 119.144306 \nL 590.015 114.908462 \nL 595.595 106.436774 \nL 601.175 102.200929 \nL 606.755 106.436774 \nL 612.335 85.257553 \nL 617.915 85.257553 \nL 623.495 110.672618 \nL 629.075 114.908462 \nL 634.655 110.672618 \nL 640.235 106.436774 \nL 645.815 114.908462 \nL 651.395 97.965085 \nL 656.975 106.436774 \nL 662.555 102.200929 \nL 668.135 102.200929 \nL 673.715 102.200929 \nL 679.295 110.672618 \nL 684.875 102.200929 \nL 690.455 102.200929 \nL 696.035 97.965085 \nL 701.615 93.729241 \n\" style=\"fill:none;stroke:#dc143c;stroke-linecap:square;stroke-width:3;\"/>\n   </g>\n   <g id=\"patch_3\">\n    <path d=\"M 32.015 349.997812 \nL 32.015 23.837812 \n\" style=\"fill:none;stroke:#000000;stroke-linecap:square;stroke-linejoin:miter;stroke-width:0.8;\"/>\n   </g>\n   <g id=\"patch_4\">\n    <path d=\"M 701.615 349.997812 \nL 701.615 23.837812 \n\" style=\"fill:none;stroke:#000000;stroke-linecap:square;stroke-linejoin:miter;stroke-width:0.8;\"/>\n   </g>\n   <g id=\"patch_5\">\n    <path d=\"M 32.015 349.997812 \nL 701.615 349.997812 \n\" style=\"fill:none;stroke:#000000;stroke-linecap:square;stroke-linejoin:miter;stroke-width:0.8;\"/>\n   </g>\n   <g id=\"patch_6\">\n    <path d=\"M 32.015 23.837812 \nL 701.615 23.837812 \n\" style=\"fill:none;stroke:#000000;stroke-linecap:square;stroke-linejoin:miter;stroke-width:0.8;\"/>\n   </g>\n   <g id=\"text_33\">\n    <!-- Prizes per year -->\n    <g transform=\"translate(314.570938 17.837812)scale(0.14 -0.14)\">\n     <defs>\n      <path d=\"M 19.671875 64.796875 \nL 19.671875 37.40625 \nL 32.078125 37.40625 \nQ 38.96875 37.40625 42.71875 40.96875 \nQ 46.484375 44.53125 46.484375 51.125 \nQ 46.484375 57.671875 42.71875 61.234375 \nQ 38.96875 64.796875 32.078125 64.796875 \nz\nM 9.8125 72.90625 \nL 32.078125 72.90625 \nQ 44.34375 72.90625 50.609375 67.359375 \nQ 56.890625 61.8125 56.890625 51.125 \nQ 56.890625 40.328125 50.609375 34.8125 \nQ 44.34375 29.296875 32.078125 29.296875 \nL 19.671875 29.296875 \nL 19.671875 0 \nL 9.8125 0 \nz\n\" id=\"DejaVuSans-80\"/>\n      <path d=\"M 41.109375 46.296875 \nQ 39.59375 47.171875 37.8125 47.578125 \nQ 36.03125 48 33.890625 48 \nQ 26.265625 48 22.1875 43.046875 \nQ 18.109375 38.09375 18.109375 28.8125 \nL 18.109375 0 \nL 9.078125 0 \nL 9.078125 54.6875 \nL 18.109375 54.6875 \nL 18.109375 46.1875 \nQ 20.953125 51.171875 25.484375 53.578125 \nQ 30.03125 56 36.53125 56 \nQ 37.453125 56 38.578125 55.875 \nQ 39.703125 55.765625 41.0625 55.515625 \nz\n\" id=\"DejaVuSans-114\"/>\n      <path d=\"M 9.421875 54.6875 \nL 18.40625 54.6875 \nL 18.40625 0 \nL 9.421875 0 \nz\nM 9.421875 75.984375 \nL 18.40625 75.984375 \nL 18.40625 64.59375 \nL 9.421875 64.59375 \nz\n\" id=\"DejaVuSans-105\"/>\n      <path d=\"M 5.515625 54.6875 \nL 48.1875 54.6875 \nL 48.1875 46.484375 \nL 14.40625 7.171875 \nL 48.1875 7.171875 \nL 48.1875 0 \nL 4.296875 0 \nL 4.296875 8.203125 \nL 38.09375 47.515625 \nL 5.515625 47.515625 \nz\n\" id=\"DejaVuSans-122\"/>\n      <path d=\"M 56.203125 29.59375 \nL 56.203125 25.203125 \nL 14.890625 25.203125 \nQ 15.484375 15.921875 20.484375 11.0625 \nQ 25.484375 6.203125 34.421875 6.203125 \nQ 39.59375 6.203125 44.453125 7.46875 \nQ 49.3125 8.734375 54.109375 11.28125 \nL 54.109375 2.78125 \nQ 49.265625 0.734375 44.1875 -0.34375 \nQ 39.109375 -1.421875 33.890625 -1.421875 \nQ 20.796875 -1.421875 13.15625 6.1875 \nQ 5.515625 13.8125 5.515625 26.8125 \nQ 5.515625 40.234375 12.765625 48.109375 \nQ 20.015625 56 32.328125 56 \nQ 43.359375 56 49.78125 48.890625 \nQ 56.203125 41.796875 56.203125 29.59375 \nz\nM 47.21875 32.234375 \nQ 47.125 39.59375 43.09375 43.984375 \nQ 39.0625 48.390625 32.421875 48.390625 \nQ 24.90625 48.390625 20.390625 44.140625 \nQ 15.875 39.890625 15.1875 32.171875 \nz\n\" id=\"DejaVuSans-101\"/>\n      <path d=\"M 44.28125 53.078125 \nL 44.28125 44.578125 \nQ 40.484375 46.53125 36.375 47.5 \nQ 32.28125 48.484375 27.875 48.484375 \nQ 21.1875 48.484375 17.84375 46.4375 \nQ 14.5 44.390625 14.5 40.28125 \nQ 14.5 37.15625 16.890625 35.375 \nQ 19.28125 33.59375 26.515625 31.984375 \nL 29.59375 31.296875 \nQ 39.15625 29.25 43.1875 25.515625 \nQ 47.21875 21.78125 47.21875 15.09375 \nQ 47.21875 7.46875 41.1875 3.015625 \nQ 35.15625 -1.421875 24.609375 -1.421875 \nQ 20.21875 -1.421875 15.453125 -0.5625 \nQ 10.6875 0.296875 5.421875 2 \nL 5.421875 11.28125 \nQ 10.40625 8.6875 15.234375 7.390625 \nQ 20.0625 6.109375 24.8125 6.109375 \nQ 31.15625 6.109375 34.5625 8.28125 \nQ 37.984375 10.453125 37.984375 14.40625 \nQ 37.984375 18.0625 35.515625 20.015625 \nQ 33.0625 21.96875 24.703125 23.78125 \nL 21.578125 24.515625 \nQ 13.234375 26.265625 9.515625 29.90625 \nQ 5.8125 33.546875 5.8125 39.890625 \nQ 5.8125 47.609375 11.28125 51.796875 \nQ 16.75 56 26.8125 56 \nQ 31.78125 56 36.171875 55.265625 \nQ 40.578125 54.546875 44.28125 53.078125 \nz\n\" id=\"DejaVuSans-115\"/>\n      <path id=\"DejaVuSans-32\"/>\n      <path d=\"M 18.109375 8.203125 \nL 18.109375 -20.796875 \nL 9.078125 -20.796875 \nL 9.078125 54.6875 \nL 18.109375 54.6875 \nL 18.109375 46.390625 \nQ 20.953125 51.265625 25.265625 53.625 \nQ 29.59375 56 35.59375 56 \nQ 45.5625 56 51.78125 48.09375 \nQ 58.015625 40.1875 58.015625 27.296875 \nQ 58.015625 14.40625 51.78125 6.484375 \nQ 45.5625 -1.421875 35.59375 -1.421875 \nQ 29.59375 -1.421875 25.265625 0.953125 \nQ 20.953125 3.328125 18.109375 8.203125 \nz\nM 48.6875 27.296875 \nQ 48.6875 37.203125 44.609375 42.84375 \nQ 40.53125 48.484375 33.40625 48.484375 \nQ 26.265625 48.484375 22.1875 42.84375 \nQ 18.109375 37.203125 18.109375 27.296875 \nQ 18.109375 17.390625 22.1875 11.75 \nQ 26.265625 6.109375 33.40625 6.109375 \nQ 40.53125 6.109375 44.609375 11.75 \nQ 48.6875 17.390625 48.6875 27.296875 \nz\n\" id=\"DejaVuSans-112\"/>\n      <path d=\"M 32.171875 -5.078125 \nQ 28.375 -14.84375 24.75 -17.8125 \nQ 21.140625 -20.796875 15.09375 -20.796875 \nL 7.90625 -20.796875 \nL 7.90625 -13.28125 \nL 13.1875 -13.28125 \nQ 16.890625 -13.28125 18.9375 -11.515625 \nQ 21 -9.765625 23.484375 -3.21875 \nL 25.09375 0.875 \nL 2.984375 54.6875 \nL 12.5 54.6875 \nL 29.59375 11.921875 \nL 46.6875 54.6875 \nL 56.203125 54.6875 \nz\n\" id=\"DejaVuSans-121\"/>\n      <path d=\"M 34.28125 27.484375 \nQ 23.390625 27.484375 19.1875 25 \nQ 14.984375 22.515625 14.984375 16.5 \nQ 14.984375 11.71875 18.140625 8.90625 \nQ 21.296875 6.109375 26.703125 6.109375 \nQ 34.1875 6.109375 38.703125 11.40625 \nQ 43.21875 16.703125 43.21875 25.484375 \nL 43.21875 27.484375 \nz\nM 52.203125 31.203125 \nL 52.203125 0 \nL 43.21875 0 \nL 43.21875 8.296875 \nQ 40.140625 3.328125 35.546875 0.953125 \nQ 30.953125 -1.421875 24.3125 -1.421875 \nQ 15.921875 -1.421875 10.953125 3.296875 \nQ 6 8.015625 6 15.921875 \nQ 6 25.140625 12.171875 29.828125 \nQ 18.359375 34.515625 30.609375 34.515625 \nL 43.21875 34.515625 \nL 43.21875 35.40625 \nQ 43.21875 41.609375 39.140625 45 \nQ 35.0625 48.390625 27.6875 48.390625 \nQ 23 48.390625 18.546875 47.265625 \nQ 14.109375 46.140625 10.015625 43.890625 \nL 10.015625 52.203125 \nQ 14.9375 54.109375 19.578125 55.046875 \nQ 24.21875 56 28.609375 56 \nQ 40.484375 56 46.34375 49.84375 \nQ 52.203125 43.703125 52.203125 31.203125 \nz\n\" id=\"DejaVuSans-97\"/>\n     </defs>\n     <use xlink:href=\"#DejaVuSans-80\"/>\n     <use x=\"58.552734\" xlink:href=\"#DejaVuSans-114\"/>\n     <use x=\"99.666016\" xlink:href=\"#DejaVuSans-105\"/>\n     <use x=\"127.449219\" xlink:href=\"#DejaVuSans-122\"/>\n     <use x=\"179.939453\" xlink:href=\"#DejaVuSans-101\"/>\n     <use x=\"241.462891\" xlink:href=\"#DejaVuSans-115\"/>\n     <use x=\"293.5625\" xlink:href=\"#DejaVuSans-32\"/>\n     <use x=\"325.349609\" xlink:href=\"#DejaVuSans-112\"/>\n     <use x=\"388.826172\" xlink:href=\"#DejaVuSans-101\"/>\n     <use x=\"450.349609\" xlink:href=\"#DejaVuSans-114\"/>\n     <use x=\"491.462891\" xlink:href=\"#DejaVuSans-32\"/>\n     <use x=\"523.25\" xlink:href=\"#DejaVuSans-121\"/>\n     <use x=\"582.429688\" xlink:href=\"#DejaVuSans-101\"/>\n     <use x=\"643.953125\" xlink:href=\"#DejaVuSans-97\"/>\n     <use x=\"705.232422\" xlink:href=\"#DejaVuSans-114\"/>\n    </g>\n   </g>\n  </g>\n </g>\n <defs>\n  <clipPath id=\"p7275e6421d\">\n   <rect height=\"326.16\" width=\"669.6\" x=\"32.015\" y=\"23.837812\"/>\n  </clipPath>\n </defs>\n</svg>\n",
            "image/png": "[encoded data removed]"
          },
          "metadata": {
            "needs_background": "light"
          }
        }
      ]
    },
    {
      "cell_type": "markdown",
      "metadata": {
        "id": "gZWAAkdJo7MJ"
      },
      "source": [
        "# Are More Prizes Shared Than Before?\n",
        "\n",
        "**Challenge**: Investigate if more prizes are shared than before. \n",
        "\n",
        "* Calculate the average prize share of the winners on a year by year basis.\n",
        "* Calculate the 5 year rolling average of the percentage share.\n",
        "* Copy-paste the cell from the chart you created above.\n",
        "* Modify the code to add a secondary axis to your Matplotlib chart.\n",
        "* Plot the rolling average of the prize share on this chart. \n",
        "* See if you can invert the secondary y-axis to make the relationship even more clear. "
      ]
    },
    {
      "cell_type": "code",
      "metadata": {
        "id": "If8-ZFoOFwph"
      },
      "source": [],
      "execution_count": null,
      "outputs": []
    },
    {
      "cell_type": "code",
      "metadata": {
        "id": "QRen05_6Fw0y"
      },
      "source": [],
      "execution_count": null,
      "outputs": []
    },
    {
      "cell_type": "code",
      "metadata": {
        "id": "4kLSGNPkFxPd"
      },
      "source": [],
      "execution_count": null,
      "outputs": []
    },
    {
      "cell_type": "code",
      "metadata": {
        "id": "nPBzjo_gFwsb"
      },
      "source": [],
      "execution_count": null,
      "outputs": []
    },
    {
      "cell_type": "code",
      "metadata": {
        "id": "207bX8O7Fwih"
      },
      "source": [],
      "execution_count": null,
      "outputs": []
    },
    {
      "cell_type": "markdown",
      "metadata": {
        "dc": {
          "key": "3"
        },
        "run_control": {
          "frozen": true
        },
        "tags": [
          "context"
        ],
        "id": "L32lWu0Oo7MM"
      },
      "source": [
        "# The Countries with the Most Nobel Prizes"
      ]
    },
    {
      "cell_type": "markdown",
      "metadata": {
        "id": "UipIHU54o7MN"
      },
      "source": [
        "**Challenge**: \n",
        "* Create a Pandas DataFrame called `top20_countries` that has the two columns. The `prize` column should contain the total number of prizes won. \n",
        "\n",
        "<img src=https://i.imgur.com/6HM8rfB.png width=350>\n",
        "\n",
        "* Is it best to use `birth_country`, `birth_country_current` or `organization_country`? \n",
        "* What are some potential problems when using `birth_country` or any of the others? Which column is the least problematic? \n",
        "* Then use plotly to create a horizontal bar chart showing the number of prizes won by each country. Here's what you're after:\n",
        "\n",
        "<img src=https://i.imgur.com/agcJdRS.png width=750>\n",
        "\n",
        "* What is the ranking for the top 20 countries in terms of the number of prizes?"
      ]
    },
    {
      "cell_type": "code",
      "metadata": {
        "id": "cscYI4BvFzjC"
      },
      "source": [],
      "execution_count": null,
      "outputs": []
    },
    {
      "cell_type": "code",
      "metadata": {
        "id": "Zl2rqcVKFz9P"
      },
      "source": [],
      "execution_count": null,
      "outputs": []
    },
    {
      "cell_type": "code",
      "metadata": {
        "id": "ivVVhHa1F20p"
      },
      "source": [],
      "execution_count": null,
      "outputs": []
    },
    {
      "cell_type": "code",
      "metadata": {
        "id": "eAFgX9_2Fz2W"
      },
      "source": [],
      "execution_count": null,
      "outputs": []
    },
    {
      "cell_type": "code",
      "metadata": {
        "id": "botUfiYDFzbL"
      },
      "source": [],
      "execution_count": null,
      "outputs": []
    },
    {
      "cell_type": "markdown",
      "metadata": {
        "id": "uNTvKsrzo7MR"
      },
      "source": [
        "# Use a Choropleth Map to Show the Number of Prizes Won by Country\n",
        "\n",
        "* Create this choropleth map using [the plotly documentation](https://plotly.com/python/choropleth-maps/):\n",
        "\n",
        "<img src=https://i.imgur.com/s4lqYZH.png>\n",
        "\n",
        "* Experiment with [plotly's available colours](https://plotly.com/python/builtin-colorscales/). I quite like the sequential colour `matter` on this map. \n",
        "\n",
        "Hint: You'll need to use a 3 letter country code for each country. \n"
      ]
    },
    {
      "cell_type": "code",
      "metadata": {
        "id": "2YT8MN4sF4Hs"
      },
      "source": [],
      "execution_count": null,
      "outputs": []
    },
    {
      "cell_type": "code",
      "metadata": {
        "id": "4O5jNBUYF4pD"
      },
      "source": [],
      "execution_count": null,
      "outputs": []
    },
    {
      "cell_type": "code",
      "metadata": {
        "id": "18QSc3EzF43z"
      },
      "source": [],
      "execution_count": null,
      "outputs": []
    },
    {
      "cell_type": "code",
      "metadata": {
        "id": "GIiWUNoGF4ga"
      },
      "source": [],
      "execution_count": null,
      "outputs": []
    },
    {
      "cell_type": "code",
      "metadata": {
        "id": "B7CgFAhiF3wv"
      },
      "source": [],
      "execution_count": null,
      "outputs": []
    },
    {
      "cell_type": "markdown",
      "metadata": {
        "id": "hNB-HUw0o7MU"
      },
      "source": [
        "# In Which Categories are the Different Countries Winning Prizes? \n",
        "\n",
        "**Challenge**: See if you can divide up the plotly bar chart you created above to show the which categories made up the total number of prizes. Here's what you're aiming for:\n",
        "\n",
        "<img src=https://i.imgur.com/iGaIKCL.png>\n",
        "\n",
        "* In which category are Germany and Japan the weakest compared to the United States?\n",
        "* In which category does Germany have more prizes than the UK?\n",
        "* In which categories does France have more prizes than Germany?\n",
        "* Which category makes up most of Australia's nobel prizes?\n",
        "* Which category makes up half of the prizes in the Netherlands?\n",
        "* Does the United States have more prizes in Economics than all of France? What about in Physics or Medicine?\n",
        "\n",
        "\n",
        "The hard part is preparing the data for this chart! \n",
        "\n",
        "\n",
        "*Hint*: Take a two-step approach. The first step is grouping the data by country and category. Then you can create a DataFrame that looks something like this:\n",
        "\n",
        "<img src=https://i.imgur.com/VKjzKa1.png width=450>\n"
      ]
    },
    {
      "cell_type": "code",
      "metadata": {
        "id": "_BuNdpmEF7wR"
      },
      "source": [],
      "execution_count": null,
      "outputs": []
    },
    {
      "cell_type": "code",
      "metadata": {
        "id": "l5eYtGIXF8Mn"
      },
      "source": [],
      "execution_count": null,
      "outputs": []
    },
    {
      "cell_type": "code",
      "metadata": {
        "id": "AJO038bkF8YK"
      },
      "source": [],
      "execution_count": null,
      "outputs": []
    },
    {
      "cell_type": "code",
      "metadata": {
        "id": "8H2OTr_OF8Jh"
      },
      "source": [],
      "execution_count": null,
      "outputs": []
    },
    {
      "cell_type": "code",
      "metadata": {
        "id": "ZTbCsyRKF7yx"
      },
      "source": [],
      "execution_count": null,
      "outputs": []
    },
    {
      "cell_type": "code",
      "metadata": {
        "id": "DhE2gyZhF7oQ"
      },
      "source": [],
      "execution_count": null,
      "outputs": []
    },
    {
      "cell_type": "markdown",
      "metadata": {
        "dc": {
          "key": "10"
        },
        "run_control": {
          "frozen": true
        },
        "tags": [
          "context"
        ],
        "id": "Ic-LN14bo7Mb"
      },
      "source": [
        "### Number of Prizes Won by Each Country Over Time\n",
        "\n",
        "* When did the United States eclipse every other country in terms of the number of prizes won? \n",
        "* Which country or countries were leading previously?\n",
        "* Calculate the cumulative number of prizes won by each country in every year. Again, use the `birth_country_current` of the winner to calculate this. \n",
        "* Create a [plotly line chart](https://plotly.com/python/line-charts/) where each country is a coloured line. "
      ]
    },
    {
      "cell_type": "code",
      "metadata": {
        "id": "VA7NVxrwF-1d"
      },
      "source": [],
      "execution_count": null,
      "outputs": []
    },
    {
      "cell_type": "code",
      "metadata": {
        "id": "_IWG-gi0F_O4"
      },
      "source": [],
      "execution_count": null,
      "outputs": []
    },
    {
      "cell_type": "code",
      "metadata": {
        "id": "4wj1M8NpF_dq"
      },
      "source": [],
      "execution_count": null,
      "outputs": []
    },
    {
      "cell_type": "code",
      "metadata": {
        "id": "ncYD0dKCF_IK"
      },
      "source": [],
      "execution_count": null,
      "outputs": []
    },
    {
      "cell_type": "code",
      "metadata": {
        "id": "7tnA9YoOF_1L"
      },
      "source": [],
      "execution_count": null,
      "outputs": []
    },
    {
      "cell_type": "code",
      "metadata": {
        "id": "F6B7oCPTF-sV"
      },
      "source": [],
      "execution_count": null,
      "outputs": []
    },
    {
      "cell_type": "markdown",
      "metadata": {
        "id": "J7WUUZpUo7Mj"
      },
      "source": [
        "# What are the Top Research Organisations?\n",
        "\n",
        "**Challenge**: Create a bar chart showing the organisations affiliated with the Nobel laureates. It should looks something like this:\n",
        "\n",
        "<img src=https://i.imgur.com/zZihj2p.png width=600>\n",
        "\n",
        "* Which organisations make up the top 20?\n",
        "* How many Nobel prize winners are affiliated with the University of Chicago and Harvard University?"
      ]
    },
    {
      "cell_type": "code",
      "metadata": {
        "id": "2jdCXcqcGCxL"
      },
      "source": [],
      "execution_count": null,
      "outputs": []
    },
    {
      "cell_type": "code",
      "metadata": {
        "id": "Db3Zll65GDQd"
      },
      "source": [],
      "execution_count": null,
      "outputs": []
    },
    {
      "cell_type": "code",
      "metadata": {
        "id": "rRDeI_jjGDII"
      },
      "source": [],
      "execution_count": null,
      "outputs": []
    },
    {
      "cell_type": "code",
      "metadata": {
        "id": "zH4Bko6UGEc3"
      },
      "source": [],
      "execution_count": null,
      "outputs": []
    },
    {
      "cell_type": "code",
      "metadata": {
        "id": "C_wDWepRGCpL"
      },
      "source": [],
      "execution_count": null,
      "outputs": []
    },
    {
      "cell_type": "markdown",
      "metadata": {
        "id": "d9AXIRyNo7Mp"
      },
      "source": [
        "# Which Cities Make the Most Discoveries? \n",
        "\n",
        "Where do major discoveries take place?  \n",
        "\n",
        "**Challenge**: \n",
        "* Create another plotly bar chart graphing the top 20 organisation cities of the research institutions associated with a Nobel laureate. \n",
        "* Where is the number one hotspot for discoveries in the world?\n",
        "* Which city in Europe has had the most discoveries?"
      ]
    },
    {
      "cell_type": "code",
      "metadata": {
        "id": "sHYI5FLAGFRh"
      },
      "source": [],
      "execution_count": null,
      "outputs": []
    },
    {
      "cell_type": "code",
      "metadata": {
        "id": "rsI7xC0sGFOb"
      },
      "source": [],
      "execution_count": null,
      "outputs": []
    },
    {
      "cell_type": "markdown",
      "metadata": {
        "id": "R6UQrcixo7Mm"
      },
      "source": [
        "# Where are Nobel Laureates Born? Chart the Laureate Birth Cities \n",
        "\n",
        "**Challenge**: \n",
        "* Create a plotly bar chart graphing the top 20 birth cities of Nobel laureates. \n",
        "* Use a named colour scale called `Plasma` for the chart.\n",
        "* What percentage of the United States prizes came from Nobel laureates born in New York? \n",
        "* How many Nobel laureates were born in London, Paris and Vienna? \n",
        "* Out of the top 5 cities, how many are in the United States?\n"
      ]
    },
    {
      "cell_type": "code",
      "metadata": {
        "id": "JukPm21GGG9i"
      },
      "source": [],
      "execution_count": null,
      "outputs": []
    },
    {
      "cell_type": "code",
      "metadata": {
        "id": "t14pn2kxGG2C"
      },
      "source": [],
      "execution_count": null,
      "outputs": []
    },
    {
      "cell_type": "markdown",
      "metadata": {
        "id": "YN6KxT5oo7Mq"
      },
      "source": [
        "# Plotly Sunburst Chart: Combine Country, City, and Organisation\n",
        "\n",
        "**Challenge**: \n",
        "\n",
        "* Create a DataFrame that groups the number of prizes by organisation. \n",
        "* Then use the [plotly documentation to create a sunburst chart](https://plotly.com/python/sunburst-charts/)\n",
        "* Click around in your chart, what do you notice about Germany and France? \n",
        "\n",
        "\n",
        "Here's what you're aiming for:\n",
        "\n",
        "<img src=https://i.imgur.com/cemX4m5.png width=300>\n",
        "\n"
      ]
    },
    {
      "cell_type": "code",
      "metadata": {
        "id": "jGOx7MxCGI20"
      },
      "source": [],
      "execution_count": null,
      "outputs": []
    },
    {
      "cell_type": "code",
      "metadata": {
        "id": "l1DPxFgRGJBg"
      },
      "source": [],
      "execution_count": null,
      "outputs": []
    },
    {
      "cell_type": "code",
      "metadata": {
        "id": "BJQoljdqGIu3"
      },
      "source": [],
      "execution_count": null,
      "outputs": []
    },
    {
      "cell_type": "markdown",
      "metadata": {
        "id": "PW4jvWFWo7Mv"
      },
      "source": [
        "# Patterns in the Laureate Age at the Time of the Award\n",
        "\n",
        "How Old Are the Laureates When the Win the Prize?\n",
        "\n",
        "**Challenge**: Calculate the age of the laureate in the year of the ceremony and add this as a column called `winning_age` to the `df_data` DataFrame. Hint: you can use [this](https://pandas.pydata.org/pandas-docs/stable/reference/api/pandas.Series.dt.html) to help you. \n",
        "\n"
      ]
    },
    {
      "cell_type": "code",
      "metadata": {
        "id": "2f4JpfUCGLd2"
      },
      "source": [],
      "execution_count": null,
      "outputs": []
    },
    {
      "cell_type": "code",
      "metadata": {
        "id": "jHkFqlGnGLnf"
      },
      "source": [],
      "execution_count": null,
      "outputs": []
    },
    {
      "cell_type": "code",
      "metadata": {
        "id": "-Ooq0xoPGLV_"
      },
      "source": [],
      "execution_count": null,
      "outputs": []
    },
    {
      "cell_type": "markdown",
      "metadata": {
        "dc": {
          "key": "66"
        },
        "run_control": {
          "frozen": true
        },
        "tags": [
          "context"
        ],
        "id": "09344hnCo7My"
      },
      "source": [
        "### Who were the oldest and youngest winners?\n",
        "\n",
        "**Challenge**: \n",
        "* What are the names of the youngest and oldest Nobel laureate? \n",
        "* What did they win the prize for?\n",
        "* What is the average age of a winner?\n",
        "* 75% of laureates are younger than what age when they receive the prize?\n",
        "* Use Seaborn to [create histogram](https://seaborn.pydata.org/generated/seaborn.histplot.html) to visualise the distribution of laureate age at the time of winning. Experiment with the number of `bins` to see how the visualisation changes."
      ]
    },
    {
      "cell_type": "code",
      "metadata": {
        "id": "IzGfeUyNGNcR"
      },
      "source": [],
      "execution_count": null,
      "outputs": []
    },
    {
      "cell_type": "code",
      "metadata": {
        "id": "inN6ggCUGNUy"
      },
      "source": [],
      "execution_count": null,
      "outputs": []
    },
    {
      "cell_type": "markdown",
      "metadata": {
        "id": "UQxMUPddo6fo"
      },
      "source": [
        "### Descriptive Statistics for the Laureate Age at Time of Award\n",
        "\n",
        "* Calculate the descriptive statistics for the age at the time of the award. \n",
        "* Then visualise the distribution in the form of a histogram using [Seaborn's .histplot() function](https://seaborn.pydata.org/generated/seaborn.histplot.html).\n",
        "* Experiment with the `bin` size. Try 10, 20, 30, and 50.  "
      ]
    },
    {
      "cell_type": "code",
      "metadata": {
        "id": "6vlp5S0WGO98"
      },
      "source": [],
      "execution_count": null,
      "outputs": []
    },
    {
      "cell_type": "code",
      "metadata": {
        "id": "P6cAIrB5GO24"
      },
      "source": [],
      "execution_count": null,
      "outputs": []
    },
    {
      "cell_type": "markdown",
      "metadata": {
        "id": "gljdi8sxpkg7"
      },
      "source": [
        "### Age at Time of Award throughout History\n",
        "\n",
        "Are Nobel laureates being nominated later in life than before? Have the ages of laureates at the time of the award increased or decreased over time?\n",
        "\n",
        "**Challenge**\n",
        "\n",
        "* Use Seaborn to [create a .regplot](https://seaborn.pydata.org/generated/seaborn.regplot.html?highlight=regplot#seaborn.regplot) with a trendline.\n",
        "* Set the `lowess` parameter to `True` to show a moving average of the linear fit.\n",
        "* According to the best fit line, how old were Nobel laureates in the years 1900-1940 when they were awarded the prize?\n",
        "* According to the best fit line, what age would it predict for a Nobel laureate in 2020?\n"
      ]
    },
    {
      "cell_type": "code",
      "metadata": {
        "id": "AjUdtyB9GQ9w"
      },
      "source": [],
      "execution_count": null,
      "outputs": []
    },
    {
      "cell_type": "code",
      "metadata": {
        "id": "B_NsO6aaGQzu"
      },
      "source": [],
      "execution_count": null,
      "outputs": []
    },
    {
      "cell_type": "markdown",
      "metadata": {
        "dc": {
          "key": "59"
        },
        "run_control": {
          "frozen": true
        },
        "tags": [
          "context"
        ],
        "id": "CPFMftF9o7M5"
      },
      "source": [
        "### Winning Age Across the Nobel Prize Categories\n",
        "\n",
        "How does the age of laureates vary by category? \n",
        "\n",
        "* Use Seaborn's [`.boxplot()`](https://seaborn.pydata.org/generated/seaborn.boxplot.html?highlight=boxplot#seaborn.boxplot) to show how the mean, quartiles, max, and minimum values vary across categories. Which category has the longest \"whiskers\"? \n",
        "* In which prize category are the average winners the oldest?\n",
        "* In which prize category are the average winners the youngest?"
      ]
    },
    {
      "cell_type": "code",
      "metadata": {
        "id": "mbpG0Kj5GSxg"
      },
      "source": [],
      "execution_count": null,
      "outputs": []
    },
    {
      "cell_type": "code",
      "metadata": {
        "id": "WiGT3CmuGSqp"
      },
      "source": [],
      "execution_count": null,
      "outputs": []
    },
    {
      "cell_type": "markdown",
      "metadata": {
        "id": "M9qE0P4-8i5L"
      },
      "source": [
        "**Challenge**\n",
        "* Now use Seaborn's [`.lmplot()`](https://seaborn.pydata.org/generated/seaborn.lmplot.html?highlight=lmplot#seaborn.lmplot) and the `row` parameter to create 6 separate charts for each prize category. Again set `lowess` to `True`.\n",
        "* What are the winning age trends in each category? \n",
        "* Which category has the age trending up and which category has the age trending down? \n",
        "* Is this `.lmplot()` telling a different story from the `.boxplot()`?\n",
        "* Create another chart with Seaborn. This time use `.lmplot()` to put all 6 categories on the same chart using the `hue` parameter. \n"
      ]
    },
    {
      "cell_type": "code",
      "metadata": {
        "id": "HcdLGWC7GUb7"
      },
      "source": [],
      "execution_count": null,
      "outputs": []
    },
    {
      "cell_type": "code",
      "metadata": {
        "id": "8HwP_swVGUiq"
      },
      "source": [],
      "execution_count": null,
      "outputs": []
    },
    {
      "cell_type": "code",
      "metadata": {
        "id": "Ml9w1jFjGUTi"
      },
      "source": [],
      "execution_count": null,
      "outputs": []
    },
    {
      "cell_type": "code",
      "metadata": {
        "id": "PJD0-Opko7M_"
      },
      "source": [],
      "execution_count": null,
      "outputs": []
    },
    {
      "cell_type": "code",
      "metadata": {
        "id": "9F9f_2HZo7NA"
      },
      "source": [],
      "execution_count": null,
      "outputs": []
    }
  ]
}